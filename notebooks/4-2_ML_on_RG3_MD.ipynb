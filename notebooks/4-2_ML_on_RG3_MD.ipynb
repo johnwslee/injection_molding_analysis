{
 "cells": [
  {
   "cell_type": "markdown",
   "id": "bfeabc3c-3ebe-4c8f-85ad-e3c058209de0",
   "metadata": {},
   "source": [
    "# 0. Imports"
   ]
  },
  {
   "cell_type": "code",
   "execution_count": 1,
   "id": "97be1e08-f742-4664-9aae-cd34068183dc",
   "metadata": {},
   "outputs": [],
   "source": [
    "import pandas as pd\n",
    "import numpy as np\n",
    "import scipy as sp\n",
    "from scipy.stats import chi2\n",
    "import matplotlib.pyplot as plt\n",
    "import seaborn as sns\n",
    "\n",
    "from collections import defaultdict\n",
    "import time\n",
    "from datetime import timedelta\n",
    "\n",
    "from sklearn.preprocessing import MinMaxScaler, StandardScaler\n",
    "from sklearn.model_selection import train_test_split\n",
    "from sklearn.metrics import confusion_matrix, classification_report"
   ]
  },
  {
   "cell_type": "code",
   "execution_count": 2,
   "id": "a7a9ab4d-8b7f-4cc6-ab1c-0a8f751a5a1d",
   "metadata": {},
   "outputs": [],
   "source": [
    "# 한글 깨짐 문제 해결용\n",
    "from matplotlib import font_manager, rc\n",
    "plt.rcParams[\"axes.unicode_minus\"] = False\n",
    "path = \"C:\\Windows\\Fonts\\H2GTRM.TTF\"\n",
    "font_name = font_manager.FontProperties(fname=path).get_name()\n",
    "rc(\"font\", family=font_name)"
   ]
  },
  {
   "cell_type": "markdown",
   "id": "6749c29f-62cb-4c13-96a5-980a90d12888",
   "metadata": {},
   "source": [
    "# 1. Data"
   ]
  },
  {
   "cell_type": "code",
   "execution_count": 3,
   "id": "11d01b97-0d88-470d-b99a-72626c8b3e34",
   "metadata": {},
   "outputs": [],
   "source": [
    "rg3 = pd.read_csv(\"../data/processed/labeled_data_rg3.csv\", parse_dates=True)"
   ]
  },
  {
   "cell_type": "code",
   "execution_count": 4,
   "id": "0ffc6350-b5b1-4bc6-9ee3-e9c15362bb36",
   "metadata": {},
   "outputs": [
    {
     "name": "stdout",
     "output_type": "stream",
     "text": [
      "<class 'pandas.core.frame.DataFrame'>\n",
      "RangeIndex: 1256 entries, 0 to 1255\n",
      "Data columns (total 27 columns):\n",
      " #   Column                    Non-Null Count  Dtype  \n",
      "---  ------                    --------------  -----  \n",
      " 0   TimeStamp                 1256 non-null   object \n",
      " 1   _id                       1256 non-null   object \n",
      " 2   Filling_Time              1256 non-null   float64\n",
      " 3   Barrel_Temperature_2      1256 non-null   float64\n",
      " 4   Max_Injection_Pressure    1256 non-null   float64\n",
      " 5   Barrel_Temperature_4      1256 non-null   float64\n",
      " 6   Cushion_Position          1256 non-null   float64\n",
      " 7   Barrel_Temperature_5      1256 non-null   float64\n",
      " 8   Mold_Temperature_4        1256 non-null   float64\n",
      " 9   Injection_Time            1256 non-null   float64\n",
      " 10  Max_Injection_Speed       1256 non-null   float64\n",
      " 11  Barrel_Temperature_3      1256 non-null   float64\n",
      " 12  Average_Screw_RPM         1256 non-null   float64\n",
      " 13  Hopper_Temperature        1256 non-null   float64\n",
      " 14  Plasticizing_Position     1256 non-null   float64\n",
      " 15  Average_Back_Pressure     1256 non-null   float64\n",
      " 16  Mold_Temperature_3        1256 non-null   float64\n",
      " 17  Barrel_Temperature_1      1256 non-null   float64\n",
      " 18  Barrel_Temperature_6      1256 non-null   float64\n",
      " 19  Reason                    1256 non-null   object \n",
      " 20  Max_Switch_Over_Pressure  1256 non-null   float64\n",
      " 21  Cycle_Time                1256 non-null   float64\n",
      " 22  PassOrFail                1256 non-null   int64  \n",
      " 23  Max_Back_Pressure         1256 non-null   float64\n",
      " 24  Plasticizing_Time         1256 non-null   float64\n",
      " 25  Max_Screw_RPM             1256 non-null   float64\n",
      " 26  Clamp_Close_Time          1256 non-null   float64\n",
      "dtypes: float64(23), int64(1), object(3)\n",
      "memory usage: 265.1+ KB\n"
     ]
    }
   ],
   "source": [
    "rg3.info()"
   ]
  },
  {
   "cell_type": "markdown",
   "id": "d476ba58-0785-4370-b416-c80dfc0cad52",
   "metadata": {
    "tags": []
   },
   "source": [
    "# 2. 학습/평가 데이터 분리를 위한 데이터 전처리"
   ]
  },
  {
   "cell_type": "code",
   "execution_count": 5,
   "id": "c590b907-a130-47c5-aa88-d015f513cf94",
   "metadata": {},
   "outputs": [],
   "source": [
    "numerical_features = [x for x in rg3.columns if np.dtype(rg3[x]) == \"float64\"]"
   ]
  },
  {
   "cell_type": "code",
   "execution_count": 6,
   "id": "237d04da-6711-4dac-a72d-4038b3a97b6b",
   "metadata": {},
   "outputs": [
    {
     "data": {
      "text/plain": [
       "0    1224\n",
       "1      32\n",
       "Name: PassOrFail, dtype: int64"
      ]
     },
     "execution_count": 6,
     "metadata": {},
     "output_type": "execute_result"
    }
   ],
   "source": [
    "rg3[\"PassOrFail\"].value_counts()"
   ]
  },
  {
   "cell_type": "code",
   "execution_count": 7,
   "id": "7509fb43-d58a-4dda-afec-5c702ff26081",
   "metadata": {},
   "outputs": [
    {
     "name": "stdout",
     "output_type": "stream",
     "text": [
      "rg3의 양품 개수: 1224\n"
     ]
    }
   ],
   "source": [
    "# 양품\n",
    "rg3_Y = rg3[rg3[\"PassOrFail\"] == 0]\n",
    "print(\"rg3의 양품 개수:\", len(rg3_Y))"
   ]
  },
  {
   "cell_type": "code",
   "execution_count": 8,
   "id": "0ac9183e-d9b0-4380-a2c7-19126573a000",
   "metadata": {},
   "outputs": [
    {
     "name": "stdout",
     "output_type": "stream",
     "text": [
      "rg3의 불량 개수: 32\n"
     ]
    }
   ],
   "source": [
    "# 불량\n",
    "rg3_N = rg3[rg3[\"PassOrFail\"] == 1]\n",
    "print(\"rg3의 불량 개수:\", len(rg3_N))"
   ]
  },
  {
   "cell_type": "markdown",
   "id": "1593a4e4-887f-4b8a-b010-9a6d6634126c",
   "metadata": {},
   "source": [
    "**잡음 제거 오토인코더 모델에 학습시킬 데이터의 형태는 클래스 변수가 없어야 하므로 변수 \"PassOrFail\"을 제거함"
   ]
  },
  {
   "cell_type": "code",
   "execution_count": 9,
   "id": "1046c7ee-67a7-4516-be09-fb232f2f92d1",
   "metadata": {},
   "outputs": [],
   "source": [
    "# Data for passed parts\n",
    "rg3_Y = rg3_Y[numerical_features]\n",
    "# Data for Failed parts\n",
    "rg3_N = rg3_N[numerical_features]"
   ]
  },
  {
   "cell_type": "markdown",
   "id": "8035b2bf-446e-42a9-ba5c-27ec7dc4ef3c",
   "metadata": {},
   "source": [
    "#### 학습/평가 데이터 분리 (6:4 비율)"
   ]
  },
  {
   "cell_type": "code",
   "execution_count": 10,
   "id": "e53f855c-1c20-4c8d-8507-63924a0da65c",
   "metadata": {},
   "outputs": [
    {
     "data": {
      "text/plain": [
       "(1224, 23)"
      ]
     },
     "execution_count": 10,
     "metadata": {},
     "output_type": "execute_result"
    }
   ],
   "source": [
    "rg3_Y.shape"
   ]
  },
  {
   "cell_type": "code",
   "execution_count": 11,
   "id": "20110606-19d5-4e81-baaa-8eba73ca661a",
   "metadata": {},
   "outputs": [
    {
     "name": "stdout",
     "output_type": "stream",
     "text": [
      "rg3 학습 데이터 (양품) 개수: 1101\n",
      "rg3 평가 데이터 (양품) 개수: 123\n",
      "rg3 평가 데이터 (불량) 개수: 32\n"
     ]
    }
   ],
   "source": [
    "rg3_train_Y, rg3_test_Y = train_test_split(rg3_Y, test_size=0.1)\n",
    "\n",
    "# 평가 데이터 (불량)\n",
    "rg3_test_N = rg3_N\n",
    "\n",
    "print(f\"rg3 학습 데이터 (양품) 개수: {len(rg3_train_Y)}\")\n",
    "print(f\"rg3 평가 데이터 (양품) 개수: {len(rg3_test_Y)}\")\n",
    "print(f\"rg3 평가 데이터 (불량) 개수: {len(rg3_test_N)}\")"
   ]
  },
  {
   "cell_type": "code",
   "execution_count": 12,
   "id": "d2032b24-477d-4a02-87e8-a990aef8fea2",
   "metadata": {},
   "outputs": [],
   "source": [
    "# MinMaxscaler를 통한 데이터 정규화\n",
    "\n",
    "scaler = StandardScaler()\n",
    "\n",
    "rg3_train_Y = scaler.fit_transform(rg3_train_Y)\n",
    "rg3_test_Y = scaler.transform(rg3_test_Y)\n",
    "rg3_test_N = scaler.transform(rg3_test_N)"
   ]
  },
  {
   "cell_type": "markdown",
   "id": "0acdf843-6077-4018-b3ea-423452b90e39",
   "metadata": {},
   "source": [
    "# 3. Mahalanobis Distance"
   ]
  },
  {
   "cell_type": "code",
   "execution_count": 13,
   "id": "0ed8a91b-47be-49cc-945f-3c2a8ce09780",
   "metadata": {},
   "outputs": [],
   "source": [
    "def mahalanobis(x=None, data=None, cov=None):\n",
    "    \"\"\"\n",
    "    Compute the Mahalanobis Distance between each row of x and the data  \n",
    "    x    : vector or matrix of data with, say, p columns.\n",
    "    data : ndarray of the distribution from which Mahalanobis distance of each observation of x is to be computed.\n",
    "    cov  : covariance matrix (p x p) of the distribution. If None, will be computed from data.\n",
    "    \"\"\"\n",
    "    x_minus_mu = x - np.mean(data, axis=0)\n",
    "    if not cov:\n",
    "        cov = np.cov(data.T)\n",
    "        # cov = np.cov(data.values.T)\n",
    "    inv_covmat = sp.linalg.inv(cov)\n",
    "    left_term = np.dot(x_minus_mu, inv_covmat)\n",
    "    mahal = np.dot(left_term, x_minus_mu.T)\n",
    "    return mahal.diagonal()  # Can't understand why .diagonal() is used"
   ]
  },
  {
   "cell_type": "code",
   "execution_count": 14,
   "id": "cd7152de-3dd5-485c-ad8f-9db5628b3257",
   "metadata": {},
   "outputs": [],
   "source": [
    "class MahalanobisOneclassClassifier():\n",
    "    def __init__(self, xtrain, significance_level=0.01):\n",
    "        self.xtrain = xtrain\n",
    "        self.critical_value = chi2.ppf((1-significance_level), df=xtrain.shape[1] - 1) # df = degree of freedom\n",
    "        print('Critical value is: ', self.critical_value)\n",
    "\n",
    "    def predict_proba(self, xtest):\n",
    "        mahalanobis_dist = mahalanobis(xtest, self.xtrain)\n",
    "        self.pvalues = 1 - chi2.cdf(mahalanobis_dist, 2)\n",
    "        return mahalanobis_dist\n",
    "\n",
    "    def predict(self, xtest):\n",
    "        return np.array([int(i) for i in self.predict_proba(xtest) > self.critical_value])"
   ]
  },
  {
   "cell_type": "markdown",
   "id": "7a439320-3074-4e43-b4c8-450c1b4fde4a",
   "metadata": {},
   "source": [
    "# 4. 임계값 정의"
   ]
  },
  {
   "cell_type": "code",
   "execution_count": 15,
   "id": "260c938a-f2fb-4c64-99fb-fbf59d80887f",
   "metadata": {},
   "outputs": [
    {
     "name": "stdout",
     "output_type": "stream",
     "text": [
      "Critical value is:  30.813282343953027\n"
     ]
    }
   ],
   "source": [
    "clf = MahalanobisOneclassClassifier(rg3_train_Y, significance_level=0.1)"
   ]
  },
  {
   "cell_type": "code",
   "execution_count": 16,
   "id": "8ee61460-5e70-46e8-aba0-7527f193dcb7",
   "metadata": {},
   "outputs": [],
   "source": [
    "threshold = clf.critical_value"
   ]
  },
  {
   "cell_type": "markdown",
   "id": "6e674593-3220-409c-82bf-08b3f330cf2e",
   "metadata": {},
   "source": [
    "# 5. 데이터 각각의 예측값과 복원 오차 확인"
   ]
  },
  {
   "cell_type": "markdown",
   "id": "bcb19903-b68f-4fb5-9169-2f1c2f4bde9e",
   "metadata": {},
   "source": [
    "## 5.1. 평가 데이터 (양품) 대상 모델 성능 검증 "
   ]
  },
  {
   "cell_type": "code",
   "execution_count": 17,
   "id": "f13a656e-0223-41e7-8c88-a854000bcb48",
   "metadata": {},
   "outputs": [],
   "source": [
    "# 예측값\n",
    "rg3_MD_Y = clf.predict_proba(rg3_test_Y)"
   ]
  },
  {
   "cell_type": "code",
   "execution_count": 18,
   "id": "8a506893-c348-4942-ab36-97131a65b99d",
   "metadata": {},
   "outputs": [
    {
     "data": {
      "text/plain": [
       "(123,)"
      ]
     },
     "execution_count": 18,
     "metadata": {},
     "output_type": "execute_result"
    }
   ],
   "source": [
    "rg3_MD_Y.shape"
   ]
  },
  {
   "cell_type": "code",
   "execution_count": 19,
   "id": "5e57b830-3e15-4684-bdb7-ef7d5e1af119",
   "metadata": {},
   "outputs": [
    {
     "data": {
      "image/png": "[encoded data removed]",
      "text/plain": [
       "<Figure size 640x480 with 1 Axes>"
      ]
     },
     "metadata": {},
     "output_type": "display_data"
    }
   ],
   "source": [
    "# 시각화\n",
    "\n",
    "plt.hist(np.log(rg3_MD_Y), bins=200)\n",
    "plt.xlabel(\"Mahalanobis Distance\")\n",
    "plt.ylabel(\"No of samples\")\n",
    "plt.vlines(np.log(threshold), 0, 5, color=\"red\")\n",
    "plt.show();"
   ]
  },
  {
   "cell_type": "code",
   "execution_count": 20,
   "id": "1bbc188b-403f-4751-a161-ed63f8abc49f",
   "metadata": {},
   "outputs": [
    {
     "name": "stdout",
     "output_type": "stream",
     "text": [
      "불량 개수:  24\n",
      "정확도:  0.8048780487804879\n"
     ]
    }
   ],
   "source": [
    "# 불량으로 판단한 데이터 확인\n",
    "\n",
    "rg3_test_Y_anomalies = rg3_MD_Y > threshold\n",
    "print(\"불량 개수: \", np.sum(rg3_test_Y_anomalies))\n",
    "print(\"정확도: \", (rg3_test_Y.shape[0]-np.sum(rg3_test_Y_anomalies))/rg3_test_Y.shape[0])"
   ]
  },
  {
   "cell_type": "markdown",
   "id": "055407b1-4ea7-40c4-abca-00580ba44869",
   "metadata": {},
   "source": [
    "## 5.2. 평가 데이터 (불량) 대상 모델 성능 검증 "
   ]
  },
  {
   "cell_type": "code",
   "execution_count": 21,
   "id": "2dd8090b-ff11-4c2e-a7df-d23c4a1af6d3",
   "metadata": {},
   "outputs": [],
   "source": [
    "# 예측값\n",
    "rg3_MD_N = clf.predict_proba(rg3_test_N)"
   ]
  },
  {
   "cell_type": "code",
   "execution_count": 22,
   "id": "68f55c1a-f5d9-46a6-ae05-ca0113e3dc1c",
   "metadata": {},
   "outputs": [
    {
     "data": {
      "text/plain": [
       "array([ 24.83215836,  15.58041701,  16.16044695,  23.46360247,\n",
       "        19.2402382 ,  13.68875966,  19.52539164,  15.03613936,\n",
       "        22.77484979,  14.98041504,  21.74974947,  14.47753759,\n",
       "        16.69126884,  18.58449282,  17.01160266,  26.35725538,\n",
       "        22.95397805,  32.44740119,  13.76060442,  16.45761163,\n",
       "         7.49904115,  16.20866275,  16.68174278,  17.50213577,\n",
       "        30.00673157, 169.73061697,  56.0024358 ,  54.06884345,\n",
       "        58.653129  ,  35.79749596,  38.95000298,  39.49700499])"
      ]
     },
     "execution_count": 22,
     "metadata": {},
     "output_type": "execute_result"
    }
   ],
   "source": [
    "rg3_MD_N"
   ]
  },
  {
   "cell_type": "code",
   "execution_count": 23,
   "id": "81d6064b-f17e-43cf-a8fc-bbc96900e8af",
   "metadata": {},
   "outputs": [
    {
     "data": {
      "image/png": "[encoded data removed]",
      "text/plain": [
       "<Figure size 640x480 with 1 Axes>"
      ]
     },
     "metadata": {},
     "output_type": "display_data"
    }
   ],
   "source": [
    "# 시각화\n",
    "\n",
    "plt.hist(np.log(rg3_MD_N), bins=50)\n",
    "plt.xlabel(\"Mahalanobis Distance\")\n",
    "plt.ylabel(\"No of samples\")\n",
    "plt.vlines(np.log(threshold), 0, 5, color=\"red\")\n",
    "plt.show();"
   ]
  },
  {
   "cell_type": "code",
   "execution_count": 24,
   "id": "695fe8ac-cdda-4b8b-b41a-649f41993637",
   "metadata": {},
   "outputs": [
    {
     "name": "stdout",
     "output_type": "stream",
     "text": [
      "불량 개수:  8\n",
      "정확도:  0.25\n"
     ]
    }
   ],
   "source": [
    "# 불량으로 판단한 데이터 확인\n",
    "\n",
    "rg3_test_N_anomalies = rg3_MD_N > threshold\n",
    "print(\"불량 개수: \", np.sum(rg3_test_N_anomalies))\n",
    "print(\"정확도: \", np.sum(rg3_test_N_anomalies)/rg3_test_N.shape[0])"
   ]
  },
  {
   "cell_type": "markdown",
   "id": "d950e685-039b-415c-95e4-cccf396de964",
   "metadata": {},
   "source": [
    "# 6. 결과 분석"
   ]
  },
  {
   "cell_type": "code",
   "execution_count": 25,
   "id": "9068d6e4-eda8-464f-8f6d-ff38bd2cad87",
   "metadata": {},
   "outputs": [],
   "source": [
    "# 평가 데이터의 실제값\n",
    "\n",
    "rg3_true = np.concatenate(\n",
    "    [np.zeros(len(rg3_test_Y_anomalies)), np.ones(len(rg3_test_N_anomalies))]\n",
    ")"
   ]
  },
  {
   "cell_type": "code",
   "execution_count": 26,
   "id": "b3d1d971-bce1-4425-853f-2b6ec9d41b26",
   "metadata": {},
   "outputs": [
    {
     "data": {
      "text/plain": [
       "(155,)"
      ]
     },
     "execution_count": 26,
     "metadata": {},
     "output_type": "execute_result"
    }
   ],
   "source": [
    "rg3_true.shape"
   ]
  },
  {
   "cell_type": "code",
   "execution_count": 27,
   "id": "0130a09a-8455-4d42-884b-ae31fbb4e326",
   "metadata": {},
   "outputs": [],
   "source": [
    "# 평가 데이터의 예측값\n",
    "\n",
    "rg3_prediction = np.concatenate(\n",
    "    [rg3_test_Y_anomalies, rg3_test_N_anomalies]\n",
    ")"
   ]
  },
  {
   "cell_type": "code",
   "execution_count": 28,
   "id": "5d65637d-b14f-4dbc-85ae-1b02a6b56c18",
   "metadata": {},
   "outputs": [
    {
     "data": {
      "text/plain": [
       "(155,)"
      ]
     },
     "execution_count": 28,
     "metadata": {},
     "output_type": "execute_result"
    }
   ],
   "source": [
    "rg3_prediction.shape"
   ]
  },
  {
   "cell_type": "code",
   "execution_count": 29,
   "id": "09bf7653-cf80-414b-936c-16282d427e8a",
   "metadata": {},
   "outputs": [
    {
     "data": {
      "text/plain": [
       "array([[99, 24],\n",
       "       [24,  8]], dtype=int64)"
      ]
     },
     "execution_count": 29,
     "metadata": {},
     "output_type": "execute_result"
    }
   ],
   "source": [
    "confusion_matrix(rg3_true, rg3_prediction)"
   ]
  },
  {
   "cell_type": "code",
   "execution_count": 30,
   "id": "cff3821f-1959-42d7-96d1-2b7c4d727726",
   "metadata": {},
   "outputs": [
    {
     "name": "stdout",
     "output_type": "stream",
     "text": [
      "              precision    recall  f1-score   support\n",
      "\n",
      "         0.0       0.80      0.80      0.80       123\n",
      "         1.0       0.25      0.25      0.25        32\n",
      "\n",
      "    accuracy                           0.69       155\n",
      "   macro avg       0.53      0.53      0.53       155\n",
      "weighted avg       0.69      0.69      0.69       155\n",
      "\n"
     ]
    }
   ],
   "source": [
    "print(classification_report(rg3_true, rg3_prediction))"
   ]
  },
  {
   "cell_type": "code",
   "execution_count": null,
   "id": "d683b801-965e-439d-85c8-a8a037a6a5d3",
   "metadata": {},
   "outputs": [],
   "source": []
  }
 ],
 "metadata": {
  "kernelspec": {
   "display_name": "Python [conda env:ls_env]",
   "language": "python",
   "name": "conda-env-ls_env-py"
  },
  "language_info": {
   "codemirror_mode": {
    "name": "ipython",
    "version": 3
   },
   "file_extension": ".py",
   "mimetype": "text/x-python",
   "name": "python",
   "nbconvert_exporter": "python",
   "pygments_lexer": "ipython3",
   "version": "3.10.8"
  }
 },
 "nbformat": 4,
 "nbformat_minor": 5
}
