{
 "cells": [
  {
   "cell_type": "markdown",
   "id": "bfeabc3c-3ebe-4c8f-85ad-e3c058209de0",
   "metadata": {},
   "source": [
    "# 0. Imports"
   ]
  },
  {
   "cell_type": "code",
   "execution_count": 1,
   "id": "97be1e08-f742-4664-9aae-cd34068183dc",
   "metadata": {},
   "outputs": [],
   "source": [
    "import sys\n",
    "\n",
    "sys.path.append(\"../src/\")\n",
    "\n",
    "from utils import mean_std_cross_val_scores, plot_roc_curve\n",
    "\n",
    "import matplotlib.pyplot as plt\n",
    "import numpy as np\n",
    "import pandas as pd\n",
    "\n",
    "from catboost import CatBoostClassifier, CatBoostRegressor\n",
    "from lightgbm.sklearn import LGBMClassifier, LGBMRegressor\n",
    "from sklearn.compose import ColumnTransformer, make_column_transformer\n",
    "from sklearn.dummy import DummyClassifier, DummyRegressor\n",
    "from sklearn.ensemble import RandomForestClassifier, RandomForestRegressor\n",
    "from sklearn.feature_extraction.text import CountVectorizer\n",
    "from sklearn.impute import SimpleImputer\n",
    "from sklearn.inspection import permutation_importance\n",
    "from sklearn.linear_model import LogisticRegression, Ridge\n",
    "from sklearn.metrics import (\n",
    "    classification_report,\n",
    "    confusion_matrix,\n",
    "    f1_score,\n",
    "    roc_auc_score,\n",
    "    roc_curve,\n",
    ")\n",
    "from sklearn.model_selection import (\n",
    "    GridSearchCV,\n",
    "    RandomizedSearchCV,\n",
    "    cross_val_score,\n",
    "    cross_validate,\n",
    "    train_test_split,\n",
    ")\n",
    "from sklearn.naive_bayes import MultinomialNB\n",
    "from sklearn.pipeline import Pipeline, make_pipeline\n",
    "from sklearn.preprocessing import OneHotEncoder, OrdinalEncoder, StandardScaler\n",
    "from sklearn.svm import SVC, SVR\n",
    "from sklearn.tree import DecisionTreeClassifier, DecisionTreeRegressor\n",
    "from sklearn.utils import shuffle\n",
    "from xgboost import XGBClassifier, XGBRegressor\n",
    "\n",
    "from tqdm import tqdm\n",
    "\n",
    "import warnings\n",
    "warnings.filterwarnings('ignore')"
   ]
  },
  {
   "cell_type": "markdown",
   "id": "2ef4e5d7-3179-45ca-8d50-052c561a3e03",
   "metadata": {},
   "source": [
    "# 1. Data Preparation"
   ]
  },
  {
   "cell_type": "code",
   "execution_count": 2,
   "id": "cf967899-6162-455a-be84-0a4a53366a5d",
   "metadata": {},
   "outputs": [],
   "source": [
    "df = pd.read_csv(\"../data/processed/labeled_data_RG3.csv\", parse_dates=True)\n",
    "df.set_index(\"TimeStamp\", inplace=True)"
   ]
  },
  {
   "cell_type": "code",
   "execution_count": 3,
   "id": "d8224552-77f4-459c-93e8-b2094e2e24b1",
   "metadata": {},
   "outputs": [
    {
     "data": {
      "text/html": [
       "<div>\n",
       "<style scoped>\n",
       "    .dataframe tbody tr th:only-of-type {\n",
       "        vertical-align: middle;\n",
       "    }\n",
       "\n",
       "    .dataframe tbody tr th {\n",
       "        vertical-align: top;\n",
       "    }\n",
       "\n",
       "    .dataframe thead th {\n",
       "        text-align: right;\n",
       "    }\n",
       "</style>\n",
       "<table border=\"1\" class=\"dataframe\">\n",
       "  <thead>\n",
       "    <tr style=\"text-align: right;\">\n",
       "      <th></th>\n",
       "      <th>Plasticizing_Time</th>\n",
       "      <th>Average_Screw_RPM</th>\n",
       "      <th>Max_Injection_Speed</th>\n",
       "      <th>Filling_Time</th>\n",
       "      <th>Mold_Temperature_3</th>\n",
       "      <th>Injection_Time</th>\n",
       "      <th>Mold_Temperature_4</th>\n",
       "      <th>Max_Back_Pressure</th>\n",
       "      <th>Hopper_Temperature</th>\n",
       "      <th>Cycle_Time</th>\n",
       "      <th>PassOrFail</th>\n",
       "      <th>Max_Injection_Pressure</th>\n",
       "      <th>Plasticizing_Position</th>\n",
       "      <th>Max_Screw_RPM</th>\n",
       "      <th>Average_Back_Pressure</th>\n",
       "      <th>Max_Switch_Over_Pressure</th>\n",
       "      <th>_id</th>\n",
       "      <th>Reason</th>\n",
       "    </tr>\n",
       "    <tr>\n",
       "      <th>TimeStamp</th>\n",
       "      <th></th>\n",
       "      <th></th>\n",
       "      <th></th>\n",
       "      <th></th>\n",
       "      <th></th>\n",
       "      <th></th>\n",
       "      <th></th>\n",
       "      <th></th>\n",
       "      <th></th>\n",
       "      <th></th>\n",
       "      <th></th>\n",
       "      <th></th>\n",
       "      <th></th>\n",
       "      <th></th>\n",
       "      <th></th>\n",
       "      <th></th>\n",
       "      <th></th>\n",
       "      <th></th>\n",
       "    </tr>\n",
       "  </thead>\n",
       "  <tbody>\n",
       "    <tr>\n",
       "      <th>2020-10-21 00:57:37</th>\n",
       "      <td>13.01</td>\n",
       "      <td>290.500000</td>\n",
       "      <td>128.500000</td>\n",
       "      <td>0.93</td>\n",
       "      <td>21.6</td>\n",
       "      <td>1.06</td>\n",
       "      <td>22.5</td>\n",
       "      <td>55.599998</td>\n",
       "      <td>65.800003</td>\n",
       "      <td>61.779999</td>\n",
       "      <td>0</td>\n",
       "      <td>142.300003</td>\n",
       "      <td>53.560001</td>\n",
       "      <td>30.9</td>\n",
       "      <td>60.299999</td>\n",
       "      <td>115.699997</td>\n",
       "      <td>5f8f87c09c0189cc6679187a</td>\n",
       "      <td>None</td>\n",
       "    </tr>\n",
       "    <tr>\n",
       "      <th>2020-10-21 00:57:37</th>\n",
       "      <td>13.01</td>\n",
       "      <td>290.500000</td>\n",
       "      <td>128.500000</td>\n",
       "      <td>0.93</td>\n",
       "      <td>21.6</td>\n",
       "      <td>1.06</td>\n",
       "      <td>22.5</td>\n",
       "      <td>55.599998</td>\n",
       "      <td>65.800003</td>\n",
       "      <td>61.779999</td>\n",
       "      <td>0</td>\n",
       "      <td>142.300003</td>\n",
       "      <td>53.560001</td>\n",
       "      <td>30.9</td>\n",
       "      <td>60.299999</td>\n",
       "      <td>115.699997</td>\n",
       "      <td>5f8f87c09c0189cc6679187d</td>\n",
       "      <td>None</td>\n",
       "    </tr>\n",
       "    <tr>\n",
       "      <th>2020-10-21 00:56:34</th>\n",
       "      <td>12.99</td>\n",
       "      <td>290.500000</td>\n",
       "      <td>128.500000</td>\n",
       "      <td>0.93</td>\n",
       "      <td>21.5</td>\n",
       "      <td>1.06</td>\n",
       "      <td>22.5</td>\n",
       "      <td>55.700001</td>\n",
       "      <td>65.800003</td>\n",
       "      <td>61.779999</td>\n",
       "      <td>0</td>\n",
       "      <td>142.399994</td>\n",
       "      <td>53.580002</td>\n",
       "      <td>30.9</td>\n",
       "      <td>60.500000</td>\n",
       "      <td>115.800003</td>\n",
       "      <td>5f8f87c09c0189cc66791885</td>\n",
       "      <td>None</td>\n",
       "    </tr>\n",
       "    <tr>\n",
       "      <th>2020-10-21 00:56:34</th>\n",
       "      <td>12.99</td>\n",
       "      <td>290.500000</td>\n",
       "      <td>128.500000</td>\n",
       "      <td>0.93</td>\n",
       "      <td>21.5</td>\n",
       "      <td>1.06</td>\n",
       "      <td>22.5</td>\n",
       "      <td>55.700001</td>\n",
       "      <td>65.800003</td>\n",
       "      <td>61.779999</td>\n",
       "      <td>0</td>\n",
       "      <td>142.399994</td>\n",
       "      <td>53.580002</td>\n",
       "      <td>30.9</td>\n",
       "      <td>60.500000</td>\n",
       "      <td>115.800003</td>\n",
       "      <td>5f8f87c19c0189cc66791888</td>\n",
       "      <td>None</td>\n",
       "    </tr>\n",
       "    <tr>\n",
       "      <th>2020-10-21 00:55:34</th>\n",
       "      <td>12.95</td>\n",
       "      <td>290.700012</td>\n",
       "      <td>128.399994</td>\n",
       "      <td>0.93</td>\n",
       "      <td>21.5</td>\n",
       "      <td>1.06</td>\n",
       "      <td>22.5</td>\n",
       "      <td>55.799999</td>\n",
       "      <td>65.900002</td>\n",
       "      <td>61.759998</td>\n",
       "      <td>0</td>\n",
       "      <td>142.500000</td>\n",
       "      <td>53.560001</td>\n",
       "      <td>30.9</td>\n",
       "      <td>60.200001</td>\n",
       "      <td>116.000000</td>\n",
       "      <td>5f8f87c29c0189cc6679188e</td>\n",
       "      <td>None</td>\n",
       "    </tr>\n",
       "  </tbody>\n",
       "</table>\n",
       "</div>"
      ],
      "text/plain": [
       "                     Plasticizing_Time  Average_Screw_RPM  \\\n",
       "TimeStamp                                                   \n",
       "2020-10-21 00:57:37              13.01         290.500000   \n",
       "2020-10-21 00:57:37              13.01         290.500000   \n",
       "2020-10-21 00:56:34              12.99         290.500000   \n",
       "2020-10-21 00:56:34              12.99         290.500000   \n",
       "2020-10-21 00:55:34              12.95         290.700012   \n",
       "\n",
       "                     Max_Injection_Speed  Filling_Time  Mold_Temperature_3  \\\n",
       "TimeStamp                                                                    \n",
       "2020-10-21 00:57:37           128.500000          0.93                21.6   \n",
       "2020-10-21 00:57:37           128.500000          0.93                21.6   \n",
       "2020-10-21 00:56:34           128.500000          0.93                21.5   \n",
       "2020-10-21 00:56:34           128.500000          0.93                21.5   \n",
       "2020-10-21 00:55:34           128.399994          0.93                21.5   \n",
       "\n",
       "                     Injection_Time  Mold_Temperature_4  Max_Back_Pressure  \\\n",
       "TimeStamp                                                                    \n",
       "2020-10-21 00:57:37            1.06                22.5          55.599998   \n",
       "2020-10-21 00:57:37            1.06                22.5          55.599998   \n",
       "2020-10-21 00:56:34            1.06                22.5          55.700001   \n",
       "2020-10-21 00:56:34            1.06                22.5          55.700001   \n",
       "2020-10-21 00:55:34            1.06                22.5          55.799999   \n",
       "\n",
       "                     Hopper_Temperature  Cycle_Time  PassOrFail  \\\n",
       "TimeStamp                                                         \n",
       "2020-10-21 00:57:37           65.800003   61.779999           0   \n",
       "2020-10-21 00:57:37           65.800003   61.779999           0   \n",
       "2020-10-21 00:56:34           65.800003   61.779999           0   \n",
       "2020-10-21 00:56:34           65.800003   61.779999           0   \n",
       "2020-10-21 00:55:34           65.900002   61.759998           0   \n",
       "\n",
       "                     Max_Injection_Pressure  Plasticizing_Position  \\\n",
       "TimeStamp                                                            \n",
       "2020-10-21 00:57:37              142.300003              53.560001   \n",
       "2020-10-21 00:57:37              142.300003              53.560001   \n",
       "2020-10-21 00:56:34              142.399994              53.580002   \n",
       "2020-10-21 00:56:34              142.399994              53.580002   \n",
       "2020-10-21 00:55:34              142.500000              53.560001   \n",
       "\n",
       "                     Max_Screw_RPM  Average_Back_Pressure  \\\n",
       "TimeStamp                                                   \n",
       "2020-10-21 00:57:37           30.9              60.299999   \n",
       "2020-10-21 00:57:37           30.9              60.299999   \n",
       "2020-10-21 00:56:34           30.9              60.500000   \n",
       "2020-10-21 00:56:34           30.9              60.500000   \n",
       "2020-10-21 00:55:34           30.9              60.200001   \n",
       "\n",
       "                     Max_Switch_Over_Pressure                       _id Reason  \n",
       "TimeStamp                                                                       \n",
       "2020-10-21 00:57:37                115.699997  5f8f87c09c0189cc6679187a   None  \n",
       "2020-10-21 00:57:37                115.699997  5f8f87c09c0189cc6679187d   None  \n",
       "2020-10-21 00:56:34                115.800003  5f8f87c09c0189cc66791885   None  \n",
       "2020-10-21 00:56:34                115.800003  5f8f87c19c0189cc66791888   None  \n",
       "2020-10-21 00:55:34                116.000000  5f8f87c29c0189cc6679188e   None  "
      ]
     },
     "execution_count": 3,
     "metadata": {},
     "output_type": "execute_result"
    }
   ],
   "source": [
    "df.head()"
   ]
  },
  {
   "cell_type": "code",
   "execution_count": 4,
   "id": "fb3c4e09-0ad3-43c1-bbb3-f5cebfa2e95f",
   "metadata": {},
   "outputs": [],
   "source": [
    "numerical_features = [x for x in df.columns if np.dtype(df[x]) == \"float64\"]\n",
    "target = [\"PassOrFail\"]\n",
    "drop_features = set(list(df.columns)) - set(numerical_features) - set(target)"
   ]
  },
  {
   "cell_type": "code",
   "execution_count": 5,
   "id": "9f855603-34af-4ef9-87cd-60d93fc8ca60",
   "metadata": {},
   "outputs": [],
   "source": [
    "X = df[numerical_features]\n",
    "y = df[\"PassOrFail\"]"
   ]
  },
  {
   "cell_type": "code",
   "execution_count": 6,
   "id": "57acbc71-b3b8-4b33-90b4-0c803fd50839",
   "metadata": {},
   "outputs": [],
   "source": [
    "X_train, X_test, y_train, y_test = train_test_split(\n",
    "    X, y, test_size=0.3, random_state=123, stratify=y\n",
    ")"
   ]
  },
  {
   "cell_type": "markdown",
   "id": "ab13b14a-4345-4610-9f54-53782a8aa724",
   "metadata": {},
   "source": [
    "# 2. Machine Learning"
   ]
  },
  {
   "cell_type": "code",
   "execution_count": 7,
   "id": "cb4978c7-7aad-4ccc-b766-8cb0a3a9a85d",
   "metadata": {},
   "outputs": [],
   "source": [
    "results = {}"
   ]
  },
  {
   "cell_type": "markdown",
   "id": "9b982482-6f0e-4baf-b503-d26228a12a51",
   "metadata": {},
   "source": [
    "## 2.1. Baseline Model"
   ]
  },
  {
   "cell_type": "code",
   "execution_count": 8,
   "id": "9d71270f-2426-4907-86a5-f93e378c1f9c",
   "metadata": {
    "tags": []
   },
   "outputs": [],
   "source": [
    "pipe_dummy = make_pipeline(StandardScaler(), DummyClassifier())"
   ]
  },
  {
   "cell_type": "code",
   "execution_count": 9,
   "id": "69fe8a14-ae16-4728-994c-d17b19f8fd78",
   "metadata": {},
   "outputs": [],
   "source": [
    "results[\"Dummy\"] = mean_std_cross_val_scores(\n",
    "    pipe_dummy, X_train, y_train, return_train_score=True, scoring=\"f1\"\n",
    ")"
   ]
  },
  {
   "cell_type": "code",
   "execution_count": 10,
   "id": "a82d6ab3-ba92-46aa-896e-3bb579d484f6",
   "metadata": {},
   "outputs": [
    {
     "data": {
      "text/html": [
       "<div>\n",
       "<style scoped>\n",
       "    .dataframe tbody tr th:only-of-type {\n",
       "        vertical-align: middle;\n",
       "    }\n",
       "\n",
       "    .dataframe tbody tr th {\n",
       "        vertical-align: top;\n",
       "    }\n",
       "\n",
       "    .dataframe thead th {\n",
       "        text-align: right;\n",
       "    }\n",
       "</style>\n",
       "<table border=\"1\" class=\"dataframe\">\n",
       "  <thead>\n",
       "    <tr style=\"text-align: right;\">\n",
       "      <th></th>\n",
       "      <th>Dummy</th>\n",
       "    </tr>\n",
       "  </thead>\n",
       "  <tbody>\n",
       "    <tr>\n",
       "      <th>fit_time</th>\n",
       "      <td>0.004 (+/- 0.001)</td>\n",
       "    </tr>\n",
       "    <tr>\n",
       "      <th>score_time</th>\n",
       "      <td>0.003 (+/- 0.001)</td>\n",
       "    </tr>\n",
       "    <tr>\n",
       "      <th>test_score</th>\n",
       "      <td>0.000 (+/- 0.000)</td>\n",
       "    </tr>\n",
       "    <tr>\n",
       "      <th>train_score</th>\n",
       "      <td>0.000 (+/- 0.000)</td>\n",
       "    </tr>\n",
       "  </tbody>\n",
       "</table>\n",
       "</div>"
      ],
      "text/plain": [
       "                         Dummy\n",
       "fit_time     0.004 (+/- 0.001)\n",
       "score_time   0.003 (+/- 0.001)\n",
       "test_score   0.000 (+/- 0.000)\n",
       "train_score  0.000 (+/- 0.000)"
      ]
     },
     "execution_count": 10,
     "metadata": {},
     "output_type": "execute_result"
    }
   ],
   "source": [
    "pd.DataFrame(results)"
   ]
  },
  {
   "cell_type": "markdown",
   "id": "61f2f2fa-8f2a-4f13-b180-ea1251fd15a9",
   "metadata": {},
   "source": [
    "## 2.2. ML Models"
   ]
  },
  {
   "cell_type": "markdown",
   "id": "2bfa6cf7-46aa-4ea3-96d9-51be7a6b248e",
   "metadata": {},
   "source": [
    "#### 2.2.1. Cross-Validation"
   ]
  },
  {
   "cell_type": "code",
   "execution_count": 11,
   "id": "bde7c999-e841-4d7a-a30b-9555bee12f59",
   "metadata": {},
   "outputs": [],
   "source": [
    "pipe_dt = make_pipeline(StandardScaler(), DecisionTreeClassifier(random_state=123))\n",
    "pipe_lr = make_pipeline(StandardScaler(), LogisticRegression(random_state=123))\n",
    "pipe_svc = make_pipeline(StandardScaler(), SVC(random_state=123, probability=True))\n",
    "pipe_rf = make_pipeline(StandardScaler(), RandomForestClassifier(random_state=123))\n",
    "pipe_xgb = make_pipeline(StandardScaler(), XGBClassifier(random_state=123, verbosity=0))\n",
    "pipe_lgbm = make_pipeline(StandardScaler(), LGBMClassifier(random_state=123))\n",
    "pipe_catb = make_pipeline(\n",
    "    StandardScaler(), CatBoostClassifier(random_state=123, verbose=0)\n",
    ")"
   ]
  },
  {
   "cell_type": "code",
   "execution_count": 12,
   "id": "0ce03e99-2587-4db3-a3ae-ef9dc333b0ce",
   "metadata": {},
   "outputs": [],
   "source": [
    "models = {\n",
    "    \"decision_tree\": pipe_dt,\n",
    "    \"logistic_regression\": pipe_lr,\n",
    "    \"SVC\": pipe_svc,\n",
    "    \"random_forest\": pipe_rf,\n",
    "    \"XGBoost\": pipe_xgb,\n",
    "    \"LightGBM\": pipe_lgbm,\n",
    "    \"CatBoost\": pipe_catb,\n",
    "}"
   ]
  },
  {
   "cell_type": "code",
   "execution_count": 13,
   "id": "d72b25b8-6900-4bea-a6e6-a30e4e4cfd61",
   "metadata": {},
   "outputs": [
    {
     "name": "stderr",
     "output_type": "stream",
     "text": [
      "100%|████████████████████████████████████████████████████████████████████████████████████| 7/7 [00:13<00:00,  1.94s/it]\n"
     ]
    }
   ],
   "source": [
    "for name, model in tqdm(models.items()):\n",
    "    results[name] = mean_std_cross_val_scores(\n",
    "        model, X_train, y_train, return_train_score=True, scoring=\"f1\"\n",
    "    )"
   ]
  },
  {
   "cell_type": "code",
   "execution_count": 14,
   "id": "52d5a8aa-5755-4092-8d6b-bcf55c19edaa",
   "metadata": {},
   "outputs": [
    {
     "data": {
      "text/html": [
       "<div>\n",
       "<style scoped>\n",
       "    .dataframe tbody tr th:only-of-type {\n",
       "        vertical-align: middle;\n",
       "    }\n",
       "\n",
       "    .dataframe tbody tr th {\n",
       "        vertical-align: top;\n",
       "    }\n",
       "\n",
       "    .dataframe thead th {\n",
       "        text-align: right;\n",
       "    }\n",
       "</style>\n",
       "<table border=\"1\" class=\"dataframe\">\n",
       "  <thead>\n",
       "    <tr style=\"text-align: right;\">\n",
       "      <th></th>\n",
       "      <th>Dummy</th>\n",
       "      <th>decision_tree</th>\n",
       "      <th>logistic_regression</th>\n",
       "      <th>SVC</th>\n",
       "      <th>random_forest</th>\n",
       "      <th>XGBoost</th>\n",
       "      <th>LightGBM</th>\n",
       "      <th>CatBoost</th>\n",
       "    </tr>\n",
       "  </thead>\n",
       "  <tbody>\n",
       "    <tr>\n",
       "      <th>fit_time</th>\n",
       "      <td>0.004 (+/- 0.001)</td>\n",
       "      <td>0.006 (+/- 0.001)</td>\n",
       "      <td>0.012 (+/- 0.003)</td>\n",
       "      <td>0.033 (+/- 0.005)</td>\n",
       "      <td>0.156 (+/- 0.021)</td>\n",
       "      <td>0.320 (+/- 0.527)</td>\n",
       "      <td>0.085 (+/- 0.008)</td>\n",
       "      <td>1.992 (+/- 0.316)</td>\n",
       "    </tr>\n",
       "    <tr>\n",
       "      <th>score_time</th>\n",
       "      <td>0.003 (+/- 0.001)</td>\n",
       "      <td>0.002 (+/- 0.000)</td>\n",
       "      <td>0.003 (+/- 0.001)</td>\n",
       "      <td>0.005 (+/- 0.002)</td>\n",
       "      <td>0.013 (+/- 0.003)</td>\n",
       "      <td>0.009 (+/- 0.001)</td>\n",
       "      <td>0.007 (+/- 0.001)</td>\n",
       "      <td>0.004 (+/- 0.000)</td>\n",
       "    </tr>\n",
       "    <tr>\n",
       "      <th>test_score</th>\n",
       "      <td>0.000 (+/- 0.000)</td>\n",
       "      <td>0.000 (+/- 0.000)</td>\n",
       "      <td>0.000 (+/- 0.000)</td>\n",
       "      <td>0.000 (+/- 0.000)</td>\n",
       "      <td>0.000 (+/- 0.000)</td>\n",
       "      <td>0.000 (+/- 0.000)</td>\n",
       "      <td>0.000 (+/- 0.000)</td>\n",
       "      <td>0.000 (+/- 0.000)</td>\n",
       "    </tr>\n",
       "    <tr>\n",
       "      <th>train_score</th>\n",
       "      <td>0.000 (+/- 0.000)</td>\n",
       "      <td>0.640 (+/- 0.097)</td>\n",
       "      <td>0.000 (+/- 0.000)</td>\n",
       "      <td>0.000 (+/- 0.000)</td>\n",
       "      <td>0.648 (+/- 0.087)</td>\n",
       "      <td>0.663 (+/- 0.084)</td>\n",
       "      <td>0.655 (+/- 0.095)</td>\n",
       "      <td>0.403 (+/- 0.135)</td>\n",
       "    </tr>\n",
       "  </tbody>\n",
       "</table>\n",
       "</div>"
      ],
      "text/plain": [
       "                         Dummy      decision_tree logistic_regression  \\\n",
       "fit_time     0.004 (+/- 0.001)  0.006 (+/- 0.001)   0.012 (+/- 0.003)   \n",
       "score_time   0.003 (+/- 0.001)  0.002 (+/- 0.000)   0.003 (+/- 0.001)   \n",
       "test_score   0.000 (+/- 0.000)  0.000 (+/- 0.000)   0.000 (+/- 0.000)   \n",
       "train_score  0.000 (+/- 0.000)  0.640 (+/- 0.097)   0.000 (+/- 0.000)   \n",
       "\n",
       "                           SVC      random_forest            XGBoost  \\\n",
       "fit_time     0.033 (+/- 0.005)  0.156 (+/- 0.021)  0.320 (+/- 0.527)   \n",
       "score_time   0.005 (+/- 0.002)  0.013 (+/- 0.003)  0.009 (+/- 0.001)   \n",
       "test_score   0.000 (+/- 0.000)  0.000 (+/- 0.000)  0.000 (+/- 0.000)   \n",
       "train_score  0.000 (+/- 0.000)  0.648 (+/- 0.087)  0.663 (+/- 0.084)   \n",
       "\n",
       "                      LightGBM           CatBoost  \n",
       "fit_time     0.085 (+/- 0.008)  1.992 (+/- 0.316)  \n",
       "score_time   0.007 (+/- 0.001)  0.004 (+/- 0.000)  \n",
       "test_score   0.000 (+/- 0.000)  0.000 (+/- 0.000)  \n",
       "train_score  0.655 (+/- 0.095)  0.403 (+/- 0.135)  "
      ]
     },
     "execution_count": 14,
     "metadata": {},
     "output_type": "execute_result"
    }
   ],
   "source": [
    "pd.DataFrame(results)"
   ]
  },
  {
   "cell_type": "markdown",
   "id": "66280378-d76a-47d9-b8fc-3c3c468ceb85",
   "metadata": {},
   "source": [
    "#### 2.2.2. Confusion Matrix & Classification Report"
   ]
  },
  {
   "cell_type": "code",
   "execution_count": 15,
   "id": "9b18410f-fbcc-4103-8705-75d1d5ba8c1e",
   "metadata": {},
   "outputs": [
    {
     "name": "stdout",
     "output_type": "stream",
     "text": [
      "Confusion Matrix for decision_tree\n",
      "[[359   8]\n",
      " [  9   1]]\n",
      "\n",
      "\n",
      "Classification Report for decision_tree\n",
      "              precision    recall  f1-score   support\n",
      "\n",
      "           0       0.98      0.98      0.98       367\n",
      "           1       0.11      0.10      0.11        10\n",
      "\n",
      "    accuracy                           0.95       377\n",
      "   macro avg       0.54      0.54      0.54       377\n",
      "weighted avg       0.95      0.95      0.95       377\n",
      "\n",
      "-----------------------------------------------------\n",
      "Confusion Matrix for logistic_regression\n",
      "[[367   0]\n",
      " [ 10   0]]\n",
      "\n",
      "\n",
      "Classification Report for logistic_regression\n",
      "              precision    recall  f1-score   support\n",
      "\n",
      "           0       0.97      1.00      0.99       367\n",
      "           1       0.00      0.00      0.00        10\n",
      "\n",
      "    accuracy                           0.97       377\n",
      "   macro avg       0.49      0.50      0.49       377\n",
      "weighted avg       0.95      0.97      0.96       377\n",
      "\n",
      "-----------------------------------------------------\n",
      "Confusion Matrix for SVC\n",
      "[[367   0]\n",
      " [ 10   0]]\n",
      "\n",
      "\n",
      "Classification Report for SVC\n",
      "              precision    recall  f1-score   support\n",
      "\n",
      "           0       0.97      1.00      0.99       367\n",
      "           1       0.00      0.00      0.00        10\n",
      "\n",
      "    accuracy                           0.97       377\n",
      "   macro avg       0.49      0.50      0.49       377\n",
      "weighted avg       0.95      0.97      0.96       377\n",
      "\n",
      "-----------------------------------------------------\n",
      "Confusion Matrix for random_forest\n",
      "[[360   7]\n",
      " [ 10   0]]\n",
      "\n",
      "\n",
      "Classification Report for random_forest\n",
      "              precision    recall  f1-score   support\n",
      "\n",
      "           0       0.97      0.98      0.98       367\n",
      "           1       0.00      0.00      0.00        10\n",
      "\n",
      "    accuracy                           0.95       377\n",
      "   macro avg       0.49      0.49      0.49       377\n",
      "weighted avg       0.95      0.95      0.95       377\n",
      "\n",
      "-----------------------------------------------------\n",
      "Confusion Matrix for XGBoost\n",
      "[[360   7]\n",
      " [ 10   0]]\n",
      "\n",
      "\n",
      "Classification Report for XGBoost\n",
      "              precision    recall  f1-score   support\n",
      "\n",
      "           0       0.97      0.98      0.98       367\n",
      "           1       0.00      0.00      0.00        10\n",
      "\n",
      "    accuracy                           0.95       377\n",
      "   macro avg       0.49      0.49      0.49       377\n",
      "weighted avg       0.95      0.95      0.95       377\n",
      "\n",
      "-----------------------------------------------------\n",
      "Confusion Matrix for LightGBM\n",
      "[[360   7]\n",
      " [ 10   0]]\n",
      "\n",
      "\n",
      "Classification Report for LightGBM\n",
      "              precision    recall  f1-score   support\n",
      "\n",
      "           0       0.97      0.98      0.98       367\n",
      "           1       0.00      0.00      0.00        10\n",
      "\n",
      "    accuracy                           0.95       377\n",
      "   macro avg       0.49      0.49      0.49       377\n",
      "weighted avg       0.95      0.95      0.95       377\n",
      "\n",
      "-----------------------------------------------------\n",
      "Confusion Matrix for CatBoost\n",
      "[[363   4]\n",
      " [ 10   0]]\n",
      "\n",
      "\n",
      "Classification Report for CatBoost\n",
      "              precision    recall  f1-score   support\n",
      "\n",
      "           0       0.97      0.99      0.98       367\n",
      "           1       0.00      0.00      0.00        10\n",
      "\n",
      "    accuracy                           0.96       377\n",
      "   macro avg       0.49      0.49      0.49       377\n",
      "weighted avg       0.95      0.96      0.96       377\n",
      "\n",
      "-----------------------------------------------------\n"
     ]
    }
   ],
   "source": [
    "for name, model in models.items():\n",
    "    model.fit(X_train, y_train)\n",
    "    y_pred = model.predict(X_test)\n",
    "    print(f\"Confusion Matrix for {name}\")\n",
    "    print(confusion_matrix(y_test, y_pred))\n",
    "    print(\"\\n\")\n",
    "    print(f\"Classification Report for {name}\")\n",
    "    print(classification_report(y_test, y_pred))\n",
    "    print(\"-----------------------------------------------------\")"
   ]
  },
  {
   "cell_type": "markdown",
   "id": "79d883ae-2499-405e-86ce-df2b2b6f4b63",
   "metadata": {
    "tags": []
   },
   "source": [
    "#### 2.2.3. ROC Curve"
   ]
  },
  {
   "cell_type": "code",
   "execution_count": 16,
   "id": "f55aef02-169b-4a81-bb1c-f232a26cc0ec",
   "metadata": {},
   "outputs": [
    {
     "name": "stdout",
     "output_type": "stream",
     "text": [
      "ROC Curve for decision_tree\n"
     ]
    },
    {
     "data": {
      "image/png": "[encoded data removed]",
      "text/plain": [
       "<Figure size 300x250 with 1 Axes>"
      ]
     },
     "metadata": {},
     "output_type": "display_data"
    },
    {
     "name": "stdout",
     "output_type": "stream",
     "text": [
      "f1 score of decision_tree : 0.11\n",
      "-----------------------------------------------------\n",
      "ROC Curve for logistic_regression\n"
     ]
    },
    {
     "data": {
      "image/png": "[encoded data removed]",
      "text/plain": [
       "<Figure size 300x250 with 1 Axes>"
      ]
     },
     "metadata": {},
     "output_type": "display_data"
    },
    {
     "name": "stdout",
     "output_type": "stream",
     "text": [
      "f1 score of logistic_regression : 0.0\n",
      "-----------------------------------------------------\n",
      "ROC Curve for SVC\n"
     ]
    },
    {
     "data": {
      "image/png": "[encoded data removed]",
      "text/plain": [
       "<Figure size 300x250 with 1 Axes>"
      ]
     },
     "metadata": {},
     "output_type": "display_data"
    },
    {
     "name": "stdout",
     "output_type": "stream",
     "text": [
      "f1 score of SVC : 0.0\n",
      "-----------------------------------------------------\n",
      "ROC Curve for random_forest\n"
     ]
    },
    {
     "data": {
      "image/png": "[encoded data removed]",
      "text/plain": [
       "<Figure size 300x250 with 1 Axes>"
      ]
     },
     "metadata": {},
     "output_type": "display_data"
    },
    {
     "name": "stdout",
     "output_type": "stream",
     "text": [
      "f1 score of random_forest : 0.0\n",
      "-----------------------------------------------------\n",
      "ROC Curve for XGBoost\n"
     ]
    },
    {
     "data": {
      "image/png": "[encoded data removed]",
      "text/plain": [
       "<Figure size 300x250 with 1 Axes>"
      ]
     },
     "metadata": {},
     "output_type": "display_data"
    },
    {
     "name": "stdout",
     "output_type": "stream",
     "text": [
      "f1 score of XGBoost : 0.0\n",
      "-----------------------------------------------------\n",
      "ROC Curve for LightGBM\n"
     ]
    },
    {
     "data": {
      "image/png": "[encoded data removed]",
      "text/plain": [
       "<Figure size 300x250 with 1 Axes>"
      ]
     },
     "metadata": {},
     "output_type": "display_data"
    },
    {
     "name": "stdout",
     "output_type": "stream",
     "text": [
      "f1 score of LightGBM : 0.0\n",
      "-----------------------------------------------------\n",
      "ROC Curve for CatBoost\n"
     ]
    },
    {
     "data": {
      "image/png": "[encoded data removed]",
      "text/plain": [
       "<Figure size 300x250 with 1 Axes>"
      ]
     },
     "metadata": {},
     "output_type": "display_data"
    },
    {
     "name": "stdout",
     "output_type": "stream",
     "text": [
      "f1 score of CatBoost : 0.0\n",
      "-----------------------------------------------------\n"
     ]
    }
   ],
   "source": [
    "for name, model in models.items():\n",
    "    print(f\"ROC Curve for {name}\")\n",
    "    model.fit(X_train, y_train)\n",
    "    y_prob = model.predict_proba(X_test)\n",
    "    y_pred = model.predict(X_test)\n",
    "    plot_roc_curve(y_test, y_prob[:, 1])\n",
    "    f1 = f1_score(y_test, y_pred)\n",
    "    print(f\"f1 score of {name} : {np.round(f1, 2)}\")\n",
    "    print(\"-----------------------------------------------------\")"
   ]
  },
  {
   "cell_type": "markdown",
   "id": "41ae4856-e2a5-4a2c-a7e9-ded3155b8cc3",
   "metadata": {},
   "source": [
    "# 3. Test Summary"
   ]
  },
  {
   "cell_type": "markdown",
   "id": "a7a4ef7f-ef0a-41bf-8557-4974ae7cc97b",
   "metadata": {},
   "source": [
    "- All of Cross-validation, confusion matrix, and ROC curves show that it was impossible to classify the defects from the data by using the machine learning models for `RG3`."
   ]
  },
  {
   "cell_type": "code",
   "execution_count": null,
   "id": "9cd1b973-cb40-4297-96ed-e57bf229802a",
   "metadata": {},
   "outputs": [],
   "source": []
  }
 ],
 "metadata": {
  "kernelspec": {
   "display_name": "Python [conda env:ls_env]",
   "language": "python",
   "name": "conda-env-ls_env-py"
  },
  "language_info": {
   "codemirror_mode": {
    "name": "ipython",
    "version": 3
   },
   "file_extension": ".py",
   "mimetype": "text/x-python",
   "name": "python",
   "nbconvert_exporter": "python",
   "pygments_lexer": "ipython3",
   "version": "3.10.8"
  }
 },
 "nbformat": 4,
 "nbformat_minor": 5
}
