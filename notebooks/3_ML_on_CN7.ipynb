{
 "cells": [
  {
   "cell_type": "markdown",
   "id": "bfeabc3c-3ebe-4c8f-85ad-e3c058209de0",
   "metadata": {},
   "source": [
    "# 0. Imports"
   ]
  },
  {
   "cell_type": "code",
   "execution_count": 1,
   "id": "97be1e08-f742-4664-9aae-cd34068183dc",
   "metadata": {},
   "outputs": [],
   "source": [
    "import pandas as pd\n",
    "import numpy as np\n",
    "import matplotlib.pyplot as plt\n",
    "import seaborn as sns\n",
    "\n",
    "from sklearn.compose import ColumnTransformer, make_column_transformer\n",
    "from sklearn.dummy import DummyClassifier, DummyRegressor\n",
    "from sklearn.ensemble import RandomForestClassifier, RandomForestRegressor\n",
    "from sklearn.impute import SimpleImputer\n",
    "from sklearn.linear_model import LogisticRegression, Ridge\n",
    "from sklearn.model_selection import (\n",
    "    GridSearchCV,\n",
    "    RandomizedSearchCV,\n",
    "    cross_val_score,\n",
    "    cross_validate,\n",
    "    train_test_split,\n",
    ")\n",
    "from sklearn.feature_extraction.text import CountVectorizer\n",
    "from sklearn.pipeline import Pipeline, make_pipeline\n",
    "from sklearn.preprocessing import OneHotEncoder, OrdinalEncoder, StandardScaler\n",
    "from sklearn.svm import SVC, SVR\n",
    "from sklearn.tree import DecisionTreeClassifier, DecisionTreeRegressor\n",
    "import warnings\n",
    "\n",
    "from catboost import CatBoostClassifier, CatBoostRegressor\n",
    "from lightgbm.sklearn import LGBMClassifier, LGBMRegressor\n",
    "from xgboost import XGBClassifier, XGBRegressor\n",
    "\n",
    "from sklearn.utils import shuffle\n",
    "\n",
    "from sklearn.naive_bayes import MultinomialNB\n",
    "\n",
    "import shap\n",
    "\n",
    "from sklearn.metrics import confusion_matrix, roc_auc_score, roc_curve, f1_score, classification_report\n",
    "\n",
    "from sklearn.inspection import permutation_importance"
   ]
  },
  {
   "cell_type": "code",
   "execution_count": 2,
   "id": "a7a9ab4d-8b7f-4cc6-ab1c-0a8f751a5a1d",
   "metadata": {},
   "outputs": [],
   "source": [
    "# 한글 깨짐 문제 해결용\n",
    "from matplotlib import font_manager, rc\n",
    "plt.rcParams[\"axes.unicode_minus\"] = False\n",
    "path = \"C:\\Windows\\Fonts\\H2GTRM.TTF\"\n",
    "font_name = font_manager.FontProperties(fname=path).get_name()\n",
    "rc(\"font\", family=font_name)"
   ]
  },
  {
   "cell_type": "code",
   "execution_count": 3,
   "id": "8a4fcbdc-c5a0-493b-a86d-7068073f9d84",
   "metadata": {},
   "outputs": [],
   "source": [
    "def mean_std_cross_val_scores(model, X_train, y_train, **kwargs):\n",
    "    \"\"\"\n",
    "    Returns mean and std of cross validation\n",
    "\n",
    "    Parameters\n",
    "    ----------\n",
    "    model :\n",
    "        scikit-learn model\n",
    "    X_train : numpy array or pandas DataFrame\n",
    "        X in the training data\n",
    "    y_train :\n",
    "        y in the training data\n",
    "\n",
    "    Returns\n",
    "    ----------\n",
    "        pandas Series with mean scores from cross_validation\n",
    "    \"\"\"\n",
    "\n",
    "    scores = cross_validate(model, X_train, y_train, **kwargs)\n",
    "\n",
    "    mean_scores = pd.DataFrame(scores).mean()\n",
    "    std_scores = pd.DataFrame(scores).std()\n",
    "    out_col = []\n",
    "\n",
    "    for i in range(len(mean_scores)):\n",
    "        out_col.append((f\"%0.3f (+/- %0.3f)\" % (mean_scores[i], std_scores[i])))\n",
    "\n",
    "    return pd.Series(data=out_col, index=mean_scores.index)"
   ]
  },
  {
   "cell_type": "code",
   "execution_count": 4,
   "id": "b305ea33-afcb-465f-a10f-158ebc6afda7",
   "metadata": {},
   "outputs": [],
   "source": [
    "def plot_roc_curve(true_y, y_prob):\n",
    "    \"\"\"\n",
    "    plots the roc curve based of the probabilities\n",
    "    \"\"\"\n",
    "    plt.figure(figsize=(3, 2.5))\n",
    "    fpr, tpr, thresholds = roc_curve(true_y, y_prob)\n",
    "    plt.plot(fpr, tpr)\n",
    "    plt.xlabel('False Positive Rate')\n",
    "    plt.ylabel('True Positive Rate')\n",
    "    plt.show();"
   ]
  },
  {
   "cell_type": "markdown",
   "id": "2ef4e5d7-3179-45ca-8d50-052c561a3e03",
   "metadata": {},
   "source": [
    "# 1. Data"
   ]
  },
  {
   "cell_type": "code",
   "execution_count": 5,
   "id": "cf967899-6162-455a-be84-0a4a53366a5d",
   "metadata": {},
   "outputs": [],
   "source": [
    "df = pd.read_csv(\"data/processed/labeled_data_CN7_1.csv\", parse_dates=True)"
   ]
  },
  {
   "cell_type": "code",
   "execution_count": 6,
   "id": "c716a4a6-0e33-4c10-9be9-07f3a13bf805",
   "metadata": {},
   "outputs": [],
   "source": [
    "df.set_index(\"TimeStamp\", inplace=True)"
   ]
  },
  {
   "cell_type": "code",
   "execution_count": 7,
   "id": "d8224552-77f4-459c-93e8-b2094e2e24b1",
   "metadata": {},
   "outputs": [
    {
     "data": {
      "text/html": [
       "<div>\n",
       "<style scoped>\n",
       "    .dataframe tbody tr th:only-of-type {\n",
       "        vertical-align: middle;\n",
       "    }\n",
       "\n",
       "    .dataframe tbody tr th {\n",
       "        vertical-align: top;\n",
       "    }\n",
       "\n",
       "    .dataframe thead th {\n",
       "        text-align: right;\n",
       "    }\n",
       "</style>\n",
       "<table border=\"1\" class=\"dataframe\">\n",
       "  <thead>\n",
       "    <tr style=\"text-align: right;\">\n",
       "      <th></th>\n",
       "      <th>Average_Back_Pressure</th>\n",
       "      <th>Max_Screw_RPM</th>\n",
       "      <th>Max_Injection_Speed</th>\n",
       "      <th>PassOrFail</th>\n",
       "      <th>Hopper_Temperature</th>\n",
       "      <th>Max_Injection_Pressure</th>\n",
       "      <th>_id</th>\n",
       "      <th>Plasticizing_Time</th>\n",
       "      <th>Cycle_Time</th>\n",
       "      <th>Plasticizing_Position</th>\n",
       "      <th>Mold_Temperature_4</th>\n",
       "      <th>Average_Screw_RPM</th>\n",
       "      <th>Injection_Time</th>\n",
       "      <th>Filling_Time</th>\n",
       "      <th>Mold_Temperature_3</th>\n",
       "      <th>Reason</th>\n",
       "      <th>Max_Back_Pressure</th>\n",
       "      <th>Max_Switch_Over_Pressure</th>\n",
       "    </tr>\n",
       "    <tr>\n",
       "      <th>TimeStamp</th>\n",
       "      <th></th>\n",
       "      <th></th>\n",
       "      <th></th>\n",
       "      <th></th>\n",
       "      <th></th>\n",
       "      <th></th>\n",
       "      <th></th>\n",
       "      <th></th>\n",
       "      <th></th>\n",
       "      <th></th>\n",
       "      <th></th>\n",
       "      <th></th>\n",
       "      <th></th>\n",
       "      <th></th>\n",
       "      <th></th>\n",
       "      <th></th>\n",
       "      <th></th>\n",
       "      <th></th>\n",
       "    </tr>\n",
       "  </thead>\n",
       "  <tbody>\n",
       "    <tr>\n",
       "      <th>2020-10-16 04:57:47</th>\n",
       "      <td>59.299999</td>\n",
       "      <td>30.700001</td>\n",
       "      <td>55.400002</td>\n",
       "      <td>0</td>\n",
       "      <td>66.300003</td>\n",
       "      <td>141.800003</td>\n",
       "      <td>5f8928bb9c0189cc666ef19b</td>\n",
       "      <td>16.92</td>\n",
       "      <td>59.520000</td>\n",
       "      <td>68.849998</td>\n",
       "      <td>27.5</td>\n",
       "      <td>292.5</td>\n",
       "      <td>9.59</td>\n",
       "      <td>4.47</td>\n",
       "      <td>24.799999</td>\n",
       "      <td>None</td>\n",
       "      <td>37.400002</td>\n",
       "      <td>136.800003</td>\n",
       "    </tr>\n",
       "    <tr>\n",
       "      <th>2020-10-16 04:58:48</th>\n",
       "      <td>59.299999</td>\n",
       "      <td>30.799999</td>\n",
       "      <td>55.299999</td>\n",
       "      <td>0</td>\n",
       "      <td>67.199997</td>\n",
       "      <td>141.800003</td>\n",
       "      <td>5f8928de9c0189cc666ef20b</td>\n",
       "      <td>16.91</td>\n",
       "      <td>59.580002</td>\n",
       "      <td>68.839996</td>\n",
       "      <td>27.6</td>\n",
       "      <td>292.5</td>\n",
       "      <td>9.60</td>\n",
       "      <td>4.48</td>\n",
       "      <td>24.799999</td>\n",
       "      <td>None</td>\n",
       "      <td>37.500000</td>\n",
       "      <td>136.899994</td>\n",
       "    </tr>\n",
       "    <tr>\n",
       "      <th>2020-10-16 04:58:48</th>\n",
       "      <td>59.299999</td>\n",
       "      <td>30.799999</td>\n",
       "      <td>55.299999</td>\n",
       "      <td>0</td>\n",
       "      <td>67.199997</td>\n",
       "      <td>141.800003</td>\n",
       "      <td>5f8928df9c0189cc666ef213</td>\n",
       "      <td>16.91</td>\n",
       "      <td>59.580002</td>\n",
       "      <td>68.839996</td>\n",
       "      <td>27.6</td>\n",
       "      <td>292.5</td>\n",
       "      <td>9.60</td>\n",
       "      <td>4.48</td>\n",
       "      <td>24.799999</td>\n",
       "      <td>None</td>\n",
       "      <td>37.500000</td>\n",
       "      <td>136.899994</td>\n",
       "    </tr>\n",
       "    <tr>\n",
       "      <th>2020-10-16 04:59:48</th>\n",
       "      <td>59.299999</td>\n",
       "      <td>31.000000</td>\n",
       "      <td>55.299999</td>\n",
       "      <td>0</td>\n",
       "      <td>66.900002</td>\n",
       "      <td>141.800003</td>\n",
       "      <td>5f8928f39c0189cc666ef25e</td>\n",
       "      <td>16.91</td>\n",
       "      <td>59.560001</td>\n",
       "      <td>68.839996</td>\n",
       "      <td>27.6</td>\n",
       "      <td>292.5</td>\n",
       "      <td>9.59</td>\n",
       "      <td>4.48</td>\n",
       "      <td>25.000000</td>\n",
       "      <td>None</td>\n",
       "      <td>37.500000</td>\n",
       "      <td>136.800003</td>\n",
       "    </tr>\n",
       "    <tr>\n",
       "      <th>2020-10-16 04:59:48</th>\n",
       "      <td>59.299999</td>\n",
       "      <td>31.000000</td>\n",
       "      <td>55.299999</td>\n",
       "      <td>0</td>\n",
       "      <td>66.900002</td>\n",
       "      <td>141.800003</td>\n",
       "      <td>5f8928f59c0189cc666ef265</td>\n",
       "      <td>16.91</td>\n",
       "      <td>59.560001</td>\n",
       "      <td>68.839996</td>\n",
       "      <td>27.6</td>\n",
       "      <td>292.5</td>\n",
       "      <td>9.59</td>\n",
       "      <td>4.48</td>\n",
       "      <td>25.000000</td>\n",
       "      <td>None</td>\n",
       "      <td>37.500000</td>\n",
       "      <td>136.800003</td>\n",
       "    </tr>\n",
       "  </tbody>\n",
       "</table>\n",
       "</div>"
      ],
      "text/plain": [
       "                     Average_Back_Pressure  Max_Screw_RPM  \\\n",
       "TimeStamp                                                   \n",
       "2020-10-16 04:57:47              59.299999      30.700001   \n",
       "2020-10-16 04:58:48              59.299999      30.799999   \n",
       "2020-10-16 04:58:48              59.299999      30.799999   \n",
       "2020-10-16 04:59:48              59.299999      31.000000   \n",
       "2020-10-16 04:59:48              59.299999      31.000000   \n",
       "\n",
       "                     Max_Injection_Speed  PassOrFail  Hopper_Temperature  \\\n",
       "TimeStamp                                                                  \n",
       "2020-10-16 04:57:47            55.400002           0           66.300003   \n",
       "2020-10-16 04:58:48            55.299999           0           67.199997   \n",
       "2020-10-16 04:58:48            55.299999           0           67.199997   \n",
       "2020-10-16 04:59:48            55.299999           0           66.900002   \n",
       "2020-10-16 04:59:48            55.299999           0           66.900002   \n",
       "\n",
       "                     Max_Injection_Pressure                       _id  \\\n",
       "TimeStamp                                                               \n",
       "2020-10-16 04:57:47              141.800003  5f8928bb9c0189cc666ef19b   \n",
       "2020-10-16 04:58:48              141.800003  5f8928de9c0189cc666ef20b   \n",
       "2020-10-16 04:58:48              141.800003  5f8928df9c0189cc666ef213   \n",
       "2020-10-16 04:59:48              141.800003  5f8928f39c0189cc666ef25e   \n",
       "2020-10-16 04:59:48              141.800003  5f8928f59c0189cc666ef265   \n",
       "\n",
       "                     Plasticizing_Time  Cycle_Time  Plasticizing_Position  \\\n",
       "TimeStamp                                                                   \n",
       "2020-10-16 04:57:47              16.92   59.520000              68.849998   \n",
       "2020-10-16 04:58:48              16.91   59.580002              68.839996   \n",
       "2020-10-16 04:58:48              16.91   59.580002              68.839996   \n",
       "2020-10-16 04:59:48              16.91   59.560001              68.839996   \n",
       "2020-10-16 04:59:48              16.91   59.560001              68.839996   \n",
       "\n",
       "                     Mold_Temperature_4  Average_Screw_RPM  Injection_Time  \\\n",
       "TimeStamp                                                                    \n",
       "2020-10-16 04:57:47                27.5              292.5            9.59   \n",
       "2020-10-16 04:58:48                27.6              292.5            9.60   \n",
       "2020-10-16 04:58:48                27.6              292.5            9.60   \n",
       "2020-10-16 04:59:48                27.6              292.5            9.59   \n",
       "2020-10-16 04:59:48                27.6              292.5            9.59   \n",
       "\n",
       "                     Filling_Time  Mold_Temperature_3 Reason  \\\n",
       "TimeStamp                                                      \n",
       "2020-10-16 04:57:47          4.47           24.799999   None   \n",
       "2020-10-16 04:58:48          4.48           24.799999   None   \n",
       "2020-10-16 04:58:48          4.48           24.799999   None   \n",
       "2020-10-16 04:59:48          4.48           25.000000   None   \n",
       "2020-10-16 04:59:48          4.48           25.000000   None   \n",
       "\n",
       "                     Max_Back_Pressure  Max_Switch_Over_Pressure  \n",
       "TimeStamp                                                         \n",
       "2020-10-16 04:57:47          37.400002                136.800003  \n",
       "2020-10-16 04:58:48          37.500000                136.899994  \n",
       "2020-10-16 04:58:48          37.500000                136.899994  \n",
       "2020-10-16 04:59:48          37.500000                136.800003  \n",
       "2020-10-16 04:59:48          37.500000                136.800003  "
      ]
     },
     "execution_count": 7,
     "metadata": {},
     "output_type": "execute_result"
    }
   ],
   "source": [
    "df.head()"
   ]
  },
  {
   "cell_type": "code",
   "execution_count": 8,
   "id": "11e00028-825a-4c03-aa8c-db8ee5f354d1",
   "metadata": {},
   "outputs": [
    {
     "data": {
      "text/plain": [
       "Index(['Average_Back_Pressure', 'Max_Screw_RPM', 'Max_Injection_Speed',\n",
       "       'PassOrFail', 'Hopper_Temperature', 'Max_Injection_Pressure', '_id',\n",
       "       'Plasticizing_Time', 'Cycle_Time', 'Plasticizing_Position',\n",
       "       'Mold_Temperature_4', 'Average_Screw_RPM', 'Injection_Time',\n",
       "       'Filling_Time', 'Mold_Temperature_3', 'Reason', 'Max_Back_Pressure',\n",
       "       'Max_Switch_Over_Pressure'],\n",
       "      dtype='object')"
      ]
     },
     "execution_count": 8,
     "metadata": {},
     "output_type": "execute_result"
    }
   ],
   "source": [
    "df.columns"
   ]
  },
  {
   "cell_type": "code",
   "execution_count": 9,
   "id": "fb3c4e09-0ad3-43c1-bbb3-f5cebfa2e95f",
   "metadata": {},
   "outputs": [],
   "source": [
    "numerical_features = [x for x in df.columns if np.dtype(df[x]) == 'float64']\n",
    "target = [\"PassOrFail\"]\n",
    "drop_features = set(list(df.columns)) - set(numerical_features) - set(target)"
   ]
  },
  {
   "cell_type": "code",
   "execution_count": 10,
   "id": "9f855603-34af-4ef9-87cd-60d93fc8ca60",
   "metadata": {},
   "outputs": [],
   "source": [
    "X = df[numerical_features]\n",
    "y = df[\"PassOrFail\"]"
   ]
  },
  {
   "cell_type": "code",
   "execution_count": 11,
   "id": "57acbc71-b3b8-4b33-90b4-0c803fd50839",
   "metadata": {},
   "outputs": [],
   "source": [
    "X_train, X_test, y_train, y_test = train_test_split(\n",
    "    X, y, test_size=0.3, random_state=123, stratify=y\n",
    ")"
   ]
  },
  {
   "cell_type": "markdown",
   "id": "ab13b14a-4345-4610-9f54-53782a8aa724",
   "metadata": {},
   "source": [
    "# 2. Machine Learning"
   ]
  },
  {
   "cell_type": "code",
   "execution_count": 12,
   "id": "cb4978c7-7aad-4ccc-b766-8cb0a3a9a85d",
   "metadata": {},
   "outputs": [],
   "source": [
    "results = {}"
   ]
  },
  {
   "cell_type": "markdown",
   "id": "9b982482-6f0e-4baf-b503-d26228a12a51",
   "metadata": {},
   "source": [
    "## 2.1. Baseline Model"
   ]
  },
  {
   "cell_type": "code",
   "execution_count": 13,
   "id": "9d71270f-2426-4907-86a5-f93e378c1f9c",
   "metadata": {
    "tags": []
   },
   "outputs": [],
   "source": [
    "pipe_dummy = make_pipeline(StandardScaler(), DummyClassifier())"
   ]
  },
  {
   "cell_type": "code",
   "execution_count": 14,
   "id": "69fe8a14-ae16-4728-994c-d17b19f8fd78",
   "metadata": {},
   "outputs": [],
   "source": [
    "results[\"Dummy\"] = mean_std_cross_val_scores(\n",
    "    pipe_dummy, X_train, y_train, return_train_score=True, scoring=\"f1\"\n",
    ")"
   ]
  },
  {
   "cell_type": "code",
   "execution_count": 15,
   "id": "a82d6ab3-ba92-46aa-896e-3bb579d484f6",
   "metadata": {},
   "outputs": [
    {
     "data": {
      "text/html": [
       "<div>\n",
       "<style scoped>\n",
       "    .dataframe tbody tr th:only-of-type {\n",
       "        vertical-align: middle;\n",
       "    }\n",
       "\n",
       "    .dataframe tbody tr th {\n",
       "        vertical-align: top;\n",
       "    }\n",
       "\n",
       "    .dataframe thead th {\n",
       "        text-align: right;\n",
       "    }\n",
       "</style>\n",
       "<table border=\"1\" class=\"dataframe\">\n",
       "  <thead>\n",
       "    <tr style=\"text-align: right;\">\n",
       "      <th></th>\n",
       "      <th>Dummy</th>\n",
       "    </tr>\n",
       "  </thead>\n",
       "  <tbody>\n",
       "    <tr>\n",
       "      <th>fit_time</th>\n",
       "      <td>0.004 (+/- 0.001)</td>\n",
       "    </tr>\n",
       "    <tr>\n",
       "      <th>score_time</th>\n",
       "      <td>0.002 (+/- 0.000)</td>\n",
       "    </tr>\n",
       "    <tr>\n",
       "      <th>test_score</th>\n",
       "      <td>0.000 (+/- 0.000)</td>\n",
       "    </tr>\n",
       "    <tr>\n",
       "      <th>train_score</th>\n",
       "      <td>0.000 (+/- 0.000)</td>\n",
       "    </tr>\n",
       "  </tbody>\n",
       "</table>\n",
       "</div>"
      ],
      "text/plain": [
       "                         Dummy\n",
       "fit_time     0.004 (+/- 0.001)\n",
       "score_time   0.002 (+/- 0.000)\n",
       "test_score   0.000 (+/- 0.000)\n",
       "train_score  0.000 (+/- 0.000)"
      ]
     },
     "execution_count": 15,
     "metadata": {},
     "output_type": "execute_result"
    }
   ],
   "source": [
    "pd.DataFrame(results)"
   ]
  },
  {
   "cell_type": "markdown",
   "id": "61f2f2fa-8f2a-4f13-b180-ea1251fd15a9",
   "metadata": {},
   "source": [
    "## 2.2. ML Models"
   ]
  },
  {
   "cell_type": "markdown",
   "id": "2bfa6cf7-46aa-4ea3-96d9-51be7a6b248e",
   "metadata": {},
   "source": [
    "#### 2.2.1. Cross-Validation"
   ]
  },
  {
   "cell_type": "code",
   "execution_count": 16,
   "id": "bde7c999-e841-4d7a-a30b-9555bee12f59",
   "metadata": {},
   "outputs": [],
   "source": [
    "pipe_dt = make_pipeline(\n",
    "    StandardScaler(), \n",
    "    DecisionTreeClassifier(random_state=123)\n",
    "    # DecisionTreeClassifier(class_weight=\"balanced\", random_state=123)\n",
    ")\n",
    "pipe_lr = make_pipeline(\n",
    "    StandardScaler(), \n",
    "    LogisticRegression(random_state=123)\n",
    "    # LogisticRegression(class_weight=\"balanced\", random_state=123)\n",
    ")\n",
    "# pipe_nb = make_pipeline(\n",
    "#     StandardScaler(), \n",
    "#     MultinomialNB()\n",
    "# )\n",
    "pipe_svc = make_pipeline(\n",
    "    StandardScaler(), \n",
    "    SVC(random_state=123, probability=True)\n",
    "    # SVC(class_weight=\"balanced\", random_state=123)\n",
    ")\n",
    "pipe_rf = make_pipeline(\n",
    "    StandardScaler(), \n",
    "    RandomForestClassifier(random_state=123)\n",
    "    # RandomForestClassifier(class_weight=\"balanced\", random_state=123)\n",
    ")\n",
    "pipe_xgb = make_pipeline(\n",
    "    StandardScaler(), \n",
    "    XGBClassifier(random_state=123, verbosity=0)\n",
    "    # XGBClassifier(class_weight=\"balanced\", random_state=123, verbosity=0)\n",
    ")\n",
    "pipe_lgbm = make_pipeline(\n",
    "    StandardScaler(), \n",
    "    LGBMClassifier(random_state=123)\n",
    "    # LGBMClassifier(class_weight=\"balanced\", random_state=123)\n",
    ")\n",
    "pipe_catb = make_pipeline(\n",
    "    StandardScaler(), \n",
    "    CatBoostClassifier(random_state=123, verbose=0)\n",
    ")"
   ]
  },
  {
   "cell_type": "code",
   "execution_count": 17,
   "id": "0ce03e99-2587-4db3-a3ae-ef9dc333b0ce",
   "metadata": {},
   "outputs": [],
   "source": [
    "models = {\n",
    "    \"decision_tree\": pipe_dt,\n",
    "    \"logistic_regression\": pipe_lr,\n",
    "    # \"naive_bayes\": pipe_nb,\n",
    "    \"SVC\": pipe_svc,\n",
    "    \"random_forest\": pipe_rf,\n",
    "    \"XGBoost\": pipe_xgb,\n",
    "    \"LightGBM\": pipe_lgbm,\n",
    "    \"CatBoost\": pipe_catb\n",
    "}"
   ]
  },
  {
   "cell_type": "code",
   "execution_count": 18,
   "id": "d72b25b8-6900-4bea-a6e6-a30e4e4cfd61",
   "metadata": {},
   "outputs": [],
   "source": [
    "for (name, model) in models.items():\n",
    "    results[name] = mean_std_cross_val_scores(\n",
    "        model, X_train, y_train, return_train_score=True, scoring=\"f1\"\n",
    "    )"
   ]
  },
  {
   "cell_type": "code",
   "execution_count": 19,
   "id": "52d5a8aa-5755-4092-8d6b-bcf55c19edaa",
   "metadata": {},
   "outputs": [
    {
     "data": {
      "text/html": [
       "<div>\n",
       "<style scoped>\n",
       "    .dataframe tbody tr th:only-of-type {\n",
       "        vertical-align: middle;\n",
       "    }\n",
       "\n",
       "    .dataframe tbody tr th {\n",
       "        vertical-align: top;\n",
       "    }\n",
       "\n",
       "    .dataframe thead th {\n",
       "        text-align: right;\n",
       "    }\n",
       "</style>\n",
       "<table border=\"1\" class=\"dataframe\">\n",
       "  <thead>\n",
       "    <tr style=\"text-align: right;\">\n",
       "      <th></th>\n",
       "      <th>Dummy</th>\n",
       "      <th>decision_tree</th>\n",
       "      <th>logistic_regression</th>\n",
       "      <th>SVC</th>\n",
       "      <th>random_forest</th>\n",
       "      <th>XGBoost</th>\n",
       "      <th>LightGBM</th>\n",
       "      <th>CatBoost</th>\n",
       "    </tr>\n",
       "  </thead>\n",
       "  <tbody>\n",
       "    <tr>\n",
       "      <th>fit_time</th>\n",
       "      <td>0.004 (+/- 0.001)</td>\n",
       "      <td>0.009 (+/- 0.001)</td>\n",
       "      <td>0.015 (+/- 0.002)</td>\n",
       "      <td>0.060 (+/- 0.005)</td>\n",
       "      <td>0.217 (+/- 0.024)</td>\n",
       "      <td>0.421 (+/- 0.684)</td>\n",
       "      <td>0.115 (+/- 0.045)</td>\n",
       "      <td>2.850 (+/- 0.535)</td>\n",
       "    </tr>\n",
       "    <tr>\n",
       "      <th>score_time</th>\n",
       "      <td>0.002 (+/- 0.000)</td>\n",
       "      <td>0.003 (+/- 0.000)</td>\n",
       "      <td>0.003 (+/- 0.001)</td>\n",
       "      <td>0.006 (+/- 0.001)</td>\n",
       "      <td>0.015 (+/- 0.003)</td>\n",
       "      <td>0.009 (+/- 0.001)</td>\n",
       "      <td>0.007 (+/- 0.001)</td>\n",
       "      <td>0.006 (+/- 0.001)</td>\n",
       "    </tr>\n",
       "    <tr>\n",
       "      <th>test_score</th>\n",
       "      <td>0.000 (+/- 0.000)</td>\n",
       "      <td>0.469 (+/- 0.258)</td>\n",
       "      <td>0.461 (+/- 0.280)</td>\n",
       "      <td>0.598 (+/- 0.197)</td>\n",
       "      <td>0.531 (+/- 0.223)</td>\n",
       "      <td>0.463 (+/- 0.193)</td>\n",
       "      <td>0.496 (+/- 0.260)</td>\n",
       "      <td>0.496 (+/- 0.260)</td>\n",
       "    </tr>\n",
       "    <tr>\n",
       "      <th>train_score</th>\n",
       "      <td>0.000 (+/- 0.000)</td>\n",
       "      <td>0.839 (+/- 0.049)</td>\n",
       "      <td>0.629 (+/- 0.079)</td>\n",
       "      <td>0.665 (+/- 0.056)</td>\n",
       "      <td>0.855 (+/- 0.039)</td>\n",
       "      <td>0.842 (+/- 0.043)</td>\n",
       "      <td>0.841 (+/- 0.050)</td>\n",
       "      <td>0.829 (+/- 0.068)</td>\n",
       "    </tr>\n",
       "  </tbody>\n",
       "</table>\n",
       "</div>"
      ],
      "text/plain": [
       "                         Dummy      decision_tree logistic_regression  \\\n",
       "fit_time     0.004 (+/- 0.001)  0.009 (+/- 0.001)   0.015 (+/- 0.002)   \n",
       "score_time   0.002 (+/- 0.000)  0.003 (+/- 0.000)   0.003 (+/- 0.001)   \n",
       "test_score   0.000 (+/- 0.000)  0.469 (+/- 0.258)   0.461 (+/- 0.280)   \n",
       "train_score  0.000 (+/- 0.000)  0.839 (+/- 0.049)   0.629 (+/- 0.079)   \n",
       "\n",
       "                           SVC      random_forest            XGBoost  \\\n",
       "fit_time     0.060 (+/- 0.005)  0.217 (+/- 0.024)  0.421 (+/- 0.684)   \n",
       "score_time   0.006 (+/- 0.001)  0.015 (+/- 0.003)  0.009 (+/- 0.001)   \n",
       "test_score   0.598 (+/- 0.197)  0.531 (+/- 0.223)  0.463 (+/- 0.193)   \n",
       "train_score  0.665 (+/- 0.056)  0.855 (+/- 0.039)  0.842 (+/- 0.043)   \n",
       "\n",
       "                      LightGBM           CatBoost  \n",
       "fit_time     0.115 (+/- 0.045)  2.850 (+/- 0.535)  \n",
       "score_time   0.007 (+/- 0.001)  0.006 (+/- 0.001)  \n",
       "test_score   0.496 (+/- 0.260)  0.496 (+/- 0.260)  \n",
       "train_score  0.841 (+/- 0.050)  0.829 (+/- 0.068)  "
      ]
     },
     "execution_count": 19,
     "metadata": {},
     "output_type": "execute_result"
    }
   ],
   "source": [
    "pd.DataFrame(results)"
   ]
  },
  {
   "cell_type": "markdown",
   "id": "66280378-d76a-47d9-b8fc-3c3c468ceb85",
   "metadata": {},
   "source": [
    "#### 2.2.2. Confusion Matrix & Classification Report"
   ]
  },
  {
   "cell_type": "code",
   "execution_count": 20,
   "id": "9b18410f-fbcc-4103-8705-75d1d5ba8c1e",
   "metadata": {},
   "outputs": [
    {
     "name": "stdout",
     "output_type": "stream",
     "text": [
      "Confusion Matrix for decision_tree\n",
      "[[1183    2]\n",
      " [   3    5]]\n",
      "\n",
      "\n",
      "Classification Report for decision_tree\n",
      "              precision    recall  f1-score   support\n",
      "\n",
      "           0       1.00      1.00      1.00      1185\n",
      "           1       0.71      0.62      0.67         8\n",
      "\n",
      "    accuracy                           1.00      1193\n",
      "   macro avg       0.86      0.81      0.83      1193\n",
      "weighted avg       1.00      1.00      1.00      1193\n",
      "\n",
      "-----------------------------------------------------\n",
      "Confusion Matrix for logistic_regression\n",
      "[[1185    0]\n",
      " [   4    4]]\n",
      "\n",
      "\n",
      "Classification Report for logistic_regression\n",
      "              precision    recall  f1-score   support\n",
      "\n",
      "           0       1.00      1.00      1.00      1185\n",
      "           1       1.00      0.50      0.67         8\n",
      "\n",
      "    accuracy                           1.00      1193\n",
      "   macro avg       1.00      0.75      0.83      1193\n",
      "weighted avg       1.00      1.00      1.00      1193\n",
      "\n",
      "-----------------------------------------------------\n",
      "Confusion Matrix for SVC\n",
      "[[1185    0]\n",
      " [   4    4]]\n",
      "\n",
      "\n",
      "Classification Report for SVC\n",
      "              precision    recall  f1-score   support\n",
      "\n",
      "           0       1.00      1.00      1.00      1185\n",
      "           1       1.00      0.50      0.67         8\n",
      "\n",
      "    accuracy                           1.00      1193\n",
      "   macro avg       1.00      0.75      0.83      1193\n",
      "weighted avg       1.00      1.00      1.00      1193\n",
      "\n",
      "-----------------------------------------------------\n",
      "Confusion Matrix for random_forest\n",
      "[[1183    2]\n",
      " [   3    5]]\n",
      "\n",
      "\n",
      "Classification Report for random_forest\n",
      "              precision    recall  f1-score   support\n",
      "\n",
      "           0       1.00      1.00      1.00      1185\n",
      "           1       0.71      0.62      0.67         8\n",
      "\n",
      "    accuracy                           1.00      1193\n",
      "   macro avg       0.86      0.81      0.83      1193\n",
      "weighted avg       1.00      1.00      1.00      1193\n",
      "\n",
      "-----------------------------------------------------\n",
      "Confusion Matrix for XGBoost\n",
      "[[1183    2]\n",
      " [   3    5]]\n",
      "\n",
      "\n",
      "Classification Report for XGBoost\n",
      "              precision    recall  f1-score   support\n",
      "\n",
      "           0       1.00      1.00      1.00      1185\n",
      "           1       0.71      0.62      0.67         8\n",
      "\n",
      "    accuracy                           1.00      1193\n",
      "   macro avg       0.86      0.81      0.83      1193\n",
      "weighted avg       1.00      1.00      1.00      1193\n",
      "\n",
      "-----------------------------------------------------\n",
      "Confusion Matrix for LightGBM\n",
      "[[1183    2]\n",
      " [   3    5]]\n",
      "\n",
      "\n",
      "Classification Report for LightGBM\n",
      "              precision    recall  f1-score   support\n",
      "\n",
      "           0       1.00      1.00      1.00      1185\n",
      "           1       0.71      0.62      0.67         8\n",
      "\n",
      "    accuracy                           1.00      1193\n",
      "   macro avg       0.86      0.81      0.83      1193\n",
      "weighted avg       1.00      1.00      1.00      1193\n",
      "\n",
      "-----------------------------------------------------\n",
      "Confusion Matrix for CatBoost\n",
      "[[1184    1]\n",
      " [   3    5]]\n",
      "\n",
      "\n",
      "Classification Report for CatBoost\n",
      "              precision    recall  f1-score   support\n",
      "\n",
      "           0       1.00      1.00      1.00      1185\n",
      "           1       0.83      0.62      0.71         8\n",
      "\n",
      "    accuracy                           1.00      1193\n",
      "   macro avg       0.92      0.81      0.86      1193\n",
      "weighted avg       1.00      1.00      1.00      1193\n",
      "\n",
      "-----------------------------------------------------\n"
     ]
    }
   ],
   "source": [
    "for (name, model) in models.items():\n",
    "    model.fit(X_train, y_train)\n",
    "    y_pred = model.predict(X_test)\n",
    "    print(f\"Confusion Matrix for {name}\")\n",
    "    print(confusion_matrix(y_test, y_pred))\n",
    "    print(\"\\n\")\n",
    "    print(f\"Classification Report for {name}\")\n",
    "    print(classification_report(y_test, y_pred))\n",
    "    print(\"-----------------------------------------------------\")"
   ]
  },
  {
   "cell_type": "markdown",
   "id": "79d883ae-2499-405e-86ce-df2b2b6f4b63",
   "metadata": {
    "tags": []
   },
   "source": [
    "#### 2.2.3. ROC Curve"
   ]
  },
  {
   "cell_type": "code",
   "execution_count": 21,
   "id": "f55aef02-169b-4a81-bb1c-f232a26cc0ec",
   "metadata": {},
   "outputs": [
    {
     "name": "stdout",
     "output_type": "stream",
     "text": [
      "ROC Curve for decision_tree\n"
     ]
    },
    {
     "data": {
      "image/png": "[encoded data removed]",
      "text/plain": [
       "<Figure size 300x250 with 1 Axes>"
      ]
     },
     "metadata": {},
     "output_type": "display_data"
    },
    {
     "name": "stdout",
     "output_type": "stream",
     "text": [
      "f1 score of decision_tree : 0.67\n",
      "-----------------------------------------------------\n",
      "ROC Curve for logistic_regression\n"
     ]
    },
    {
     "data": {
      "image/png": "[encoded data removed]",
      "text/plain": [
       "<Figure size 300x250 with 1 Axes>"
      ]
     },
     "metadata": {},
     "output_type": "display_data"
    },
    {
     "name": "stdout",
     "output_type": "stream",
     "text": [
      "f1 score of logistic_regression : 0.67\n",
      "-----------------------------------------------------\n",
      "ROC Curve for SVC\n"
     ]
    },
    {
     "data": {
      "image/png": "[encoded data removed]",
      "text/plain": [
       "<Figure size 300x250 with 1 Axes>"
      ]
     },
     "metadata": {},
     "output_type": "display_data"
    },
    {
     "name": "stdout",
     "output_type": "stream",
     "text": [
      "f1 score of SVC : 0.67\n",
      "-----------------------------------------------------\n",
      "ROC Curve for random_forest\n"
     ]
    },
    {
     "data": {
      "image/png": "[encoded data removed]",
      "text/plain": [
       "<Figure size 300x250 with 1 Axes>"
      ]
     },
     "metadata": {},
     "output_type": "display_data"
    },
    {
     "name": "stdout",
     "output_type": "stream",
     "text": [
      "f1 score of random_forest : 0.67\n",
      "-----------------------------------------------------\n",
      "ROC Curve for XGBoost\n"
     ]
    },
    {
     "data": {
      "image/png": "[encoded data removed]",
      "text/plain": [
       "<Figure size 300x250 with 1 Axes>"
      ]
     },
     "metadata": {},
     "output_type": "display_data"
    },
    {
     "name": "stdout",
     "output_type": "stream",
     "text": [
      "f1 score of XGBoost : 0.67\n",
      "-----------------------------------------------------\n",
      "ROC Curve for LightGBM\n"
     ]
    },
    {
     "data": {
      "image/png": "[encoded data removed]",
      "text/plain": [
       "<Figure size 300x250 with 1 Axes>"
      ]
     },
     "metadata": {},
     "output_type": "display_data"
    },
    {
     "name": "stdout",
     "output_type": "stream",
     "text": [
      "f1 score of LightGBM : 0.67\n",
      "-----------------------------------------------------\n",
      "ROC Curve for CatBoost\n"
     ]
    },
    {
     "data": {
      "image/png": "[encoded data removed]",
      "text/plain": [
       "<Figure size 300x250 with 1 Axes>"
      ]
     },
     "metadata": {},
     "output_type": "display_data"
    },
    {
     "name": "stdout",
     "output_type": "stream",
     "text": [
      "f1 score of CatBoost : 0.71\n",
      "-----------------------------------------------------\n"
     ]
    }
   ],
   "source": [
    "for (name, model) in models.items():\n",
    "    print(f\"ROC Curve for {name}\")\n",
    "    model.fit(X_train, y_train)\n",
    "    y_prob = model.predict_proba(X_test)\n",
    "    y_pred = model.predict(X_test)\n",
    "    plot_roc_curve(y_test, y_prob[:, 1])\n",
    "    f1 = f1_score(y_test, y_pred)\n",
    "    print(f\"f1 score of {name} : {np.round(f1, 2)}\")\n",
    "    print(\"-----------------------------------------------------\")"
   ]
  },
  {
   "cell_type": "code",
   "execution_count": null,
   "id": "214a1b04-b80e-4c7f-a066-23f9d2244f55",
   "metadata": {},
   "outputs": [],
   "source": []
  }
 ],
 "metadata": {
  "kernelspec": {
   "display_name": "Python [conda env:ls_env]",
   "language": "python",
   "name": "conda-env-ls_env-py"
  },
  "language_info": {
   "codemirror_mode": {
    "name": "ipython",
    "version": 3
   },
   "file_extension": ".py",
   "mimetype": "text/x-python",
   "name": "python",
   "nbconvert_exporter": "python",
   "pygments_lexer": "ipython3",
   "version": "3.10.8"
  }
 },
 "nbformat": 4,
 "nbformat_minor": 5
}
