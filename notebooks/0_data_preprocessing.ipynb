{
 "cells": [
  {
   "cell_type": "markdown",
   "id": "bfeabc3c-3ebe-4c8f-85ad-e3c058209de0",
   "metadata": {},
   "source": [
    "# 0. Imports"
   ]
  },
  {
   "cell_type": "code",
   "execution_count": 1,
   "id": "97be1e08-f742-4664-9aae-cd34068183dc",
   "metadata": {},
   "outputs": [],
   "source": [
    "import pandas as pd"
   ]
  },
  {
   "cell_type": "markdown",
   "id": "2ef4e5d7-3179-45ca-8d50-052c561a3e03",
   "metadata": {},
   "source": [
    "# 1. Data Read In"
   ]
  },
  {
   "cell_type": "code",
   "execution_count": 2,
   "id": "cf967899-6162-455a-be84-0a4a53366a5d",
   "metadata": {},
   "outputs": [],
   "source": [
    "df = pd.read_csv(\"../data/raw/labeled_data.csv\")"
   ]
  },
  {
   "cell_type": "code",
   "execution_count": 3,
   "id": "d8224552-77f4-459c-93e8-b2094e2e24b1",
   "metadata": {},
   "outputs": [
    {
     "data": {
      "text/html": [
       "<div>\n",
       "<style scoped>\n",
       "    .dataframe tbody tr th:only-of-type {\n",
       "        vertical-align: middle;\n",
       "    }\n",
       "\n",
       "    .dataframe tbody tr th {\n",
       "        vertical-align: top;\n",
       "    }\n",
       "\n",
       "    .dataframe thead th {\n",
       "        text-align: right;\n",
       "    }\n",
       "</style>\n",
       "<table border=\"1\" class=\"dataframe\">\n",
       "  <thead>\n",
       "    <tr style=\"text-align: right;\">\n",
       "      <th></th>\n",
       "      <th>_id</th>\n",
       "      <th>TimeStamp</th>\n",
       "      <th>PART_FACT_PLAN_DATE</th>\n",
       "      <th>PART_FACT_SERIAL</th>\n",
       "      <th>PART_NAME</th>\n",
       "      <th>EQUIP_CD</th>\n",
       "      <th>EQUIP_NAME</th>\n",
       "      <th>PassOrFail</th>\n",
       "      <th>Reason</th>\n",
       "      <th>Injection_Time</th>\n",
       "      <th>...</th>\n",
       "      <th>Mold_Temperature_3</th>\n",
       "      <th>Mold_Temperature_4</th>\n",
       "      <th>Mold_Temperature_5</th>\n",
       "      <th>Mold_Temperature_6</th>\n",
       "      <th>Mold_Temperature_7</th>\n",
       "      <th>Mold_Temperature_8</th>\n",
       "      <th>Mold_Temperature_9</th>\n",
       "      <th>Mold_Temperature_10</th>\n",
       "      <th>Mold_Temperature_11</th>\n",
       "      <th>Mold_Temperature_12</th>\n",
       "    </tr>\n",
       "  </thead>\n",
       "  <tbody>\n",
       "    <tr>\n",
       "      <th>0</th>\n",
       "      <td>5f8928bb9c0189cc666ef19b</td>\n",
       "      <td>2020-10-16 04:57:47</td>\n",
       "      <td>2020-10-16 오전 12:00:00</td>\n",
       "      <td>24</td>\n",
       "      <td>CN7 W/S SIDE MLD'G RH</td>\n",
       "      <td>S14</td>\n",
       "      <td>650톤-우진2호기</td>\n",
       "      <td>Y</td>\n",
       "      <td>None</td>\n",
       "      <td>9.59</td>\n",
       "      <td>...</td>\n",
       "      <td>24.799999</td>\n",
       "      <td>27.5</td>\n",
       "      <td>0.0</td>\n",
       "      <td>0.0</td>\n",
       "      <td>0.0</td>\n",
       "      <td>0.0</td>\n",
       "      <td>0.0</td>\n",
       "      <td>0.0</td>\n",
       "      <td>0.0</td>\n",
       "      <td>0.0</td>\n",
       "    </tr>\n",
       "    <tr>\n",
       "      <th>1</th>\n",
       "      <td>5f8928de9c0189cc666ef20b</td>\n",
       "      <td>2020-10-16 04:58:48</td>\n",
       "      <td>2020-10-16 오전 12:00:00</td>\n",
       "      <td>24</td>\n",
       "      <td>CN7 W/S SIDE MLD'G RH</td>\n",
       "      <td>S14</td>\n",
       "      <td>650톤-우진2호기</td>\n",
       "      <td>Y</td>\n",
       "      <td>None</td>\n",
       "      <td>9.60</td>\n",
       "      <td>...</td>\n",
       "      <td>24.799999</td>\n",
       "      <td>27.6</td>\n",
       "      <td>0.0</td>\n",
       "      <td>0.0</td>\n",
       "      <td>0.0</td>\n",
       "      <td>0.0</td>\n",
       "      <td>0.0</td>\n",
       "      <td>0.0</td>\n",
       "      <td>0.0</td>\n",
       "      <td>0.0</td>\n",
       "    </tr>\n",
       "    <tr>\n",
       "      <th>2</th>\n",
       "      <td>5f8928df9c0189cc666ef213</td>\n",
       "      <td>2020-10-16 04:58:48</td>\n",
       "      <td>2020-10-16 오전 12:00:00</td>\n",
       "      <td>23</td>\n",
       "      <td>CN7 W/S SIDE MLD'G LH</td>\n",
       "      <td>S14</td>\n",
       "      <td>650톤-우진2호기</td>\n",
       "      <td>Y</td>\n",
       "      <td>None</td>\n",
       "      <td>9.60</td>\n",
       "      <td>...</td>\n",
       "      <td>24.799999</td>\n",
       "      <td>27.6</td>\n",
       "      <td>0.0</td>\n",
       "      <td>0.0</td>\n",
       "      <td>0.0</td>\n",
       "      <td>0.0</td>\n",
       "      <td>0.0</td>\n",
       "      <td>0.0</td>\n",
       "      <td>0.0</td>\n",
       "      <td>0.0</td>\n",
       "    </tr>\n",
       "    <tr>\n",
       "      <th>3</th>\n",
       "      <td>5f8928f39c0189cc666ef25e</td>\n",
       "      <td>2020-10-16 04:59:48</td>\n",
       "      <td>2020-10-16 오전 12:00:00</td>\n",
       "      <td>23</td>\n",
       "      <td>CN7 W/S SIDE MLD'G LH</td>\n",
       "      <td>S14</td>\n",
       "      <td>650톤-우진2호기</td>\n",
       "      <td>Y</td>\n",
       "      <td>None</td>\n",
       "      <td>9.59</td>\n",
       "      <td>...</td>\n",
       "      <td>25.000000</td>\n",
       "      <td>27.6</td>\n",
       "      <td>0.0</td>\n",
       "      <td>0.0</td>\n",
       "      <td>0.0</td>\n",
       "      <td>0.0</td>\n",
       "      <td>0.0</td>\n",
       "      <td>0.0</td>\n",
       "      <td>0.0</td>\n",
       "      <td>0.0</td>\n",
       "    </tr>\n",
       "    <tr>\n",
       "      <th>4</th>\n",
       "      <td>5f8928f59c0189cc666ef265</td>\n",
       "      <td>2020-10-16 04:59:48</td>\n",
       "      <td>2020-10-16 오전 12:00:00</td>\n",
       "      <td>24</td>\n",
       "      <td>CN7 W/S SIDE MLD'G RH</td>\n",
       "      <td>S14</td>\n",
       "      <td>650톤-우진2호기</td>\n",
       "      <td>Y</td>\n",
       "      <td>None</td>\n",
       "      <td>9.59</td>\n",
       "      <td>...</td>\n",
       "      <td>25.000000</td>\n",
       "      <td>27.6</td>\n",
       "      <td>0.0</td>\n",
       "      <td>0.0</td>\n",
       "      <td>0.0</td>\n",
       "      <td>0.0</td>\n",
       "      <td>0.0</td>\n",
       "      <td>0.0</td>\n",
       "      <td>0.0</td>\n",
       "      <td>0.0</td>\n",
       "    </tr>\n",
       "  </tbody>\n",
       "</table>\n",
       "<p>5 rows × 45 columns</p>\n",
       "</div>"
      ],
      "text/plain": [
       "                        _id            TimeStamp     PART_FACT_PLAN_DATE  \\\n",
       "0  5f8928bb9c0189cc666ef19b  2020-10-16 04:57:47  2020-10-16 오전 12:00:00   \n",
       "1  5f8928de9c0189cc666ef20b  2020-10-16 04:58:48  2020-10-16 오전 12:00:00   \n",
       "2  5f8928df9c0189cc666ef213  2020-10-16 04:58:48  2020-10-16 오전 12:00:00   \n",
       "3  5f8928f39c0189cc666ef25e  2020-10-16 04:59:48  2020-10-16 오전 12:00:00   \n",
       "4  5f8928f59c0189cc666ef265  2020-10-16 04:59:48  2020-10-16 오전 12:00:00   \n",
       "\n",
       "   PART_FACT_SERIAL              PART_NAME EQUIP_CD  EQUIP_NAME PassOrFail  \\\n",
       "0                24  CN7 W/S SIDE MLD'G RH      S14  650톤-우진2호기          Y   \n",
       "1                24  CN7 W/S SIDE MLD'G RH      S14  650톤-우진2호기          Y   \n",
       "2                23  CN7 W/S SIDE MLD'G LH      S14  650톤-우진2호기          Y   \n",
       "3                23  CN7 W/S SIDE MLD'G LH      S14  650톤-우진2호기          Y   \n",
       "4                24  CN7 W/S SIDE MLD'G RH      S14  650톤-우진2호기          Y   \n",
       "\n",
       "  Reason  Injection_Time  ...  Mold_Temperature_3  Mold_Temperature_4  \\\n",
       "0   None            9.59  ...           24.799999                27.5   \n",
       "1   None            9.60  ...           24.799999                27.6   \n",
       "2   None            9.60  ...           24.799999                27.6   \n",
       "3   None            9.59  ...           25.000000                27.6   \n",
       "4   None            9.59  ...           25.000000                27.6   \n",
       "\n",
       "   Mold_Temperature_5  Mold_Temperature_6  Mold_Temperature_7  \\\n",
       "0                 0.0                 0.0                 0.0   \n",
       "1                 0.0                 0.0                 0.0   \n",
       "2                 0.0                 0.0                 0.0   \n",
       "3                 0.0                 0.0                 0.0   \n",
       "4                 0.0                 0.0                 0.0   \n",
       "\n",
       "   Mold_Temperature_8  Mold_Temperature_9  Mold_Temperature_10  \\\n",
       "0                 0.0                 0.0                  0.0   \n",
       "1                 0.0                 0.0                  0.0   \n",
       "2                 0.0                 0.0                  0.0   \n",
       "3                 0.0                 0.0                  0.0   \n",
       "4                 0.0                 0.0                  0.0   \n",
       "\n",
       "   Mold_Temperature_11  Mold_Temperature_12  \n",
       "0                  0.0                  0.0  \n",
       "1                  0.0                  0.0  \n",
       "2                  0.0                  0.0  \n",
       "3                  0.0                  0.0  \n",
       "4                  0.0                  0.0  \n",
       "\n",
       "[5 rows x 45 columns]"
      ]
     },
     "execution_count": 3,
     "metadata": {},
     "output_type": "execute_result"
    }
   ],
   "source": [
    "df.head()"
   ]
  },
  {
   "cell_type": "code",
   "execution_count": 4,
   "id": "03206431-93f9-4a43-97e8-dd7d7d42099a",
   "metadata": {},
   "outputs": [
    {
     "name": "stdout",
     "output_type": "stream",
     "text": [
      "<class 'pandas.core.frame.DataFrame'>\n",
      "RangeIndex: 7996 entries, 0 to 7995\n",
      "Data columns (total 45 columns):\n",
      " #   Column                    Non-Null Count  Dtype  \n",
      "---  ------                    --------------  -----  \n",
      " 0   _id                       7996 non-null   object \n",
      " 1   TimeStamp                 7996 non-null   object \n",
      " 2   PART_FACT_PLAN_DATE       7996 non-null   object \n",
      " 3   PART_FACT_SERIAL          7996 non-null   int64  \n",
      " 4   PART_NAME                 7996 non-null   object \n",
      " 5   EQUIP_CD                  7996 non-null   object \n",
      " 6   EQUIP_NAME                7996 non-null   object \n",
      " 7   PassOrFail                7996 non-null   object \n",
      " 8   Reason                    7996 non-null   object \n",
      " 9   Injection_Time            7996 non-null   float64\n",
      " 10  Filling_Time              7996 non-null   float64\n",
      " 11  Plasticizing_Time         7996 non-null   float64\n",
      " 12  Cycle_Time                7996 non-null   float64\n",
      " 13  Clamp_Close_Time          7996 non-null   float64\n",
      " 14  Cushion_Position          7996 non-null   float64\n",
      " 15  Switch_Over_Position      7996 non-null   float64\n",
      " 16  Plasticizing_Position     7996 non-null   float64\n",
      " 17  Clamp_Open_Position       7996 non-null   float64\n",
      " 18  Max_Injection_Speed       7996 non-null   float64\n",
      " 19  Max_Screw_RPM             7996 non-null   float64\n",
      " 20  Average_Screw_RPM         7996 non-null   float64\n",
      " 21  Max_Injection_Pressure    7996 non-null   float64\n",
      " 22  Max_Switch_Over_Pressure  7996 non-null   float64\n",
      " 23  Max_Back_Pressure         7996 non-null   float64\n",
      " 24  Average_Back_Pressure     7996 non-null   float64\n",
      " 25  Barrel_Temperature_1      7996 non-null   float64\n",
      " 26  Barrel_Temperature_2      7996 non-null   float64\n",
      " 27  Barrel_Temperature_3      7996 non-null   float64\n",
      " 28  Barrel_Temperature_4      7996 non-null   float64\n",
      " 29  Barrel_Temperature_5      7996 non-null   float64\n",
      " 30  Barrel_Temperature_6      7996 non-null   float64\n",
      " 31  Barrel_Temperature_7      7996 non-null   float64\n",
      " 32  Hopper_Temperature        7996 non-null   float64\n",
      " 33  Mold_Temperature_1        7996 non-null   float64\n",
      " 34  Mold_Temperature_2        7996 non-null   float64\n",
      " 35  Mold_Temperature_3        7996 non-null   float64\n",
      " 36  Mold_Temperature_4        7996 non-null   float64\n",
      " 37  Mold_Temperature_5        7996 non-null   float64\n",
      " 38  Mold_Temperature_6        7996 non-null   float64\n",
      " 39  Mold_Temperature_7        7996 non-null   float64\n",
      " 40  Mold_Temperature_8        7996 non-null   float64\n",
      " 41  Mold_Temperature_9        7996 non-null   float64\n",
      " 42  Mold_Temperature_10       7996 non-null   float64\n",
      " 43  Mold_Temperature_11       7996 non-null   float64\n",
      " 44  Mold_Temperature_12       7996 non-null   float64\n",
      "dtypes: float64(36), int64(1), object(8)\n",
      "memory usage: 2.7+ MB\n"
     ]
    }
   ],
   "source": [
    "df.info()"
   ]
  },
  {
   "cell_type": "markdown",
   "id": "f7ad5237-31b7-417b-9e13-9e5f42ac52a8",
   "metadata": {},
   "source": [
    "# 2. Data Preprocessing"
   ]
  },
  {
   "cell_type": "markdown",
   "id": "e1c53ea4-ba06-43ff-9a31-7706603a1711",
   "metadata": {},
   "source": [
    "## 2.1. Dropping the columns that have only one unique value"
   ]
  },
  {
   "cell_type": "code",
   "execution_count": 5,
   "id": "ac3966d1-bdb2-47e4-9e6f-c8590dabd979",
   "metadata": {},
   "outputs": [
    {
     "data": {
      "text/plain": [
       "_id                         5232\n",
       "TimeStamp                   2625\n",
       "PART_FACT_PLAN_DATE           13\n",
       "PART_FACT_SERIAL              17\n",
       "PART_NAME                      6\n",
       "EQUIP_CD                       3\n",
       "EQUIP_NAME                     3\n",
       "PassOrFail                     2\n",
       "Reason                         4\n",
       "Injection_Time                36\n",
       "Filling_Time                  35\n",
       "Plasticizing_Time            121\n",
       "Cycle_Time                    48\n",
       "Clamp_Close_Time              13\n",
       "Cushion_Position              22\n",
       "Switch_Over_Position           3\n",
       "Plasticizing_Position         49\n",
       "Clamp_Open_Position            5\n",
       "Max_Injection_Speed           55\n",
       "Max_Screw_RPM                 11\n",
       "Average_Screw_RPM             16\n",
       "Max_Injection_Pressure        35\n",
       "Max_Switch_Over_Pressure      69\n",
       "Max_Back_Pressure             68\n",
       "Average_Back_Pressure         53\n",
       "Barrel_Temperature_1          67\n",
       "Barrel_Temperature_2          60\n",
       "Barrel_Temperature_3          45\n",
       "Barrel_Temperature_4          79\n",
       "Barrel_Temperature_5          56\n",
       "Barrel_Temperature_6          37\n",
       "Barrel_Temperature_7           2\n",
       "Hopper_Temperature            94\n",
       "Mold_Temperature_1             1\n",
       "Mold_Temperature_2             1\n",
       "Mold_Temperature_3            56\n",
       "Mold_Temperature_4            55\n",
       "Mold_Temperature_5             1\n",
       "Mold_Temperature_6             1\n",
       "Mold_Temperature_7             1\n",
       "Mold_Temperature_8             1\n",
       "Mold_Temperature_9             1\n",
       "Mold_Temperature_10            1\n",
       "Mold_Temperature_11            1\n",
       "Mold_Temperature_12            1\n",
       "dtype: int64"
      ]
     },
     "execution_count": 5,
     "metadata": {},
     "output_type": "execute_result"
    }
   ],
   "source": [
    "# Check on the Unique value\n",
    "\n",
    "df.nunique()"
   ]
  },
  {
   "cell_type": "code",
   "execution_count": 6,
   "id": "f25568ca-d13f-4db1-8cbc-4b7980f91dd1",
   "metadata": {},
   "outputs": [],
   "source": [
    "# Mold_Temperature_s that have only one unique value are dropped\n",
    "\n",
    "df.drop(\n",
    "    columns=[\"Mold_Temperature_1\", \"Mold_Temperature_2\", \"Mold_Temperature_5\", \n",
    "             \"Mold_Temperature_6\", \"Mold_Temperature_7\", \"Mold_Temperature_8\",\n",
    "             \"Mold_Temperature_9\", \"Mold_Temperature_10\", \"Mold_Temperature_11\",\n",
    "             \"Mold_Temperature_12\"],\n",
    "    inplace=True\n",
    ")"
   ]
  },
  {
   "cell_type": "markdown",
   "id": "2401c4fd-8cd8-434f-ac18-dfeadce7b0ac",
   "metadata": {},
   "source": [
    "## 2.2. Removal of duplicated rows"
   ]
  },
  {
   "cell_type": "code",
   "execution_count": 7,
   "id": "f2ace337-690b-4776-9a5c-712cc7198e53",
   "metadata": {},
   "outputs": [],
   "source": [
    "# The number of unique _id is smaller than the number of rows --> Duplicated rows are removed\n",
    "\n",
    "df.drop_duplicates(keep=\"first\", inplace=True)"
   ]
  },
  {
   "cell_type": "code",
   "execution_count": 8,
   "id": "a3ef0eda-b637-4083-b3fa-3a133e89ed7c",
   "metadata": {},
   "outputs": [
    {
     "name": "stdout",
     "output_type": "stream",
     "text": [
      "<class 'pandas.core.frame.DataFrame'>\n",
      "Int64Index: 5232 entries, 0 to 5231\n",
      "Data columns (total 35 columns):\n",
      " #   Column                    Non-Null Count  Dtype  \n",
      "---  ------                    --------------  -----  \n",
      " 0   _id                       5232 non-null   object \n",
      " 1   TimeStamp                 5232 non-null   object \n",
      " 2   PART_FACT_PLAN_DATE       5232 non-null   object \n",
      " 3   PART_FACT_SERIAL          5232 non-null   int64  \n",
      " 4   PART_NAME                 5232 non-null   object \n",
      " 5   EQUIP_CD                  5232 non-null   object \n",
      " 6   EQUIP_NAME                5232 non-null   object \n",
      " 7   PassOrFail                5232 non-null   object \n",
      " 8   Reason                    5232 non-null   object \n",
      " 9   Injection_Time            5232 non-null   float64\n",
      " 10  Filling_Time              5232 non-null   float64\n",
      " 11  Plasticizing_Time         5232 non-null   float64\n",
      " 12  Cycle_Time                5232 non-null   float64\n",
      " 13  Clamp_Close_Time          5232 non-null   float64\n",
      " 14  Cushion_Position          5232 non-null   float64\n",
      " 15  Switch_Over_Position      5232 non-null   float64\n",
      " 16  Plasticizing_Position     5232 non-null   float64\n",
      " 17  Clamp_Open_Position       5232 non-null   float64\n",
      " 18  Max_Injection_Speed       5232 non-null   float64\n",
      " 19  Max_Screw_RPM             5232 non-null   float64\n",
      " 20  Average_Screw_RPM         5232 non-null   float64\n",
      " 21  Max_Injection_Pressure    5232 non-null   float64\n",
      " 22  Max_Switch_Over_Pressure  5232 non-null   float64\n",
      " 23  Max_Back_Pressure         5232 non-null   float64\n",
      " 24  Average_Back_Pressure     5232 non-null   float64\n",
      " 25  Barrel_Temperature_1      5232 non-null   float64\n",
      " 26  Barrel_Temperature_2      5232 non-null   float64\n",
      " 27  Barrel_Temperature_3      5232 non-null   float64\n",
      " 28  Barrel_Temperature_4      5232 non-null   float64\n",
      " 29  Barrel_Temperature_5      5232 non-null   float64\n",
      " 30  Barrel_Temperature_6      5232 non-null   float64\n",
      " 31  Barrel_Temperature_7      5232 non-null   float64\n",
      " 32  Hopper_Temperature        5232 non-null   float64\n",
      " 33  Mold_Temperature_3        5232 non-null   float64\n",
      " 34  Mold_Temperature_4        5232 non-null   float64\n",
      "dtypes: float64(26), int64(1), object(8)\n",
      "memory usage: 1.4+ MB\n"
     ]
    }
   ],
   "source": [
    "df.info()"
   ]
  },
  {
   "cell_type": "markdown",
   "id": "3104e75a-9359-46cb-b9e1-2ad56bdbe492",
   "metadata": {},
   "source": [
    "## 2.3. Change the time formate for the column, `PART_FACT_PLAN_DATE`"
   ]
  },
  {
   "cell_type": "code",
   "execution_count": 9,
   "id": "e225f665-c1f6-4733-b6fc-833eb76eacf7",
   "metadata": {},
   "outputs": [
    {
     "data": {
      "text/plain": [
       "array(['2020-10-16 오전 12:00:00', '2020-10-20 오전 12:00:00',\n",
       "       '2020-10-21 오전 12:00:00', '2020-10-22 오전 12:00:00',\n",
       "       '2020-10-23 오전 12:00:00', '2020-10-27 오전 12:00:00',\n",
       "       '2020-10-28 오전 12:00:00', '2020-10-29 오전 12:00:00',\n",
       "       '2020-10-30 오전 12:00:00', '2020-11-03 오전 12:00:00',\n",
       "       '2020-11-04 오전 12:00:00', '2020-11-05 오전 12:00:00',\n",
       "       '2020-11-06 오전 12:00:00'], dtype=object)"
      ]
     },
     "execution_count": 9,
     "metadata": {},
     "output_type": "execute_result"
    }
   ],
   "source": [
    "df[\"PART_FACT_PLAN_DATE\"].unique()"
   ]
  },
  {
   "cell_type": "code",
   "execution_count": 10,
   "id": "f6c432b8-d445-4bc7-8f05-ee3ae002e87e",
   "metadata": {},
   "outputs": [],
   "source": [
    "df[\"PART_FACT_PLAN_DATE\"] = df[\"PART_FACT_PLAN_DATE\"].str.replace(\"오전 12\", \"00\")"
   ]
  },
  {
   "cell_type": "code",
   "execution_count": 11,
   "id": "9ba9f9b3-0203-45ec-828c-5f4639f3d840",
   "metadata": {},
   "outputs": [
    {
     "data": {
      "text/plain": [
       "array(['2020-10-16 00:00:00', '2020-10-20 00:00:00',\n",
       "       '2020-10-21 00:00:00', '2020-10-22 00:00:00',\n",
       "       '2020-10-23 00:00:00', '2020-10-27 00:00:00',\n",
       "       '2020-10-28 00:00:00', '2020-10-29 00:00:00',\n",
       "       '2020-10-30 00:00:00', '2020-11-03 00:00:00',\n",
       "       '2020-11-04 00:00:00', '2020-11-05 00:00:00',\n",
       "       '2020-11-06 00:00:00'], dtype=object)"
      ]
     },
     "execution_count": 11,
     "metadata": {},
     "output_type": "execute_result"
    }
   ],
   "source": [
    "df[\"PART_FACT_PLAN_DATE\"].unique()"
   ]
  },
  {
   "cell_type": "markdown",
   "id": "bb2d9157-15c7-4eaa-bd9c-e268451f4bc1",
   "metadata": {},
   "source": [
    "## 2.4. Transformation of the values in `PassOrFail`"
   ]
  },
  {
   "cell_type": "code",
   "execution_count": 12,
   "id": "48642f31-e21a-4022-b303-71fd2d1da081",
   "metadata": {},
   "outputs": [
    {
     "data": {
      "text/plain": [
       "Y    5172\n",
       "N      60\n",
       "Name: PassOrFail, dtype: int64"
      ]
     },
     "execution_count": 12,
     "metadata": {},
     "output_type": "execute_result"
    }
   ],
   "source": [
    "df[\"PassOrFail\"].value_counts()"
   ]
  },
  {
   "cell_type": "code",
   "execution_count": 13,
   "id": "c6739f67-c643-4f79-8231-5209f2323ad2",
   "metadata": {},
   "outputs": [],
   "source": [
    "# Change Y/N to 1/0\n",
    "\n",
    "df[\"PassOrFail\"] = df[\"PassOrFail\"].apply(lambda x: 1 if x == \"N\" else 0) "
   ]
  },
  {
   "cell_type": "markdown",
   "id": "26b01a20-7da5-43c7-9418-def53b4f9b29",
   "metadata": {},
   "source": [
    "# 3. Saving the preprocessed dataframe as csv"
   ]
  },
  {
   "cell_type": "code",
   "execution_count": 14,
   "id": "0567f5c2-6dee-469c-a434-f1cd8489111c",
   "metadata": {},
   "outputs": [],
   "source": [
    "df.to_csv(\"../data/interim/labeled_data_1.csv\", index=False)"
   ]
  }
 ],
 "metadata": {
  "kernelspec": {
   "display_name": "Python [conda env:ls_env]",
   "language": "python",
   "name": "conda-env-ls_env-py"
  },
  "language_info": {
   "codemirror_mode": {
    "name": "ipython",
    "version": 3
   },
   "file_extension": ".py",
   "mimetype": "text/x-python",
   "name": "python",
   "nbconvert_exporter": "python",
   "pygments_lexer": "ipython3",
   "version": "3.10.8"
  }
 },
 "nbformat": 4,
 "nbformat_minor": 5
}
