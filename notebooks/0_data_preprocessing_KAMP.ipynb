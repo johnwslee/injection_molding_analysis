{
 "cells": [
  {
   "cell_type": "markdown",
   "id": "bfeabc3c-3ebe-4c8f-85ad-e3c058209de0",
   "metadata": {},
   "source": [
    "# Imports"
   ]
  },
  {
   "cell_type": "code",
   "execution_count": 1,
   "id": "97be1e08-f742-4664-9aae-cd34068183dc",
   "metadata": {},
   "outputs": [],
   "source": [
    "import pandas as pd\n",
    "import numpy as np"
   ]
  },
  {
   "cell_type": "markdown",
   "id": "2ef4e5d7-3179-45ca-8d50-052c561a3e03",
   "metadata": {},
   "source": [
    "# Data Read In"
   ]
  },
  {
   "cell_type": "code",
   "execution_count": 2,
   "id": "cf967899-6162-455a-be84-0a4a53366a5d",
   "metadata": {},
   "outputs": [],
   "source": [
    "label_data = pd.read_csv(\"data/raw/labeled_data.csv\")"
   ]
  },
  {
   "cell_type": "code",
   "execution_count": 3,
   "id": "03206431-93f9-4a43-97e8-dd7d7d42099a",
   "metadata": {},
   "outputs": [
    {
     "name": "stdout",
     "output_type": "stream",
     "text": [
      "<class 'pandas.core.frame.DataFrame'>\n",
      "RangeIndex: 7996 entries, 0 to 7995\n",
      "Data columns (total 45 columns):\n",
      " #   Column                    Non-Null Count  Dtype  \n",
      "---  ------                    --------------  -----  \n",
      " 0   _id                       7996 non-null   object \n",
      " 1   TimeStamp                 7996 non-null   object \n",
      " 2   PART_FACT_PLAN_DATE       7996 non-null   object \n",
      " 3   PART_FACT_SERIAL          7996 non-null   int64  \n",
      " 4   PART_NAME                 7996 non-null   object \n",
      " 5   EQUIP_CD                  7996 non-null   object \n",
      " 6   EQUIP_NAME                7996 non-null   object \n",
      " 7   PassOrFail                7996 non-null   object \n",
      " 8   Reason                    7996 non-null   object \n",
      " 9   Injection_Time            7996 non-null   float64\n",
      " 10  Filling_Time              7996 non-null   float64\n",
      " 11  Plasticizing_Time         7996 non-null   float64\n",
      " 12  Cycle_Time                7996 non-null   float64\n",
      " 13  Clamp_Close_Time          7996 non-null   float64\n",
      " 14  Cushion_Position          7996 non-null   float64\n",
      " 15  Switch_Over_Position      7996 non-null   float64\n",
      " 16  Plasticizing_Position     7996 non-null   float64\n",
      " 17  Clamp_Open_Position       7996 non-null   float64\n",
      " 18  Max_Injection_Speed       7996 non-null   float64\n",
      " 19  Max_Screw_RPM             7996 non-null   float64\n",
      " 20  Average_Screw_RPM         7996 non-null   float64\n",
      " 21  Max_Injection_Pressure    7996 non-null   float64\n",
      " 22  Max_Switch_Over_Pressure  7996 non-null   float64\n",
      " 23  Max_Back_Pressure         7996 non-null   float64\n",
      " 24  Average_Back_Pressure     7996 non-null   float64\n",
      " 25  Barrel_Temperature_1      7996 non-null   float64\n",
      " 26  Barrel_Temperature_2      7996 non-null   float64\n",
      " 27  Barrel_Temperature_3      7996 non-null   float64\n",
      " 28  Barrel_Temperature_4      7996 non-null   float64\n",
      " 29  Barrel_Temperature_5      7996 non-null   float64\n",
      " 30  Barrel_Temperature_6      7996 non-null   float64\n",
      " 31  Barrel_Temperature_7      7996 non-null   float64\n",
      " 32  Hopper_Temperature        7996 non-null   float64\n",
      " 33  Mold_Temperature_1        7996 non-null   float64\n",
      " 34  Mold_Temperature_2        7996 non-null   float64\n",
      " 35  Mold_Temperature_3        7996 non-null   float64\n",
      " 36  Mold_Temperature_4        7996 non-null   float64\n",
      " 37  Mold_Temperature_5        7996 non-null   float64\n",
      " 38  Mold_Temperature_6        7996 non-null   float64\n",
      " 39  Mold_Temperature_7        7996 non-null   float64\n",
      " 40  Mold_Temperature_8        7996 non-null   float64\n",
      " 41  Mold_Temperature_9        7996 non-null   float64\n",
      " 42  Mold_Temperature_10       7996 non-null   float64\n",
      " 43  Mold_Temperature_11       7996 non-null   float64\n",
      " 44  Mold_Temperature_12       7996 non-null   float64\n",
      "dtypes: float64(36), int64(1), object(8)\n",
      "memory usage: 2.7+ MB\n"
     ]
    }
   ],
   "source": [
    "label_data.info()"
   ]
  },
  {
   "cell_type": "markdown",
   "id": "f7ad5237-31b7-417b-9e13-9e5f42ac52a8",
   "metadata": {},
   "source": [
    "# Data Preprocessing"
   ]
  },
  {
   "cell_type": "code",
   "execution_count": 4,
   "id": "ac3966d1-bdb2-47e4-9e6f-c8590dabd979",
   "metadata": {},
   "outputs": [
    {
     "data": {
      "text/plain": [
       "650톤-우진2호기    7992\n",
       "1800TON-우진       2\n",
       "650톤-우진          2\n",
       "Name: EQUIP_NAME, dtype: int64"
      ]
     },
     "execution_count": 4,
     "metadata": {},
     "output_type": "execute_result"
    }
   ],
   "source": [
    "# 데이터의 호기 종류 및 개수 확인\n",
    "\n",
    "label_data[\"EQUIP_NAME\"].value_counts()"
   ]
  },
  {
   "cell_type": "code",
   "execution_count": 5,
   "id": "0c513fa7-8e1b-453c-a1c7-2644195fc21f",
   "metadata": {},
   "outputs": [
    {
     "data": {
      "text/plain": [
       "CN7 W/S SIDE MLD'G RH        3371\n",
       "CN7 W/S SIDE MLD'G LH        3365\n",
       "RG3 MOLD'G W/SHLD, LH         628\n",
       "RG3 MOLD'G W/SHLD, RH         628\n",
       "SP2 CVR ROOF RACK CTR, RH       2\n",
       "JX1 W/S SIDE MLD'G RH           2\n",
       "Name: PART_NAME, dtype: int64"
      ]
     },
     "execution_count": 5,
     "metadata": {},
     "output_type": "execute_result"
    }
   ],
   "source": [
    "# 데이터의 PART_NAME 확인\n",
    "\n",
    "label_data[\"PART_NAME\"].value_counts()"
   ]
  },
  {
   "cell_type": "code",
   "execution_count": 6,
   "id": "eb8497b3-76b4-4bb4-bef9-c665220fa170",
   "metadata": {},
   "outputs": [],
   "source": [
    "def make_input(data, machine_name, product_name):\n",
    "    machine_ = data[\"EQUIP_NAME\"] == machine_name\n",
    "    product_ = data[\"PART_NAME\"] == product_name\n",
    "    data = data[machine_ & product_]\n",
    "    \n",
    "    # 불필요한 column 제거\n",
    "    data = data.drop(columns=[\n",
    "        \"_id\", \"TimeStamp\", \"PART_FACT_PLAN_DATE\", \"Reason\",\n",
    "        \"PART_FACT_SERIAL\", \"PART_NAME\", \"EQUIP_CD\", \"EQUIP_NAME\",\n",
    "        # 값이 모두 0인 변수들 제거\n",
    "        \"Mold_Temperature_1\", \"Mold_Temperature_2\", \"Mold_Temperature_5\",\n",
    "        \"Mold_Temperature_6\", \"Mold_Temperature_7\", \"Mold_Temperature_8\",\n",
    "        \"Mold_Temperature_9\", \"Mold_Temperature_10\", \"Mold_Temperature_11\",\n",
    "        \"Mold_Temperature_12\"\n",
    "    ], axis=1)\n",
    "    return data"
   ]
  },
  {
   "cell_type": "code",
   "execution_count": 7,
   "id": "987491b4-2e96-4ad6-bbd4-6a68a11f4f2f",
   "metadata": {},
   "outputs": [],
   "source": [
    "machine_name = \"650톤-우진2호기\"\n",
    "product_name = [\n",
    "    \"CN7 W/S SIDE MLD'G LH\", \"CN7 W/S SIDE MLD'G RH\", \n",
    "    \"RG3 MOLD'G W/SHLD, LH\", \"RG3 MOLD'G W/SHLD, RH\"\n",
    "]"
   ]
  },
  {
   "cell_type": "code",
   "execution_count": 8,
   "id": "15c1aa36-0305-4155-80dc-813a5b6e2503",
   "metadata": {},
   "outputs": [],
   "source": [
    "cn7lh = make_input(label_data, machine_name, product_name[0])\n",
    "cn7rh = make_input(label_data, machine_name, product_name[1])\n",
    "rg3lh = make_input(label_data, machine_name, product_name[2])\n",
    "rg3rh = make_input(label_data, machine_name, product_name[3])"
   ]
  },
  {
   "cell_type": "code",
   "execution_count": 9,
   "id": "0594b403-0e7e-422e-a241-5062dda00681",
   "metadata": {},
   "outputs": [],
   "source": [
    "# 동일한 제품의 LH와 RH를 합침\n",
    "cn7 = pd.concat([cn7lh, cn7rh], ignore_index=True)\n",
    "rg3 = pd.concat([rg3lh, rg3rh], ignore_index=True)"
   ]
  },
  {
   "cell_type": "code",
   "execution_count": 10,
   "id": "ee88e0a4-62fb-48f2-bee8-8faac430b858",
   "metadata": {},
   "outputs": [
    {
     "data": {
      "text/plain": [
       "PassOrFail                   2\n",
       "Injection_Time              30\n",
       "Filling_Time                29\n",
       "Plasticizing_Time           81\n",
       "Cycle_Time                  34\n",
       "Clamp_Close_Time             8\n",
       "Cushion_Position            11\n",
       "Switch_Over_Position         1\n",
       "Plasticizing_Position       36\n",
       "Clamp_Open_Position          2\n",
       "Max_Injection_Speed         38\n",
       "Max_Screw_RPM               10\n",
       "Average_Screw_RPM           10\n",
       "Max_Injection_Pressure      20\n",
       "Max_Switch_Over_Pressure    34\n",
       "Max_Back_Pressure           38\n",
       "Average_Back_Pressure       26\n",
       "Barrel_Temperature_1        41\n",
       "Barrel_Temperature_2        36\n",
       "Barrel_Temperature_3        26\n",
       "Barrel_Temperature_4        48\n",
       "Barrel_Temperature_5        33\n",
       "Barrel_Temperature_6        23\n",
       "Barrel_Temperature_7         1\n",
       "Hopper_Temperature          80\n",
       "Mold_Temperature_3          54\n",
       "Mold_Temperature_4          51\n",
       "dtype: int64"
      ]
     },
     "execution_count": 10,
     "metadata": {},
     "output_type": "execute_result"
    }
   ],
   "source": [
    "cn7.nunique()"
   ]
  },
  {
   "cell_type": "code",
   "execution_count": 11,
   "id": "f554fd2d-3861-4957-8f87-af1692f59d2f",
   "metadata": {},
   "outputs": [],
   "source": [
    "# 값이 1개인 변수 \"Switch_Over_Position\"와 \"Barrel_Temperature_7\" 제거\n",
    "cn7.drop(columns=[\"Switch_Over_Position\", \"Barrel_Temperature_7\"], inplace=True)"
   ]
  },
  {
   "cell_type": "code",
   "execution_count": 12,
   "id": "da0820a7-65c7-4a44-8644-0c6bc8f6f337",
   "metadata": {},
   "outputs": [
    {
     "data": {
      "text/plain": [
       "PassOrFail                   2\n",
       "Injection_Time               4\n",
       "Filling_Time                 4\n",
       "Plasticizing_Time           38\n",
       "Cycle_Time                  12\n",
       "Clamp_Close_Time             3\n",
       "Cushion_Position             9\n",
       "Switch_Over_Position         2\n",
       "Plasticizing_Position       11\n",
       "Clamp_Open_Position          1\n",
       "Max_Injection_Speed         15\n",
       "Max_Screw_RPM                5\n",
       "Average_Screw_RPM            5\n",
       "Max_Injection_Pressure      17\n",
       "Max_Switch_Over_Pressure    33\n",
       "Max_Back_Pressure           28\n",
       "Average_Back_Pressure       32\n",
       "Barrel_Temperature_1        25\n",
       "Barrel_Temperature_2        22\n",
       "Barrel_Temperature_3        17\n",
       "Barrel_Temperature_4        30\n",
       "Barrel_Temperature_5        21\n",
       "Barrel_Temperature_6        12\n",
       "Barrel_Temperature_7         1\n",
       "Hopper_Temperature          53\n",
       "Mold_Temperature_3          26\n",
       "Mold_Temperature_4          32\n",
       "dtype: int64"
      ]
     },
     "execution_count": 12,
     "metadata": {},
     "output_type": "execute_result"
    }
   ],
   "source": [
    "rg3.nunique()"
   ]
  },
  {
   "cell_type": "code",
   "execution_count": 13,
   "id": "f73273fd-cc0d-40d0-8a04-83063fc2af4d",
   "metadata": {},
   "outputs": [],
   "source": [
    "# 값이 1개인 변수 \"Clamp_Open_Position\"와 \"Barrel_Temperature_7\" 제거\n",
    "rg3.drop(columns=[\"Clamp_Open_Position\", \"Barrel_Temperature_7\"], inplace=True)"
   ]
  },
  {
   "cell_type": "code",
   "execution_count": 14,
   "id": "0567f5c2-6dee-469c-a434-f1cd8489111c",
   "metadata": {},
   "outputs": [],
   "source": [
    "# 1차 가공 dataframe csv로 저장\n",
    "\n",
    "cn7.to_csv(\"data/processed/labeled_data_KAMP_cn7.csv\", index=False)\n",
    "rg3.to_csv(\"data/processed/labeled_data_KAMP_rg3.csv\", index=False)"
   ]
  }
 ],
 "metadata": {
  "kernelspec": {
   "display_name": "Python [conda env:ls_env]",
   "language": "python",
   "name": "conda-env-ls_env-py"
  },
  "language_info": {
   "codemirror_mode": {
    "name": "ipython",
    "version": 3
   },
   "file_extension": ".py",
   "mimetype": "text/x-python",
   "name": "python",
   "nbconvert_exporter": "python",
   "pygments_lexer": "ipython3",
   "version": "3.10.8"
  }
 },
 "nbformat": 4,
 "nbformat_minor": 5
}
