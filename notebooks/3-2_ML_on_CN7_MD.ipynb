{
 "cells": [
  {
   "cell_type": "markdown",
   "id": "bfeabc3c-3ebe-4c8f-85ad-e3c058209de0",
   "metadata": {},
   "source": [
    "# 0. Imports"
   ]
  },
  {
   "cell_type": "code",
   "execution_count": 1,
   "id": "97be1e08-f742-4664-9aae-cd34068183dc",
   "metadata": {},
   "outputs": [],
   "source": [
    "import pandas as pd\n",
    "import numpy as np\n",
    "import scipy as sp\n",
    "from scipy.stats import chi2\n",
    "import matplotlib.pyplot as plt\n",
    "import seaborn as sns\n",
    "\n",
    "from collections import defaultdict\n",
    "import time\n",
    "from datetime import timedelta\n",
    "\n",
    "from sklearn.preprocessing import MinMaxScaler, StandardScaler\n",
    "from sklearn.model_selection import train_test_split\n",
    "from sklearn.metrics import confusion_matrix, classification_report"
   ]
  },
  {
   "cell_type": "markdown",
   "id": "6749c29f-62cb-4c13-96a5-980a90d12888",
   "metadata": {},
   "source": [
    "# 1. Data"
   ]
  },
  {
   "cell_type": "code",
   "execution_count": 2,
   "id": "11d01b97-0d88-470d-b99a-72626c8b3e34",
   "metadata": {},
   "outputs": [],
   "source": [
    "cn7 = pd.read_csv(\"../data/processed/labeled_data_cn7.csv\", parse_dates=True)"
   ]
  },
  {
   "cell_type": "code",
   "execution_count": 3,
   "id": "0ffc6350-b5b1-4bc6-9ee3-e9c15362bb36",
   "metadata": {},
   "outputs": [
    {
     "name": "stdout",
     "output_type": "stream",
     "text": [
      "<class 'pandas.core.frame.DataFrame'>\n",
      "RangeIndex: 3974 entries, 0 to 3973\n",
      "Data columns (total 27 columns):\n",
      " #   Column                    Non-Null Count  Dtype  \n",
      "---  ------                    --------------  -----  \n",
      " 0   TimeStamp                 3974 non-null   object \n",
      " 1   PassOrFail                3974 non-null   int64  \n",
      " 2   Hopper_Temperature        3974 non-null   float64\n",
      " 3   Plasticizing_Position     3974 non-null   float64\n",
      " 4   Barrel_Temperature_3      3974 non-null   float64\n",
      " 5   Reason                    3974 non-null   object \n",
      " 6   Injection_Time            3974 non-null   float64\n",
      " 7   Max_Injection_Pressure    3974 non-null   float64\n",
      " 8   Barrel_Temperature_6      3974 non-null   float64\n",
      " 9   Barrel_Temperature_2      3974 non-null   float64\n",
      " 10  Cushion_Position          3974 non-null   float64\n",
      " 11  Max_Screw_RPM             3974 non-null   float64\n",
      " 12  Barrel_Temperature_5      3974 non-null   float64\n",
      " 13  Average_Screw_RPM         3974 non-null   float64\n",
      " 14  _id                       3974 non-null   object \n",
      " 15  Average_Back_Pressure     3974 non-null   float64\n",
      " 16  Plasticizing_Time         3974 non-null   float64\n",
      " 17  Max_Back_Pressure         3974 non-null   float64\n",
      " 18  Filling_Time              3974 non-null   float64\n",
      " 19  Max_Switch_Over_Pressure  3974 non-null   float64\n",
      " 20  Barrel_Temperature_1      3974 non-null   float64\n",
      " 21  Barrel_Temperature_4      3974 non-null   float64\n",
      " 22  Cycle_Time                3974 non-null   float64\n",
      " 23  Clamp_Close_Time          3974 non-null   float64\n",
      " 24  Mold_Temperature_4        3974 non-null   float64\n",
      " 25  Mold_Temperature_3        3974 non-null   float64\n",
      " 26  Max_Injection_Speed       3974 non-null   float64\n",
      "dtypes: float64(23), int64(1), object(3)\n",
      "memory usage: 838.4+ KB\n"
     ]
    }
   ],
   "source": [
    "cn7.info()"
   ]
  },
  {
   "cell_type": "markdown",
   "id": "d476ba58-0785-4370-b416-c80dfc0cad52",
   "metadata": {},
   "source": [
    "# 2. Data Preprocessing"
   ]
  },
  {
   "cell_type": "code",
   "execution_count": 4,
   "id": "ca4ce13b-11ca-46db-aeba-08de5d94ef80",
   "metadata": {},
   "outputs": [],
   "source": [
    "# Preparation of features for model training\n",
    "numerical_features = [x for x in cn7.columns if np.dtype(cn7[x]) == \"float64\"]"
   ]
  },
  {
   "cell_type": "code",
   "execution_count": 5,
   "id": "7509fb43-d58a-4dda-afec-5c702ff26081",
   "metadata": {},
   "outputs": [
    {
     "name": "stdout",
     "output_type": "stream",
     "text": [
      "No. of passed CN7 parts: 3946\n"
     ]
    }
   ],
   "source": [
    "# Data for passed parts\n",
    "cn7_Y = cn7[cn7[\"PassOrFail\"] == 0]\n",
    "cn7_Y = cn7_Y[numerical_features]\n",
    "print(\"No. of passed CN7 parts:\", len(cn7_Y))"
   ]
  },
  {
   "cell_type": "code",
   "execution_count": 6,
   "id": "0ac9183e-d9b0-4380-a2c7-19126573a000",
   "metadata": {},
   "outputs": [
    {
     "name": "stdout",
     "output_type": "stream",
     "text": [
      "No. of failed CN7 parts: 28\n"
     ]
    }
   ],
   "source": [
    "# Data for failed parts\n",
    "cn7_N = cn7[cn7[\"PassOrFail\"] == 1]\n",
    "cn7_N = cn7_N[numerical_features]\n",
    "print(\"No. of failed CN7 parts:\", len(cn7_N))"
   ]
  },
  {
   "cell_type": "code",
   "execution_count": 7,
   "id": "20110606-19d5-4e81-baaa-8eba73ca661a",
   "metadata": {},
   "outputs": [
    {
     "name": "stdout",
     "output_type": "stream",
     "text": [
      "No. of Train Set (Passed Parts): 3551\n",
      "No. of Test Set (Passed Parts): 395\n",
      "No. of Test Set (Failed Parts): 28\n"
     ]
    }
   ],
   "source": [
    "# The model using Mahalanobis Distance is trained by Data for passed parts (i.e., data with a majority class)\n",
    "cn7_train_Y, cn7_test_Y = train_test_split(cn7_Y, test_size=0.1)\n",
    "\n",
    "# Test set with failed parts\n",
    "cn7_test_N = cn7_N\n",
    "\n",
    "print(f\"No. of Train Set (Passed Parts): {len(cn7_train_Y)}\")\n",
    "print(f\"No. of Test Set (Passed Parts): {len(cn7_test_Y)}\")\n",
    "print(f\"No. of Test Set (Failed Parts): {len(cn7_test_N)}\")"
   ]
  },
  {
   "cell_type": "code",
   "execution_count": 8,
   "id": "d2032b24-477d-4a02-87e8-a990aef8fea2",
   "metadata": {},
   "outputs": [],
   "source": [
    "# Data normalization\n",
    "\n",
    "scaler = StandardScaler()\n",
    "\n",
    "cn7_train_Y = scaler.fit_transform(cn7_train_Y)\n",
    "cn7_test_Y = scaler.transform(cn7_test_Y)\n",
    "cn7_test_N = scaler.transform(cn7_test_N)"
   ]
  },
  {
   "cell_type": "markdown",
   "id": "0acdf843-6077-4018-b3ea-423452b90e39",
   "metadata": {},
   "source": [
    "# 3. Mahalanobis Distance"
   ]
  },
  {
   "cell_type": "code",
   "execution_count": 9,
   "id": "0ed8a91b-47be-49cc-945f-3c2a8ce09780",
   "metadata": {},
   "outputs": [],
   "source": [
    "def mahalanobis(x=None, data=None, cov=None):\n",
    "    \"\"\"\n",
    "    Compute the Mahalanobis Distance between each row of x and the data  \n",
    "    x    : vector or matrix of data with, say, p columns.\n",
    "    data : ndarray of the distribution from which Mahalanobis distance of each observation of x is to be computed.\n",
    "    cov  : covariance matrix (p x p) of the distribution. If None, will be computed from data.\n",
    "    \"\"\"\n",
    "    x_minus_mu = x - np.mean(data, axis=0)\n",
    "    if not cov:\n",
    "        cov = np.cov(data.T)\n",
    "        # cov = np.cov(data.values.T)\n",
    "    inv_covmat = sp.linalg.inv(cov)\n",
    "    left_term = np.dot(x_minus_mu, inv_covmat)\n",
    "    mahal = np.dot(left_term, x_minus_mu.T)\n",
    "    return mahal.diagonal()  # Can't understand why .diagonal() is used"
   ]
  },
  {
   "cell_type": "code",
   "execution_count": 10,
   "id": "cd7152de-3dd5-485c-ad8f-9db5628b3257",
   "metadata": {},
   "outputs": [],
   "source": [
    "class MahalanobisOneclassClassifier():\n",
    "    def __init__(self, xtrain, significance_level=0.01):\n",
    "        self.xtrain = xtrain\n",
    "        self.critical_value = chi2.ppf((1-significance_level), df=xtrain.shape[1] - 1) # df = degree of freedom\n",
    "        print('Critical value is: ', self.critical_value)\n",
    "\n",
    "    def predict_proba(self, xtest):\n",
    "        mahalanobis_dist = mahalanobis(xtest, self.xtrain)\n",
    "        self.pvalues = 1 - chi2.cdf(mahalanobis_dist, 2)\n",
    "        return mahalanobis_dist\n",
    "\n",
    "    def predict(self, xtest):\n",
    "        return np.array([int(i) for i in self.predict_proba(xtest) > self.critical_value])"
   ]
  },
  {
   "cell_type": "markdown",
   "id": "7a439320-3074-4e43-b4c8-450c1b4fde4a",
   "metadata": {},
   "source": [
    "# 4. Setup of Threshold"
   ]
  },
  {
   "cell_type": "code",
   "execution_count": 11,
   "id": "260c938a-f2fb-4c64-99fb-fbf59d80887f",
   "metadata": {},
   "outputs": [
    {
     "name": "stdout",
     "output_type": "stream",
     "text": [
      "Critical value is:  30.813282343953027\n"
     ]
    }
   ],
   "source": [
    "clf = MahalanobisOneclassClassifier(cn7_train_Y, significance_level=0.1)"
   ]
  },
  {
   "cell_type": "code",
   "execution_count": 12,
   "id": "8ee61460-5e70-46e8-aba0-7527f193dcb7",
   "metadata": {},
   "outputs": [],
   "source": [
    "threshold = clf.critical_value"
   ]
  },
  {
   "cell_type": "markdown",
   "id": "6e674593-3220-409c-82bf-08b3f330cf2e",
   "metadata": {},
   "source": [
    "# 5. Classification of Test Set by Mahalanobis Distance"
   ]
  },
  {
   "cell_type": "markdown",
   "id": "bcb19903-b68f-4fb5-9169-2f1c2f4bde9e",
   "metadata": {},
   "source": [
    "## 5.1. Evaluation Using Test Set (Passed Parts)"
   ]
  },
  {
   "cell_type": "code",
   "execution_count": 13,
   "id": "f13a656e-0223-41e7-8c88-a854000bcb48",
   "metadata": {},
   "outputs": [],
   "source": [
    "# Prediction of Mahalanobis Distance\n",
    "cn7_MD_Y = clf.predict_proba(cn7_test_Y)"
   ]
  },
  {
   "cell_type": "code",
   "execution_count": 14,
   "id": "5e57b830-3e15-4684-bdb7-ef7d5e1af119",
   "metadata": {},
   "outputs": [
    {
     "data": {
      "image/png": "[encoded data removed]",
      "text/plain": [
       "<Figure size 640x480 with 1 Axes>"
      ]
     },
     "metadata": {},
     "output_type": "display_data"
    }
   ],
   "source": [
    "# Data Visualization \n",
    "# Log was used for better visualization\n",
    "\n",
    "plt.hist(np.log(cn7_MD_Y), bins=200)\n",
    "plt.xlabel(\"log(Mahalanobis Distance)\")\n",
    "plt.ylabel(\"No of samples\")\n",
    "plt.vlines(np.log(threshold), 0, 25, color=\"red\")\n",
    "plt.show();"
   ]
  },
  {
   "cell_type": "code",
   "execution_count": 15,
   "id": "1bbc188b-403f-4751-a161-ed63f8abc49f",
   "metadata": {},
   "outputs": [
    {
     "name": "stdout",
     "output_type": "stream",
     "text": [
      "No. of Failed Parts: 24\n",
      "Accuracy: 0.9392405063291139\n"
     ]
    }
   ],
   "source": [
    "# Check on the data that were predicted as failed parts\n",
    "\n",
    "cn7_test_Y_anomalies = cn7_MD_Y > threshold\n",
    "print(\"No. of Failed Parts:\", np.sum(cn7_test_Y_anomalies))\n",
    "print(\"Accuracy:\", (cn7_test_Y.shape[0]-np.sum(cn7_test_Y_anomalies))/cn7_test_Y.shape[0])"
   ]
  },
  {
   "cell_type": "markdown",
   "id": "055407b1-4ea7-40c4-abca-00580ba44869",
   "metadata": {},
   "source": [
    "## 5.2. Evaluation Using Test Set (Failed Parts)"
   ]
  },
  {
   "cell_type": "code",
   "execution_count": 16,
   "id": "2dd8090b-ff11-4c2e-a7df-d23c4a1af6d3",
   "metadata": {},
   "outputs": [],
   "source": [
    "# Prediction of Mahalanobis Distance\n",
    "cn7_MD_N = clf.predict_proba(cn7_test_N)"
   ]
  },
  {
   "cell_type": "code",
   "execution_count": 17,
   "id": "81d6064b-f17e-43cf-a8fc-bbc96900e8af",
   "metadata": {},
   "outputs": [
    {
     "data": {
      "image/png": "[encoded data removed]",
      "text/plain": [
       "<Figure size 640x480 with 1 Axes>"
      ]
     },
     "metadata": {},
     "output_type": "display_data"
    }
   ],
   "source": [
    "# Data visualization \n",
    "# Log was used for better visualization\n",
    "\n",
    "plt.hist(np.log(cn7_MD_N), bins=50)\n",
    "plt.xlabel(\"Mahalanobis Distance\")\n",
    "plt.ylabel(\"No of samples\")\n",
    "plt.vlines(np.log(threshold), 0, 5, color=\"red\")\n",
    "plt.show();"
   ]
  },
  {
   "cell_type": "code",
   "execution_count": 18,
   "id": "695fe8ac-cdda-4b8b-b41a-649f41993637",
   "metadata": {},
   "outputs": [
    {
     "name": "stdout",
     "output_type": "stream",
     "text": [
      "No. of Failed Parts: 20\n",
      "Accuracy: 0.7142857142857143\n"
     ]
    }
   ],
   "source": [
    "# Check on the data that were predicted as failed parts\n",
    "\n",
    "cn7_test_N_anomalies = cn7_MD_N > threshold\n",
    "print(\"No. of Failed Parts:\", np.sum(cn7_test_N_anomalies))\n",
    "print(\"Accuracy:\", np.sum(cn7_test_N_anomalies)/cn7_test_N.shape[0])"
   ]
  },
  {
   "cell_type": "markdown",
   "id": "d950e685-039b-415c-95e4-cccf396de964",
   "metadata": {},
   "source": [
    "# 6. Result Analysis"
   ]
  },
  {
   "cell_type": "code",
   "execution_count": 19,
   "id": "9068d6e4-eda8-464f-8f6d-ff38bd2cad87",
   "metadata": {},
   "outputs": [],
   "source": [
    "# True values for the test set\n",
    "\n",
    "cn7_true = np.concatenate(\n",
    "    [np.zeros(len(cn7_test_Y_anomalies)), np.ones(len(cn7_test_N_anomalies))]\n",
    ")"
   ]
  },
  {
   "cell_type": "code",
   "execution_count": 20,
   "id": "0130a09a-8455-4d42-884b-ae31fbb4e326",
   "metadata": {},
   "outputs": [],
   "source": [
    "# Predicted values for the test set\n",
    "\n",
    "cn7_prediction = np.concatenate(\n",
    "    [cn7_test_Y_anomalies, cn7_test_N_anomalies]\n",
    ")"
   ]
  },
  {
   "cell_type": "code",
   "execution_count": 21,
   "id": "09bf7653-cf80-414b-936c-16282d427e8a",
   "metadata": {},
   "outputs": [
    {
     "data": {
      "text/plain": [
       "array([[371,  24],\n",
       "       [  8,  20]], dtype=int64)"
      ]
     },
     "execution_count": 21,
     "metadata": {},
     "output_type": "execute_result"
    }
   ],
   "source": [
    "confusion_matrix(cn7_true, cn7_prediction)"
   ]
  },
  {
   "cell_type": "code",
   "execution_count": 22,
   "id": "295332c3-ad08-4c02-84ce-1bdcc6194e2e",
   "metadata": {},
   "outputs": [
    {
     "data": {
      "image/png": "[encoded data removed]",
      "text/plain": [
       "<Figure size 640x480 with 2 Axes>"
      ]
     },
     "metadata": {},
     "output_type": "display_data"
    }
   ],
   "source": [
    "target_names = [\"Pass\", \"Fail\"]\n",
    "clf_report = classification_report(\n",
    "    cn7_true, cn7_prediction, target_names=target_names, output_dict=True\n",
    ")\n",
    "clf_plot = sns.heatmap(pd.DataFrame(clf_report).iloc[:-1, :].T, annot=True)\n",
    "plt.title('Classification Report for Mahalanobis Distance on CN7')\n",
    "clf_plot.figure.savefig(\"../img/clf_report_cn7_MD.png\")"
   ]
  },
  {
   "cell_type": "markdown",
   "id": "5946b2a7-fb65-4f04-b33d-dbee8550b438",
   "metadata": {},
   "source": [
    "- Performance of the model using Mahalanobis Distance was slightly less effective than the machine learning models."
   ]
  },
  {
   "cell_type": "code",
   "execution_count": null,
   "id": "c093eb72-959e-453e-91d8-d525a6ede8fe",
   "metadata": {},
   "outputs": [],
   "source": []
  }
 ],
 "metadata": {
  "kernelspec": {
   "display_name": "Python [conda env:inj_env]",
   "language": "python",
   "name": "conda-env-inj_env-py"
  },
  "language_info": {
   "codemirror_mode": {
    "name": "ipython",
    "version": 3
   },
   "file_extension": ".py",
   "mimetype": "text/x-python",
   "name": "python",
   "nbconvert_exporter": "python",
   "pygments_lexer": "ipython3",
   "version": "3.10.8"
  }
 },
 "nbformat": 4,
 "nbformat_minor": 5
}
