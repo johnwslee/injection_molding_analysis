{
 "cells": [
  {
   "cell_type": "markdown",
   "id": "bfeabc3c-3ebe-4c8f-85ad-e3c058209de0",
   "metadata": {},
   "source": [
    "# 0. Imports"
   ]
  },
  {
   "cell_type": "code",
   "execution_count": 1,
   "id": "97be1e08-f742-4664-9aae-cd34068183dc",
   "metadata": {},
   "outputs": [
    {
     "data": {
      "text/plain": [
       "<torch._C.Generator at 0x1b012e53b90>"
      ]
     },
     "execution_count": 1,
     "metadata": {},
     "output_type": "execute_result"
    }
   ],
   "source": [
    "import pandas as pd\n",
    "import numpy as np\n",
    "import matplotlib.pyplot as plt\n",
    "import seaborn as sns\n",
    "\n",
    "from collections import defaultdict\n",
    "import time\n",
    "from datetime import timedelta\n",
    "\n",
    "from sklearn.preprocessing import MinMaxScaler, StandardScaler, RobustScaler\n",
    "from sklearn.model_selection import train_test_split\n",
    "from sklearn.metrics import confusion_matrix, classification_report\n",
    "\n",
    "import torch\n",
    "import torch.nn as nn\n",
    "from torchsummary import summary\n",
    "from torch.utils.data import DataLoader\n",
    "torch.manual_seed(123)"
   ]
  },
  {
   "cell_type": "markdown",
   "id": "6749c29f-62cb-4c13-96a5-980a90d12888",
   "metadata": {},
   "source": [
    "# 1. Data Read In"
   ]
  },
  {
   "cell_type": "code",
   "execution_count": 2,
   "id": "11d01b97-0d88-470d-b99a-72626c8b3e34",
   "metadata": {},
   "outputs": [],
   "source": [
    "rg3 = pd.read_csv(\"../data/processed/labeled_data_rg3.csv\", parse_dates=True)"
   ]
  },
  {
   "cell_type": "markdown",
   "id": "d476ba58-0785-4370-b416-c80dfc0cad52",
   "metadata": {},
   "source": [
    "# 2. Data Preprocessing"
   ]
  },
  {
   "cell_type": "code",
   "execution_count": 3,
   "id": "54177ce1-28b7-482c-9bd8-08a06af8eff9",
   "metadata": {},
   "outputs": [],
   "source": [
    "# Preparation of features for model training\n",
    "numerical_features = [x for x in rg3.columns if np.dtype(rg3[x]) == \"float64\"]"
   ]
  },
  {
   "cell_type": "code",
   "execution_count": 4,
   "id": "69f7d884-af89-48ca-9ccd-2faa4393ad94",
   "metadata": {},
   "outputs": [
    {
     "name": "stdout",
     "output_type": "stream",
     "text": [
      "No. of passed RG# parts: 1224\n"
     ]
    }
   ],
   "source": [
    "# Data for passed parts\n",
    "rg3_Y = rg3[rg3[\"PassOrFail\"] == 0]\n",
    "rg3_Y = rg3_Y[numerical_features]\n",
    "print(\"No. of passed RG# parts:\", len(rg3_Y))"
   ]
  },
  {
   "cell_type": "code",
   "execution_count": 5,
   "id": "6bb90d40-3430-49f6-ab29-d5bcd392512f",
   "metadata": {},
   "outputs": [
    {
     "name": "stdout",
     "output_type": "stream",
     "text": [
      "No. of failed RG# parts: 32\n"
     ]
    }
   ],
   "source": [
    "# Data for failed parts\n",
    "rg3_N = rg3[rg3[\"PassOrFail\"] == 1]\n",
    "rg3_N = rg3_N[numerical_features]\n",
    "print(\"No. of failed RG# parts:\", len(rg3_N))"
   ]
  },
  {
   "cell_type": "code",
   "execution_count": 6,
   "id": "21d63d86-9941-4448-92c7-f6036a9fcd29",
   "metadata": {},
   "outputs": [
    {
     "name": "stdout",
     "output_type": "stream",
     "text": [
      "No. of Train Set (Passed Parts): 1101\n",
      "No. of Test Set (Passed Parts): 123\n",
      "No. of Test Set (Failed Parts): 32\n"
     ]
    }
   ],
   "source": [
    "# The autoencoder is trained by Data for passed parts (i.e., data with a majority class)\n",
    "rg3_train_Y, rg3_test_Y = train_test_split(rg3_Y, test_size=0.1)\n",
    "\n",
    "# Test set with failed parts\n",
    "rg3_test_N = rg3_N\n",
    "\n",
    "print(f\"No. of Train Set (Passed Parts): {len(rg3_train_Y)}\")\n",
    "print(f\"No. of Test Set (Passed Parts): {len(rg3_test_Y)}\")\n",
    "print(f\"No. of Test Set (Failed Parts): {len(rg3_test_N)}\")"
   ]
  },
  {
   "cell_type": "code",
   "execution_count": 7,
   "id": "5480198f-019a-4b77-b0fd-9fb97e6c5085",
   "metadata": {},
   "outputs": [],
   "source": [
    "# Data normalization\n",
    "\n",
    "scaler = StandardScaler()\n",
    "\n",
    "rg3_train_Y = scaler.fit_transform(rg3_train_Y)\n",
    "rg3_test_Y = scaler.transform(rg3_test_Y)\n",
    "rg3_test_N = scaler.transform(rg3_test_N)"
   ]
  },
  {
   "cell_type": "markdown",
   "id": "0acdf843-6077-4018-b3ea-423452b90e39",
   "metadata": {},
   "source": [
    "# 3. Variational Autoencoder"
   ]
  },
  {
   "cell_type": "code",
   "execution_count": 8,
   "id": "79d4184f-9aa8-4945-9390-3888d7eaa83e",
   "metadata": {},
   "outputs": [],
   "source": [
    "# Autoencoder Class\n",
    "\n",
    "class VariationalAutoEncoder(nn.Module):\n",
    "    def __init__(self):\n",
    "        super(VariationalAutoEncoder, self).__init__()\n",
    "        self.N = torch.distributions.Normal(0, 1)\n",
    "        self.kl = 0\n",
    "        \n",
    "        self.enc = nn.Sequential(\n",
    "            nn.Dropout(0.3),\n",
    "            nn.Linear(rg3_train_Y.shape[1], 15),\n",
    "            nn.ReLU(),\n",
    "            nn.Linear(15, 5),\n",
    "            nn.ReLU(),\n",
    "            nn.Linear(5, 1),\n",
    "        )\n",
    "        \n",
    "        self.dec = nn.Sequential(\n",
    "            nn.Linear(1, 5),\n",
    "            nn.ReLU(),\n",
    "            nn.Linear(5, 15),\n",
    "            nn.ReLU(),\n",
    "            nn.Linear(15, rg3_train_Y.shape[1]),\n",
    "        )\n",
    "        \n",
    "    def forward(self, x):\n",
    "        x = self.enc(x)\n",
    "        mu = x\n",
    "        sigma = torch.exp(x)\n",
    "        z = mu + sigma*self.N.sample(mu.shape)\n",
    "        self.kl = (sigma**2 + mu**2 - torch.log(sigma) - 1/2).sum()  # Came from Kullback-Leibler Divergence\n",
    "        return self.dec(z)"
   ]
  },
  {
   "cell_type": "code",
   "execution_count": 9,
   "id": "66eafbcd-ded0-433a-b0a5-5ef30837a3f0",
   "metadata": {},
   "outputs": [],
   "source": [
    "# Training Parameters\n",
    "\n",
    "batch_size = 30\n",
    "lr = 0.001   # learning rate\n",
    "w_d = 1e-4  # weight decay\n",
    "epochs = 100"
   ]
  },
  {
   "cell_type": "code",
   "execution_count": 10,
   "id": "7b2a22c6-d93f-4aa4-8925-6d4858b18bb6",
   "metadata": {},
   "outputs": [],
   "source": [
    "# Loader Preparation\n",
    "\n",
    "class Loader(torch.utils.data.Dataset):\n",
    "    def __init__(self):\n",
    "        super(Loader, self).__init__()\n",
    "        self.dataset = ''\n",
    "        \n",
    "    def __len__(self):\n",
    "        return len(self.dataset)\n",
    "    \n",
    "    def __getitem__(self, idx):\n",
    "        row = self.dataset[idx]\n",
    "        data = torch.from_numpy(row).float()\n",
    "        return data\n",
    "    \n",
    "    \n",
    "class RG3DataLoader(Loader):\n",
    "    def __init__(self, data_for_ae):\n",
    "        super(RG3DataLoader, self).__init__()\n",
    "        self.dataset = data_for_ae"
   ]
  },
  {
   "cell_type": "code",
   "execution_count": 11,
   "id": "989b3ad5-f150-43bd-a686-be96ee011f4e",
   "metadata": {},
   "outputs": [],
   "source": [
    "# train/validation sets split\n",
    "\n",
    "rg3_train_Y_t, rg3_train_Y_v = train_test_split(\n",
    "    rg3_train_Y, test_size=0.2, random_state=123\n",
    ")"
   ]
  },
  {
   "cell_type": "code",
   "execution_count": 12,
   "id": "c2e8f854-b246-4f80-94c2-d9b609138349",
   "metadata": {},
   "outputs": [],
   "source": [
    "train_set = RG3DataLoader(rg3_train_Y_t)\n",
    "\n",
    "train_ = DataLoader(\n",
    "    train_set,\n",
    "    batch_size=batch_size,\n",
    "    shuffle=True,\n",
    "    pin_memory=True,\n",
    "    drop_last=True\n",
    ")"
   ]
  },
  {
   "cell_type": "code",
   "execution_count": 13,
   "id": "f6211d56-6b1a-45d7-8d66-29e2961e1655",
   "metadata": {},
   "outputs": [],
   "source": [
    "valid_set = RG3DataLoader(rg3_train_Y_v)\n",
    "\n",
    "valid_ = DataLoader(\n",
    "    valid_set,\n",
    "    batch_size=batch_size,\n",
    "    shuffle=True,\n",
    "    pin_memory=True,\n",
    "    drop_last=True\n",
    ")"
   ]
  },
  {
   "cell_type": "code",
   "execution_count": 14,
   "id": "aaf3e682-d173-413e-b016-527da4fc64b0",
   "metadata": {},
   "outputs": [],
   "source": [
    "metrics = defaultdict(list)\n",
    "device = 'cpu'       #'cuda' if torch.cuda.is_available() else 'cpu'\n",
    "model = VariationalAutoEncoder()\n",
    "model.to(device)\n",
    "criterion = nn.MSELoss()\n",
    "optimizer = torch.optim.Adam(\n",
    "    model.parameters(), lr=lr, weight_decay=w_d\n",
    ")"
   ]
  },
  {
   "cell_type": "code",
   "execution_count": 15,
   "id": "12a51bef-5462-4c0f-ba5d-9bfa0218b172",
   "metadata": {},
   "outputs": [
    {
     "name": "stdout",
     "output_type": "stream",
     "text": [
      "==========================================================================================\n",
      "Layer (type:depth-idx)                   Output Shape              Param #\n",
      "==========================================================================================\n",
      "├─Sequential: 1-1                        [-1, 1]                   --\n",
      "|    └─Dropout: 2-1                      [-1, 23]                  --\n",
      "|    └─Linear: 2-2                       [-1, 15]                  360\n",
      "|    └─ReLU: 2-3                         [-1, 15]                  --\n",
      "|    └─Linear: 2-4                       [-1, 5]                   80\n",
      "|    └─ReLU: 2-5                         [-1, 5]                   --\n",
      "|    └─Linear: 2-6                       [-1, 1]                   6\n",
      "├─Sequential: 1-2                        [-1, 23]                  --\n",
      "|    └─Linear: 2-7                       [-1, 5]                   10\n",
      "|    └─ReLU: 2-8                         [-1, 5]                   --\n",
      "|    └─Linear: 2-9                       [-1, 15]                  90\n",
      "|    └─ReLU: 2-10                        [-1, 15]                  --\n",
      "|    └─Linear: 2-11                      [-1, 23]                  368\n",
      "==========================================================================================\n",
      "Total params: 914\n",
      "Trainable params: 914\n",
      "Non-trainable params: 0\n",
      "Total mult-adds (M): 0.00\n",
      "==========================================================================================\n",
      "Input size (MB): 0.00\n",
      "Forward/backward pass size (MB): 0.00\n",
      "Params size (MB): 0.00\n",
      "Estimated Total Size (MB): 0.00\n",
      "==========================================================================================\n"
     ]
    }
   ],
   "source": [
    "summary(model, (23, ), device='cpu');"
   ]
  },
  {
   "cell_type": "code",
   "execution_count": 16,
   "id": "58b41c8d-be98-448d-908e-2746ac1e5aa2",
   "metadata": {},
   "outputs": [
    {
     "name": "stdout",
     "output_type": "stream",
     "text": [
      "-----------------------------------------------\n",
      "[EPOCH] 5/100\n",
      "[TRAIN LOSS] 0.030208040367473255    [VALID LOSS] 0.027892667513627272\n",
      "Epoch Complete in 0:00:00.057022\n",
      "-----------------------------------------------\n",
      "[EPOCH] 10/100\n",
      "[TRAIN LOSS] 0.028067791326479477    [VALID LOSS] 0.027154004951408007\n",
      "Epoch Complete in 0:00:00.060000\n",
      "-----------------------------------------------\n",
      "[EPOCH] 15/100\n",
      "[TRAIN LOSS] 0.026726089756597172    [VALID LOSS] 0.024849296694967004\n",
      "Epoch Complete in 0:00:00.054966\n",
      "-----------------------------------------------\n",
      "[EPOCH] 20/100\n",
      "[TRAIN LOSS] 0.02642607966607267    [VALID LOSS] 0.025170683051665983\n",
      "Epoch Complete in 0:00:00.058974\n",
      "-----------------------------------------------\n",
      "[EPOCH] 25/100\n",
      "[TRAIN LOSS] 0.025640585950829766    [VALID LOSS] 0.023529919563914856\n",
      "Epoch Complete in 0:00:00.054000\n",
      "-----------------------------------------------\n",
      "[EPOCH] 30/100\n",
      "[TRAIN LOSS] 0.025065187127752738    [VALID LOSS] 0.023932754723734444\n",
      "Epoch Complete in 0:00:00.059998\n",
      "-----------------------------------------------\n",
      "[EPOCH] 35/100\n",
      "[TRAIN LOSS] 0.024452499571171675    [VALID LOSS] 0.0226445672738606\n",
      "Epoch Complete in 0:00:00.054040\n",
      "-----------------------------------------------\n",
      "[EPOCH] 40/100\n",
      "[TRAIN LOSS] 0.02345704412595792    [VALID LOSS] 0.02255699753221883\n",
      "Epoch Complete in 0:00:00.061002\n",
      "-----------------------------------------------\n",
      "[EPOCH] 45/100\n",
      "[TRAIN LOSS] 0.023073393377390776    [VALID LOSS] 0.023122279352731836\n",
      "Epoch Complete in 0:00:00.083000\n",
      "-----------------------------------------------\n",
      "[EPOCH] 50/100\n",
      "[TRAIN LOSS] 0.023019889437339524    [VALID LOSS] 0.021178297462506532\n",
      "Epoch Complete in 0:00:00.056000\n",
      "-----------------------------------------------\n",
      "[EPOCH] 55/100\n",
      "[TRAIN LOSS] 0.022270835055546327    [VALID LOSS] 0.022443684787232413\n",
      "Epoch Complete in 0:00:00.057002\n",
      "-----------------------------------------------\n",
      "[EPOCH] 60/100\n",
      "[TRAIN LOSS] 0.022149458290501075    [VALID LOSS] 0.022404163940999304\n",
      "Epoch Complete in 0:00:00.056999\n",
      "-----------------------------------------------\n",
      "[EPOCH] 65/100\n",
      "[TRAIN LOSS] 0.02244506905024702    [VALID LOSS] 0.02009264484250168\n",
      "Epoch Complete in 0:00:00.059002\n",
      "-----------------------------------------------\n",
      "[EPOCH] 70/100\n",
      "[TRAIN LOSS] 0.022308563407171855    [VALID LOSS] 0.021066472271448887\n",
      "Epoch Complete in 0:00:00.054999\n",
      "-----------------------------------------------\n",
      "[EPOCH] 75/100\n",
      "[TRAIN LOSS] 0.022227996215224265    [VALID LOSS] 0.020463097419134633\n",
      "Epoch Complete in 0:00:00.055035\n",
      "-----------------------------------------------\n",
      "[EPOCH] 80/100\n",
      "[TRAIN LOSS] 0.02110044952820648    [VALID LOSS] 0.021658709146318393\n",
      "Epoch Complete in 0:00:00.055034\n",
      "-----------------------------------------------\n",
      "[EPOCH] 85/100\n",
      "[TRAIN LOSS] 0.02148117165673863    [VALID LOSS] 0.021150126985834735\n",
      "Epoch Complete in 0:00:00.055000\n",
      "-----------------------------------------------\n",
      "[EPOCH] 90/100\n",
      "[TRAIN LOSS] 0.021986037865281104    [VALID LOSS] 0.02078218535600205\n",
      "Epoch Complete in 0:00:00.058972\n",
      "-----------------------------------------------\n",
      "[EPOCH] 95/100\n",
      "[TRAIN LOSS] 0.02141539440913634    [VALID LOSS] 0.020291066547324755\n",
      "Epoch Complete in 0:00:00.056001\n",
      "-----------------------------------------------\n",
      "[EPOCH] 100/100\n",
      "[TRAIN LOSS] 0.019435294446620073    [VALID LOSS] 0.018725018830320954\n",
      "Epoch Complete in 0:00:00.058975\n",
      "-----------------------------------------------\n",
      "[System Complete: 0:00:05.844002]\n"
     ]
    }
   ],
   "source": [
    "# VAE Training\n",
    "\n",
    "model.train()\n",
    "start = time.time()\n",
    "for epoch in range(epochs):\n",
    "    ep_start = time.time()\n",
    "    \n",
    "    # Training\n",
    "    running_loss_t = 0.0\n",
    "\n",
    "    for bx, (data) in enumerate(train_):\n",
    "        sample = model(data.to(device))\n",
    "        loss = criterion(data.to(device), sample)\n",
    "        optimizer.zero_grad()\n",
    "        loss.backward()\n",
    "        optimizer.step()\n",
    "        running_loss_t += loss.item()\n",
    "    train_loss = running_loss_t/len(train_set)\n",
    "    metrics['train_loss'].append(train_loss)\n",
    "    \n",
    "    # Validation\n",
    "    model.eval()\n",
    "    running_loss_v = 0.0\n",
    "    with torch.no_grad():\n",
    "        for bx, (data) in enumerate(valid_):\n",
    "            sample = model(data.to(device))\n",
    "            loss = criterion(data.to(device), sample)\n",
    "            accuracy = torch.sum(torch.isclose(data.to(device), sample, rtol=0.1))\n",
    "            running_loss_v += loss.item()\n",
    "    valid_loss = running_loss_v/len(valid_set)\n",
    "    metrics['valid_loss'].append(valid_loss)\n",
    "    \n",
    "    model.train()\n",
    "    \n",
    "    ep_end = time.time()\n",
    "    if (epoch+1) % 5 == 0:\n",
    "        print('-----------------------------------------------')\n",
    "        print('[EPOCH] {}/{}\\n[TRAIN LOSS] {}    [VALID LOSS] {}'.format(epoch+1, epochs, train_loss, valid_loss))\n",
    "        print('Epoch Complete in {}'.format(timedelta(seconds=ep_end-ep_start)))\n",
    "end = time.time()\n",
    "print('-----------------------------------------------')\n",
    "print('[System Complete: {}]'.format(timedelta(seconds=end-start)))"
   ]
  },
  {
   "cell_type": "code",
   "execution_count": 17,
   "id": "63f0b9df-69cb-41e0-a238-aa38190ec59a",
   "metadata": {},
   "outputs": [
    {
     "data": {
      "image/png": "[encoded data removed]",
      "text/plain": [
       "<Figure size 600x400 with 1 Axes>"
      ]
     },
     "metadata": {},
     "output_type": "display_data"
    }
   ],
   "source": [
    "# Loss\n",
    "\n",
    "_, ax = plt.subplots(1, 1, figsize=(6, 4))\n",
    "ax.set_title('Loss')\n",
    "ax.plot(metrics['train_loss'])\n",
    "ax.plot(metrics['valid_loss'])\n",
    "plt.show();"
   ]
  },
  {
   "cell_type": "markdown",
   "id": "7a439320-3074-4e43-b4c8-450c1b4fde4a",
   "metadata": {},
   "source": [
    "# 4. Setup of Threshold"
   ]
  },
  {
   "cell_type": "code",
   "execution_count": 18,
   "id": "df6c5e38-55e9-4aec-b3ab-99cd5abe765f",
   "metadata": {},
   "outputs": [],
   "source": [
    "# Prediction on the train set\n",
    "\n",
    "rg3_train_pred = model(torch.tensor(rg3_train_Y).float())"
   ]
  },
  {
   "cell_type": "code",
   "execution_count": 19,
   "id": "c2fdddaf-7263-4ef6-8054-70605d3ab662",
   "metadata": {},
   "outputs": [],
   "source": [
    "# The error between the prediction and true value\n",
    "\n",
    "difference = rg3_train_pred.detach().numpy() - rg3_train_Y\n",
    "\n",
    "rg3_train_loss = np.mean(np.square(difference), axis=1)"
   ]
  },
  {
   "cell_type": "code",
   "execution_count": 20,
   "id": "5fc04274-8886-4f8b-9ba8-c550ad41ac62",
   "metadata": {},
   "outputs": [
    {
     "name": "stdout",
     "output_type": "stream",
     "text": [
      "Threshold:  0.9099410524999121\n"
     ]
    }
   ],
   "source": [
    "# Threshold was calculated based on 0.5 sigma value of the error \n",
    "# between the prediction and true value\n",
    "\n",
    "# The sigma value can act as tuning parameter for autoencoder\n",
    "\n",
    "threshold = np.mean(rg3_train_loss) + 0.5*np.std(rg3_train_loss)\n",
    "print(\"Threshold: \", threshold)"
   ]
  },
  {
   "cell_type": "markdown",
   "id": "6e674593-3220-409c-82bf-08b3f330cf2e",
   "metadata": {},
   "source": [
    "# 5. Classification of Test Set by Autoencoder"
   ]
  },
  {
   "cell_type": "markdown",
   "id": "bcb19903-b68f-4fb5-9169-2f1c2f4bde9e",
   "metadata": {},
   "source": [
    "## 5.1. Evaluation Using Test Set (Passed Parts)"
   ]
  },
  {
   "cell_type": "code",
   "execution_count": 21,
   "id": "f13a656e-0223-41e7-8c88-a854000bcb48",
   "metadata": {},
   "outputs": [],
   "source": [
    "# Prediction by autoencoder\n",
    "rg3_predict_Y = model(torch.tensor(rg3_test_Y).float())"
   ]
  },
  {
   "cell_type": "code",
   "execution_count": 22,
   "id": "90ccf779-c4f5-4976-8ba0-e3ed0d014422",
   "metadata": {},
   "outputs": [],
   "source": [
    "# The error between the prediction and true value\n",
    "\n",
    "rg3_test_Y_mse = np.mean(np.square(rg3_predict_Y.detach().numpy() - rg3_test_Y), axis=1)"
   ]
  },
  {
   "cell_type": "code",
   "execution_count": 23,
   "id": "5e57b830-3e15-4684-bdb7-ef7d5e1af119",
   "metadata": {},
   "outputs": [
    {
     "data": {
      "image/png": "[encoded data removed]",
      "text/plain": [
       "<Figure size 640x480 with 1 Axes>"
      ]
     },
     "metadata": {},
     "output_type": "display_data"
    }
   ],
   "source": [
    "# Data visualization \n",
    "\n",
    "plt.hist(rg3_test_Y_mse, bins=50)\n",
    "plt.xlabel(\"test MSE loss\")\n",
    "plt.ylabel(\"No of samples\")\n",
    "plt.vlines(threshold, 0, 30, color=\"red\")\n",
    "plt.show();"
   ]
  },
  {
   "cell_type": "code",
   "execution_count": 24,
   "id": "1bbc188b-403f-4751-a161-ed63f8abc49f",
   "metadata": {},
   "outputs": [
    {
     "name": "stdout",
     "output_type": "stream",
     "text": [
      "No. of Failed Parts: 12\n",
      "Accuracy: 0.9024390243902439\n"
     ]
    }
   ],
   "source": [
    "# Check on the data that were predicted as failed parts\n",
    "\n",
    "rg3_test_Y_anomalies = rg3_test_Y_mse > threshold\n",
    "print(\"No. of Failed Parts:\", np.sum(rg3_test_Y_anomalies))\n",
    "print(\"Accuracy:\", (rg3_test_Y.shape[0]-np.sum(rg3_test_Y_anomalies))/rg3_test_Y.shape[0])"
   ]
  },
  {
   "cell_type": "markdown",
   "id": "055407b1-4ea7-40c4-abca-00580ba44869",
   "metadata": {},
   "source": [
    "## 5.2. Evaluation Using Test Set (Failed Parts)"
   ]
  },
  {
   "cell_type": "code",
   "execution_count": 25,
   "id": "2dd8090b-ff11-4c2e-a7df-d23c4a1af6d3",
   "metadata": {},
   "outputs": [],
   "source": [
    "# Prediction by autoencoder\n",
    "rg3_predict_N = model(torch.tensor(rg3_test_N).float())"
   ]
  },
  {
   "cell_type": "code",
   "execution_count": 26,
   "id": "ba6c82ea-7d60-4e9f-81d3-a057f8775306",
   "metadata": {},
   "outputs": [],
   "source": [
    "# The error between the prediction and true value\n",
    "\n",
    "rg3_test_N_mse = np.mean(np.square(rg3_predict_N.detach().numpy() - rg3_test_N), axis=1)"
   ]
  },
  {
   "cell_type": "code",
   "execution_count": 27,
   "id": "81d6064b-f17e-43cf-a8fc-bbc96900e8af",
   "metadata": {},
   "outputs": [
    {
     "data": {
      "image/png": "[encoded data removed]",
      "text/plain": [
       "<Figure size 640x480 with 1 Axes>"
      ]
     },
     "metadata": {},
     "output_type": "display_data"
    }
   ],
   "source": [
    "# Data visualization\n",
    "\n",
    "plt.hist(rg3_test_N_mse, bins=50)\n",
    "plt.xlabel(\"test MSE loss\")\n",
    "plt.ylabel(\"No of samples\")\n",
    "plt.vlines(threshold, 0, 5, color=\"red\")\n",
    "plt.show();"
   ]
  },
  {
   "cell_type": "code",
   "execution_count": 28,
   "id": "695fe8ac-cdda-4b8b-b41a-649f41993637",
   "metadata": {},
   "outputs": [
    {
     "name": "stdout",
     "output_type": "stream",
     "text": [
      "No. of Failed Parts: 5\n",
      "Accuracy: 0.15625\n"
     ]
    }
   ],
   "source": [
    "# Check on the data that were predicted as failed parts\n",
    "\n",
    "rg3_test_N_anomalies = rg3_test_N_mse > threshold\n",
    "print(\"No. of Failed Parts:\", np.sum(rg3_test_N_anomalies))\n",
    "print(\"Accuracy:\", np.sum(rg3_test_N_anomalies)/rg3_test_N.shape[0])"
   ]
  },
  {
   "cell_type": "markdown",
   "id": "d950e685-039b-415c-95e4-cccf396de964",
   "metadata": {},
   "source": [
    "# 6. Result Analysis"
   ]
  },
  {
   "cell_type": "code",
   "execution_count": 29,
   "id": "9068d6e4-eda8-464f-8f6d-ff38bd2cad87",
   "metadata": {},
   "outputs": [],
   "source": [
    "# True values for the test set\n",
    "\n",
    "rg3_true = np.concatenate(\n",
    "    [np.zeros(len(rg3_test_Y_anomalies)), np.ones(len(rg3_test_N_anomalies))]\n",
    ")"
   ]
  },
  {
   "cell_type": "code",
   "execution_count": 30,
   "id": "0130a09a-8455-4d42-884b-ae31fbb4e326",
   "metadata": {},
   "outputs": [],
   "source": [
    "# Predicted values for the test set\n",
    "\n",
    "rg3_prediction = np.concatenate(\n",
    "    [rg3_test_Y_anomalies, rg3_test_N_anomalies]\n",
    ")"
   ]
  },
  {
   "cell_type": "code",
   "execution_count": 31,
   "id": "09bf7653-cf80-414b-936c-16282d427e8a",
   "metadata": {},
   "outputs": [
    {
     "data": {
      "text/plain": [
       "array([[111,  12],\n",
       "       [ 27,   5]], dtype=int64)"
      ]
     },
     "execution_count": 31,
     "metadata": {},
     "output_type": "execute_result"
    }
   ],
   "source": [
    "confusion_matrix(rg3_true, rg3_prediction)"
   ]
  },
  {
   "cell_type": "code",
   "execution_count": 32,
   "id": "cff3821f-1959-42d7-96d1-2b7c4d727726",
   "metadata": {},
   "outputs": [
    {
     "data": {
      "image/png": "[encoded data removed]",
      "text/plain": [
       "<Figure size 640x480 with 2 Axes>"
      ]
     },
     "metadata": {},
     "output_type": "display_data"
    }
   ],
   "source": [
    "target_names = [\"Pass\", \"Fail\"]\n",
    "clf_report = classification_report(\n",
    "    rg3_true, rg3_prediction, target_names=target_names, output_dict=True\n",
    ")\n",
    "clf_plot = sns.heatmap(pd.DataFrame(clf_report).iloc[:-1, :].T, annot=True)\n",
    "plt.title('Classification Report for Variational AutoEncoder on RG3')\n",
    "clf_plot.figure.savefig(\"../img/clf_report_rg3_AE.png\")"
   ]
  },
  {
   "cell_type": "markdown",
   "id": "18b1344e-ad28-4e38-98e1-b82a256ebdb6",
   "metadata": {},
   "source": [
    "- Performance of the autoencoder model was slightly less effective than Mahalanobis Distance model for `RG3` parts\n",
    "- It should be also noted that the performance was greatly affected by the sigma value for determining the threshold."
   ]
  },
  {
   "cell_type": "code",
   "execution_count": null,
   "id": "c3a446b4-8e2f-4b61-b1dc-e29c077e72ae",
   "metadata": {},
   "outputs": [],
   "source": []
  }
 ],
 "metadata": {
  "kernelspec": {
   "display_name": "Python [conda env:inj_env]",
   "language": "python",
   "name": "conda-env-inj_env-py"
  },
  "language_info": {
   "codemirror_mode": {
    "name": "ipython",
    "version": 3
   },
   "file_extension": ".py",
   "mimetype": "text/x-python",
   "name": "python",
   "nbconvert_exporter": "python",
   "pygments_lexer": "ipython3",
   "version": "3.10.8"
  }
 },
 "nbformat": 4,
 "nbformat_minor": 5
}
