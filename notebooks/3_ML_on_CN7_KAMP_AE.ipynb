{
 "cells": [
  {
   "cell_type": "markdown",
   "id": "bfeabc3c-3ebe-4c8f-85ad-e3c058209de0",
   "metadata": {},
   "source": [
    "# 0. Imports"
   ]
  },
  {
   "cell_type": "code",
   "execution_count": 1,
   "id": "97be1e08-f742-4664-9aae-cd34068183dc",
   "metadata": {},
   "outputs": [
    {
     "data": {
      "text/plain": [
       "<torch._C.Generator at 0x2359c348770>"
      ]
     },
     "execution_count": 1,
     "metadata": {},
     "output_type": "execute_result"
    }
   ],
   "source": [
    "import pandas as pd\n",
    "import numpy as np\n",
    "import matplotlib.pyplot as plt\n",
    "import seaborn as sns\n",
    "\n",
    "from collections import defaultdict\n",
    "import time\n",
    "from datetime import timedelta\n",
    "\n",
    "from sklearn.preprocessing import MinMaxScaler\n",
    "from sklearn.model_selection import train_test_split\n",
    "from sklearn.metrics import confusion_matrix, classification_report\n",
    "\n",
    "import torch\n",
    "import torch.nn as nn\n",
    "from torchsummary import summary\n",
    "from torch.utils.data import DataLoader\n",
    "torch.manual_seed(123)"
   ]
  },
  {
   "cell_type": "code",
   "execution_count": 2,
   "id": "a7a9ab4d-8b7f-4cc6-ab1c-0a8f751a5a1d",
   "metadata": {},
   "outputs": [],
   "source": [
    "# 한글 깨짐 문제 해결용\n",
    "from matplotlib import font_manager, rc\n",
    "plt.rcParams[\"axes.unicode_minus\"] = False\n",
    "path = \"C:\\Windows\\Fonts\\H2GTRM.TTF\"\n",
    "font_name = font_manager.FontProperties(fname=path).get_name()\n",
    "rc(\"font\", family=font_name)"
   ]
  },
  {
   "cell_type": "markdown",
   "id": "6749c29f-62cb-4c13-96a5-980a90d12888",
   "metadata": {},
   "source": [
    "# 1. Data"
   ]
  },
  {
   "cell_type": "code",
   "execution_count": 3,
   "id": "11d01b97-0d88-470d-b99a-72626c8b3e34",
   "metadata": {},
   "outputs": [],
   "source": [
    "cn7 = pd.read_csv(\"data/processed/labeled_data_KAMP_cn7_1.csv\", parse_dates=True)"
   ]
  },
  {
   "cell_type": "code",
   "execution_count": 4,
   "id": "0ffc6350-b5b1-4bc6-9ee3-e9c15362bb36",
   "metadata": {},
   "outputs": [
    {
     "name": "stdout",
     "output_type": "stream",
     "text": [
      "<class 'pandas.core.frame.DataFrame'>\n",
      "RangeIndex: 6736 entries, 0 to 6735\n",
      "Data columns (total 25 columns):\n",
      " #   Column                    Non-Null Count  Dtype  \n",
      "---  ------                    --------------  -----  \n",
      " 0   PassOrFail                6736 non-null   int64  \n",
      " 1   Injection_Time            6736 non-null   float64\n",
      " 2   Filling_Time              6736 non-null   float64\n",
      " 3   Plasticizing_Time         6736 non-null   float64\n",
      " 4   Cycle_Time                6736 non-null   float64\n",
      " 5   Clamp_Close_Time          6736 non-null   float64\n",
      " 6   Cushion_Position          6736 non-null   float64\n",
      " 7   Plasticizing_Position     6736 non-null   float64\n",
      " 8   Clamp_Open_Position       6736 non-null   float64\n",
      " 9   Max_Injection_Speed       6736 non-null   float64\n",
      " 10  Max_Screw_RPM             6736 non-null   float64\n",
      " 11  Average_Screw_RPM         6736 non-null   float64\n",
      " 12  Max_Injection_Pressure    6736 non-null   float64\n",
      " 13  Max_Switch_Over_Pressure  6736 non-null   float64\n",
      " 14  Max_Back_Pressure         6736 non-null   float64\n",
      " 15  Average_Back_Pressure     6736 non-null   float64\n",
      " 16  Barrel_Temperature_1      6736 non-null   float64\n",
      " 17  Barrel_Temperature_2      6736 non-null   float64\n",
      " 18  Barrel_Temperature_3      6736 non-null   float64\n",
      " 19  Barrel_Temperature_4      6736 non-null   float64\n",
      " 20  Barrel_Temperature_5      6736 non-null   float64\n",
      " 21  Barrel_Temperature_6      6736 non-null   float64\n",
      " 22  Hopper_Temperature        6736 non-null   float64\n",
      " 23  Mold_Temperature_3        6736 non-null   float64\n",
      " 24  Mold_Temperature_4        6736 non-null   float64\n",
      "dtypes: float64(24), int64(1)\n",
      "memory usage: 1.3 MB\n"
     ]
    }
   ],
   "source": [
    "cn7.info()"
   ]
  },
  {
   "cell_type": "markdown",
   "id": "d476ba58-0785-4370-b416-c80dfc0cad52",
   "metadata": {},
   "source": [
    "# 2. 학습/평가 데이터 분리를 위한 데이터 전처리"
   ]
  },
  {
   "cell_type": "code",
   "execution_count": 5,
   "id": "237d04da-6711-4dac-a72d-4038b3a97b6b",
   "metadata": {},
   "outputs": [
    {
     "data": {
      "text/plain": [
       "0    6697\n",
       "1      39\n",
       "Name: PassOrFail, dtype: int64"
      ]
     },
     "execution_count": 5,
     "metadata": {},
     "output_type": "execute_result"
    }
   ],
   "source": [
    "cn7[\"PassOrFail\"].value_counts()"
   ]
  },
  {
   "cell_type": "code",
   "execution_count": 6,
   "id": "7509fb43-d58a-4dda-afec-5c702ff26081",
   "metadata": {},
   "outputs": [
    {
     "name": "stdout",
     "output_type": "stream",
     "text": [
      "CN7의 양품 개수: 6697\n"
     ]
    }
   ],
   "source": [
    "# 양품\n",
    "cn7_Y = cn7[cn7[\"PassOrFail\"] == 0]\n",
    "print(\"CN7의 양품 개수:\", len(cn7_Y))"
   ]
  },
  {
   "cell_type": "code",
   "execution_count": 7,
   "id": "0ac9183e-d9b0-4380-a2c7-19126573a000",
   "metadata": {},
   "outputs": [
    {
     "name": "stdout",
     "output_type": "stream",
     "text": [
      "CN7의 불량 개수: 39\n"
     ]
    }
   ],
   "source": [
    "# 불량\n",
    "cn7_N = cn7[cn7[\"PassOrFail\"] == 1]\n",
    "print(\"CN7의 불량 개수:\", len(cn7_N))"
   ]
  },
  {
   "cell_type": "markdown",
   "id": "1593a4e4-887f-4b8a-b010-9a6d6634126c",
   "metadata": {},
   "source": [
    "**잡음 제거 오토인코더 모델에 학습시킬 데이터의 형태는 클래스 변수가 없어야 하므로 변수 \"PassOrFail\"을 제거함"
   ]
  },
  {
   "cell_type": "code",
   "execution_count": 8,
   "id": "1046c7ee-67a7-4516-be09-fb232f2f92d1",
   "metadata": {},
   "outputs": [],
   "source": [
    "# 양품\n",
    "cn7_Y = cn7_Y.drop(columns=[\"PassOrFail\"], axis=1)\n",
    "# 불량\n",
    "cn7_N = cn7_N.drop(columns=[\"PassOrFail\"], axis=1)"
   ]
  },
  {
   "cell_type": "code",
   "execution_count": 9,
   "id": "d2032b24-477d-4a02-87e8-a990aef8fea2",
   "metadata": {},
   "outputs": [],
   "source": [
    "# MinMaxscaler를 통한 데이터 정규화\n",
    "\n",
    "scaler = MinMaxScaler()\n",
    "\n",
    "cn7_Y = scaler.fit_transform(cn7_Y)\n",
    "cn7_N = scaler.fit_transform(cn7_N)"
   ]
  },
  {
   "cell_type": "markdown",
   "id": "8035b2bf-446e-42a9-ba5c-27ec7dc4ef3c",
   "metadata": {},
   "source": [
    "#### 학습/평가 데이터 분리 (6:4 비율)"
   ]
  },
  {
   "cell_type": "code",
   "execution_count": 10,
   "id": "e53f855c-1c20-4c8d-8507-63924a0da65c",
   "metadata": {},
   "outputs": [
    {
     "data": {
      "text/plain": [
       "(6697, 24)"
      ]
     },
     "execution_count": 10,
     "metadata": {},
     "output_type": "execute_result"
    }
   ],
   "source": [
    "cn7_Y.shape"
   ]
  },
  {
   "cell_type": "code",
   "execution_count": 11,
   "id": "20110606-19d5-4e81-baaa-8eba73ca661a",
   "metadata": {},
   "outputs": [
    {
     "name": "stdout",
     "output_type": "stream",
     "text": [
      "CN7 학습 데이터 (양품) 개수: 4000\n",
      "CN7 평가 데이터 (양품) 개수: 2697\n",
      "CN7 평가 데이터 (불량) 개수: 39\n"
     ]
    }
   ],
   "source": [
    "# 학습 데이터 (양품)\n",
    "cn7_train_Y = cn7_Y[:4000]\n",
    "\n",
    "# 평가 데이터 (양품)\n",
    "cn7_test_Y = cn7_Y[4000:]\n",
    "\n",
    "# 평가 데이터 (불량)\n",
    "cn7_test_N = cn7_N\n",
    "\n",
    "print(f\"CN7 학습 데이터 (양품) 개수: {len(cn7_train_Y)}\")\n",
    "print(f\"CN7 평가 데이터 (양품) 개수: {len(cn7_test_Y)}\")\n",
    "print(f\"CN7 평가 데이터 (불량) 개수: {len(cn7_test_N)}\")"
   ]
  },
  {
   "cell_type": "markdown",
   "id": "0acdf843-6077-4018-b3ea-423452b90e39",
   "metadata": {},
   "source": [
    "# 3. Autoencoder 모델링"
   ]
  },
  {
   "cell_type": "code",
   "execution_count": 12,
   "id": "8a0c3701-4dc0-4074-83c1-d5ac7310b6f8",
   "metadata": {},
   "outputs": [
    {
     "data": {
      "text/plain": [
       "(4000, 24)"
      ]
     },
     "execution_count": 12,
     "metadata": {},
     "output_type": "execute_result"
    }
   ],
   "source": [
    "cn7_train_Y.shape"
   ]
  },
  {
   "cell_type": "code",
   "execution_count": 13,
   "id": "79d4184f-9aa8-4945-9390-3888d7eaa83e",
   "metadata": {},
   "outputs": [],
   "source": [
    "# Autoencoder Class\n",
    "\n",
    "class AE(nn.Module):\n",
    "    def __init__(self):\n",
    "        super(AE, self).__init__()\n",
    "        \n",
    "        self.enc = nn.Sequential(\n",
    "            nn.Dropout(0.3),\n",
    "            nn.Linear(cn7_train_Y.shape[1], 15),\n",
    "            nn.ReLU(),\n",
    "            nn.Linear(15, 5),\n",
    "            nn.ReLU(),\n",
    "        )\n",
    "        \n",
    "        self.dec = nn.Sequential(\n",
    "            nn.Linear(5, 15),\n",
    "            nn.ReLU(),\n",
    "            nn.Linear(15, cn7_train_Y.shape[1]),\n",
    "            nn.ReLU(),\n",
    "        )\n",
    "        \n",
    "    def forward(self, x):\n",
    "        encode = self.enc(x)\n",
    "        decode = self.dec(encode)\n",
    "        return decode"
   ]
  },
  {
   "cell_type": "code",
   "execution_count": 14,
   "id": "66eafbcd-ded0-433a-b0a5-5ef30837a3f0",
   "metadata": {},
   "outputs": [],
   "source": [
    "# Training Parameters\n",
    "\n",
    "batch_size = 30\n",
    "lr = 0.01   # learning rate\n",
    "w_d = 1e-4  # weight decay\n",
    "# momentum = 0.9  <- This is for SGD\n",
    "epochs = 30"
   ]
  },
  {
   "cell_type": "code",
   "execution_count": 15,
   "id": "7b2a22c6-d93f-4aa4-8925-6d4858b18bb6",
   "metadata": {},
   "outputs": [],
   "source": [
    "# Loader Preparation\n",
    "\n",
    "class Loader(torch.utils.data.Dataset):\n",
    "    def __init__(self):\n",
    "        super(Loader, self).__init__()\n",
    "        self.dataset = ''\n",
    "        \n",
    "    def __len__(self):\n",
    "        return len(self.dataset)\n",
    "    \n",
    "    def __getitem__(self, idx):\n",
    "        row = self.dataset[idx]\n",
    "        # row = self.dataset.iloc[idx]\n",
    "        data = torch.from_numpy(row).float()\n",
    "        return data\n",
    "    \n",
    "    \n",
    "class CN7DataLoader(Loader):\n",
    "    def __init__(self, data_for_ae):\n",
    "        super(CN7DataLoader, self).__init__()\n",
    "        self.dataset = data_for_ae"
   ]
  },
  {
   "cell_type": "code",
   "execution_count": 16,
   "id": "989b3ad5-f150-43bd-a686-be96ee011f4e",
   "metadata": {},
   "outputs": [],
   "source": [
    "# train/validation sets split\n",
    "\n",
    "cn7_train_Y_t, cn7_train_Y_v = train_test_split(\n",
    "    cn7_train_Y, test_size=0.2, random_state=123\n",
    ")"
   ]
  },
  {
   "cell_type": "code",
   "execution_count": 17,
   "id": "c2e8f854-b246-4f80-94c2-d9b609138349",
   "metadata": {},
   "outputs": [],
   "source": [
    "train_set = CN7DataLoader(cn7_train_Y_t)\n",
    "\n",
    "train_ = DataLoader(\n",
    "    train_set,\n",
    "    batch_size=batch_size,\n",
    "    shuffle=True,\n",
    "    pin_memory=True,\n",
    "    drop_last=True\n",
    ")"
   ]
  },
  {
   "cell_type": "code",
   "execution_count": 18,
   "id": "f6211d56-6b1a-45d7-8d66-29e2961e1655",
   "metadata": {},
   "outputs": [],
   "source": [
    "valid_set = CN7DataLoader(cn7_train_Y_v)\n",
    "\n",
    "valid_ = DataLoader(\n",
    "    valid_set,\n",
    "    batch_size=batch_size,\n",
    "    shuffle=True,\n",
    "    pin_memory=True,\n",
    "    drop_last=True\n",
    ")"
   ]
  },
  {
   "cell_type": "code",
   "execution_count": 19,
   "id": "aaf3e682-d173-413e-b016-527da4fc64b0",
   "metadata": {},
   "outputs": [],
   "source": [
    "metrics = defaultdict(list)\n",
    "device = 'cpu'       #'cuda' if torch.cuda.is_available() else 'cpu'\n",
    "model = AE()\n",
    "model.to(device)\n",
    "criterion = nn.MSELoss()\n",
    "optimizer = torch.optim.Adam(\n",
    "    model.parameters(), lr=lr, weight_decay=w_d\n",
    ")"
   ]
  },
  {
   "cell_type": "code",
   "execution_count": 20,
   "id": "12a51bef-5462-4c0f-ba5d-9bfa0218b172",
   "metadata": {},
   "outputs": [
    {
     "name": "stdout",
     "output_type": "stream",
     "text": [
      "==========================================================================================\n",
      "Layer (type:depth-idx)                   Output Shape              Param #\n",
      "==========================================================================================\n",
      "├─Sequential: 1-1                        [-1, 5]                   --\n",
      "|    └─Dropout: 2-1                      [-1, 24]                  --\n",
      "|    └─Linear: 2-2                       [-1, 15]                  375\n",
      "|    └─ReLU: 2-3                         [-1, 15]                  --\n",
      "|    └─Linear: 2-4                       [-1, 5]                   80\n",
      "|    └─ReLU: 2-5                         [-1, 5]                   --\n",
      "├─Sequential: 1-2                        [-1, 24]                  --\n",
      "|    └─Linear: 2-6                       [-1, 15]                  90\n",
      "|    └─ReLU: 2-7                         [-1, 15]                  --\n",
      "|    └─Linear: 2-8                       [-1, 24]                  384\n",
      "|    └─ReLU: 2-9                         [-1, 24]                  --\n",
      "==========================================================================================\n",
      "Total params: 929\n",
      "Trainable params: 929\n",
      "Non-trainable params: 0\n",
      "Total mult-adds (M): 0.00\n",
      "==========================================================================================\n",
      "Input size (MB): 0.00\n",
      "Forward/backward pass size (MB): 0.00\n",
      "Params size (MB): 0.00\n",
      "Estimated Total Size (MB): 0.00\n",
      "==========================================================================================\n"
     ]
    }
   ],
   "source": [
    "summary(model, (24, ), device='cpu');"
   ]
  },
  {
   "cell_type": "code",
   "execution_count": 21,
   "id": "58b41c8d-be98-448d-908e-2746ac1e5aa2",
   "metadata": {},
   "outputs": [
    {
     "name": "stdout",
     "output_type": "stream",
     "text": [
      "-----------------------------------------------\n",
      "[EPOCH] 5/30\n",
      "[TRAIN LOSS] 0.00027617362298769875    [VALID LOSS] 0.00013388661696808412\n",
      "Epoch Complete in 0:00:00.148966\n",
      "-----------------------------------------------\n",
      "[EPOCH] 10/30\n",
      "[TRAIN LOSS] 0.0002764147003472317    [VALID LOSS] 0.00014428664726438\n",
      "Epoch Complete in 0:00:00.148999\n",
      "-----------------------------------------------\n",
      "[EPOCH] 15/30\n",
      "[TRAIN LOSS] 0.0002232605555036571    [VALID LOSS] 0.0001772284210892394\n",
      "Epoch Complete in 0:00:00.138997\n",
      "-----------------------------------------------\n",
      "[EPOCH] 20/30\n",
      "[TRAIN LOSS] 0.00021235504835203755    [VALID LOSS] 0.0001736299940967001\n",
      "Epoch Complete in 0:00:00.142033\n",
      "-----------------------------------------------\n",
      "[EPOCH] 25/30\n",
      "[TRAIN LOSS] 0.00020817304823140149    [VALID LOSS] 0.00016680491622537375\n",
      "Epoch Complete in 0:00:00.145000\n",
      "-----------------------------------------------\n",
      "[EPOCH] 30/30\n",
      "[TRAIN LOSS] 0.00019499515583447645    [VALID LOSS] 0.00012424644344719127\n",
      "Epoch Complete in 0:00:00.140002\n",
      "-----------------------------------------------\n",
      "[System Complete: 0:00:04.376171]\n"
     ]
    }
   ],
   "source": [
    "# AE Training\n",
    "\n",
    "model.train()\n",
    "start = time.time()\n",
    "for epoch in range(epochs):\n",
    "    ep_start = time.time()\n",
    "    \n",
    "    # Training\n",
    "    running_loss_t = 0.0\n",
    "\n",
    "    for bx, (data) in enumerate(train_):\n",
    "        sample = model(data.to(device))\n",
    "        loss = criterion(data.to(device), sample)\n",
    "        optimizer.zero_grad()\n",
    "        loss.backward()\n",
    "        optimizer.step()\n",
    "        running_loss_t += loss.item()\n",
    "    train_loss = running_loss_t/len(train_set)\n",
    "    metrics['train_loss'].append(train_loss)\n",
    "    \n",
    "    # Validation\n",
    "    model.eval()\n",
    "    running_loss_v = 0.0\n",
    "    with torch.no_grad():\n",
    "        for bx, (data) in enumerate(valid_):\n",
    "            sample = model(data.to(device))\n",
    "            loss = criterion(data.to(device), sample)\n",
    "            accuracy = torch.sum(torch.isclose(data.to(device), sample, rtol=0.1))\n",
    "            running_loss_v += loss.item()\n",
    "    valid_loss = running_loss_v/len(valid_set)\n",
    "    metrics['valid_loss'].append(valid_loss)\n",
    "    \n",
    "    model.train()\n",
    "    \n",
    "    ep_end = time.time()\n",
    "    if (epoch+1) % 5 == 0:\n",
    "        print('-----------------------------------------------')\n",
    "        print('[EPOCH] {}/{}\\n[TRAIN LOSS] {}    [VALID LOSS] {}'.format(epoch+1, epochs, train_loss, valid_loss))\n",
    "        print('Epoch Complete in {}'.format(timedelta(seconds=ep_end-ep_start)))\n",
    "end = time.time()\n",
    "print('-----------------------------------------------')\n",
    "print('[System Complete: {}]'.format(timedelta(seconds=end-start)))"
   ]
  },
  {
   "cell_type": "code",
   "execution_count": 22,
   "id": "63f0b9df-69cb-41e0-a238-aa38190ec59a",
   "metadata": {},
   "outputs": [
    {
     "data": {
      "image/png": "[encoded data removed]",
      "text/plain": [
       "<Figure size 600x400 with 1 Axes>"
      ]
     },
     "metadata": {},
     "output_type": "display_data"
    }
   ],
   "source": [
    "# Loss\n",
    "\n",
    "_, ax = plt.subplots(1, 1, figsize=(6, 4))\n",
    "ax.set_title('Loss')\n",
    "ax.plot(metrics['train_loss'])\n",
    "ax.plot(metrics['valid_loss'])\n",
    "plt.show();"
   ]
  },
  {
   "cell_type": "markdown",
   "id": "7a439320-3074-4e43-b4c8-450c1b4fde4a",
   "metadata": {},
   "source": [
    "# 4. 임계값 정의"
   ]
  },
  {
   "cell_type": "code",
   "execution_count": 23,
   "id": "df6c5e38-55e9-4aec-b3ab-99cd5abe765f",
   "metadata": {},
   "outputs": [],
   "source": [
    "# 학습 데이터의 예측값\n",
    "\n",
    "cn7_train_pred = model(torch.tensor(cn7_train_Y).float())"
   ]
  },
  {
   "cell_type": "code",
   "execution_count": 24,
   "id": "1fc785ca-7db7-43df-88cb-4a9e2e97f008",
   "metadata": {},
   "outputs": [
    {
     "data": {
      "text/plain": [
       "tensor([[0.0983, 0.7449, 0.1084,  ..., 0.9308, 0.8676, 0.8340],\n",
       "        [0.0984, 0.7441, 0.1071,  ..., 0.9311, 0.9498, 0.9406],\n",
       "        [0.0978, 0.7494, 0.1006,  ..., 0.9307, 0.8932, 0.8657],\n",
       "        ...,\n",
       "        [0.1018, 0.7592, 0.0947,  ..., 0.8978, 0.3690, 0.2679],\n",
       "        [0.1021, 0.7610, 0.0941,  ..., 0.8962, 0.3464, 0.2461],\n",
       "        [0.1017, 0.7611, 0.0963,  ..., 0.9000, 0.3704, 0.2723]],\n",
       "       grad_fn=<ReluBackward0>)"
      ]
     },
     "execution_count": 24,
     "metadata": {},
     "output_type": "execute_result"
    }
   ],
   "source": [
    "cn7_train_pred"
   ]
  },
  {
   "cell_type": "code",
   "execution_count": 25,
   "id": "c2fdddaf-7263-4ef6-8054-70605d3ab662",
   "metadata": {},
   "outputs": [],
   "source": [
    "# 학습 데이터의 복원 오차 (예측값 - 실제값)\n",
    "\n",
    "difference = cn7_train_pred.detach().numpy() - cn7_train_Y\n",
    "\n",
    "cn7_train_loss = np.mean(np.square(difference), axis=1)"
   ]
  },
  {
   "cell_type": "code",
   "execution_count": 26,
   "id": "424b2f43-0ddb-418a-ac9e-677a4331d66e",
   "metadata": {},
   "outputs": [
    {
     "data": {
      "text/plain": [
       "array([0.00154407, 0.00319558, 0.00194754, ..., 0.00081188, 0.00068162,\n",
       "       0.00453548])"
      ]
     },
     "execution_count": 26,
     "metadata": {},
     "output_type": "execute_result"
    }
   ],
   "source": [
    "cn7_train_loss"
   ]
  },
  {
   "cell_type": "code",
   "execution_count": 27,
   "id": "5fc04274-8886-4f8b-9ba8-c550ad41ac62",
   "metadata": {},
   "outputs": [
    {
     "name": "stdout",
     "output_type": "stream",
     "text": [
      "복원 오류 임계치:  0.05876778237729963\n"
     ]
    }
   ],
   "source": [
    "# 입계치 (6 시그마 사용)\n",
    "\n",
    "threshold = np.mean(cn7_train_loss) + 6*np.std(cn7_train_loss)\n",
    "print(\"복원 오류 임계치: \", threshold)"
   ]
  },
  {
   "cell_type": "markdown",
   "id": "6e674593-3220-409c-82bf-08b3f330cf2e",
   "metadata": {},
   "source": [
    "# 5. 데이터 각각의 예측값과 복원 오차 확인"
   ]
  },
  {
   "cell_type": "markdown",
   "id": "bcb19903-b68f-4fb5-9169-2f1c2f4bde9e",
   "metadata": {},
   "source": [
    "## 5.1. 평가 데이터 (양품) 대상 모델 성능 검증 "
   ]
  },
  {
   "cell_type": "code",
   "execution_count": 28,
   "id": "f13a656e-0223-41e7-8c88-a854000bcb48",
   "metadata": {},
   "outputs": [],
   "source": [
    "# 예측값\n",
    "cn7_predict_Y = model(torch.tensor(cn7_test_Y).float())"
   ]
  },
  {
   "cell_type": "code",
   "execution_count": 29,
   "id": "8a506893-c348-4942-ab36-97131a65b99d",
   "metadata": {},
   "outputs": [
    {
     "data": {
      "text/plain": [
       "tensor([[0.0963, 0.7569, 0.0399,  ..., 0.8719, 0.2961, 0.2297],\n",
       "        [0.0963, 0.7576, 0.0399,  ..., 0.8722, 0.2935, 0.2270],\n",
       "        [0.0957, 0.7582, 0.0406,  ..., 0.8758, 0.3117, 0.2436],\n",
       "        ...,\n",
       "        [0.0955, 0.7588, 0.0409,  ..., 0.8777, 0.3202, 0.2513],\n",
       "        [0.0954, 0.7622, 0.0409,  ..., 0.8792, 0.3051, 0.2355],\n",
       "        [0.0953, 0.7623, 0.0410,  ..., 0.8797, 0.3070, 0.2372]],\n",
       "       grad_fn=<ReluBackward0>)"
      ]
     },
     "execution_count": 29,
     "metadata": {},
     "output_type": "execute_result"
    }
   ],
   "source": [
    "cn7_predict_Y"
   ]
  },
  {
   "cell_type": "code",
   "execution_count": 30,
   "id": "90ccf779-c4f5-4976-8ba0-e3ed0d014422",
   "metadata": {},
   "outputs": [],
   "source": [
    "# 양품 평가 데이터의 복원 오차 (예측값 - 실제값)\n",
    "\n",
    "cn7_test_Y_mse = np.mean(np.square(cn7_predict_Y.detach().numpy() - cn7_test_Y), axis=1)"
   ]
  },
  {
   "cell_type": "code",
   "execution_count": 31,
   "id": "a712c184-6457-4df3-94d4-a8731585394b",
   "metadata": {},
   "outputs": [
    {
     "data": {
      "text/plain": [
       "array([0.03173536, 0.03245838, 0.03415102, ..., 0.00154035, 0.00141405,\n",
       "       0.00153422])"
      ]
     },
     "execution_count": 31,
     "metadata": {},
     "output_type": "execute_result"
    }
   ],
   "source": [
    "cn7_test_Y_mse"
   ]
  },
  {
   "cell_type": "code",
   "execution_count": 32,
   "id": "5e57b830-3e15-4684-bdb7-ef7d5e1af119",
   "metadata": {},
   "outputs": [
    {
     "data": {
      "image/png": "[encoded data removed]",
      "text/plain": [
       "<Figure size 640x480 with 1 Axes>"
      ]
     },
     "metadata": {},
     "output_type": "display_data"
    }
   ],
   "source": [
    "# 시각화\n",
    "\n",
    "plt.hist(cn7_test_Y_mse, bins=50)\n",
    "plt.xlabel(\"test MSE loss\")\n",
    "plt.ylabel(\"No of samples\")\n",
    "plt.vlines(threshold, 0, 800, color=\"red\")\n",
    "plt.show();"
   ]
  },
  {
   "cell_type": "code",
   "execution_count": 33,
   "id": "1bbc188b-403f-4751-a161-ed63f8abc49f",
   "metadata": {},
   "outputs": [
    {
     "name": "stdout",
     "output_type": "stream",
     "text": [
      "불량 개수:  5\n",
      "정확도:  0.9981460882461994\n"
     ]
    }
   ],
   "source": [
    "# 불량으로 판단한 데이터 확인\n",
    "\n",
    "cn7_test_Y_anomalies = cn7_test_Y_mse > threshold\n",
    "print(\"불량 개수: \", np.sum(cn7_test_Y_anomalies))\n",
    "print(\"정확도: \", (cn7_test_Y.shape[0]-np.sum(cn7_test_Y_anomalies))/cn7_test_Y.shape[0])"
   ]
  },
  {
   "cell_type": "markdown",
   "id": "055407b1-4ea7-40c4-abca-00580ba44869",
   "metadata": {},
   "source": [
    "## 5.2. 평가 데이터 (불량) 대상 모델 성능 검증 "
   ]
  },
  {
   "cell_type": "code",
   "execution_count": 34,
   "id": "2dd8090b-ff11-4c2e-a7df-d23c4a1af6d3",
   "metadata": {},
   "outputs": [],
   "source": [
    "# 예측값\n",
    "cn7_predict_N = model(torch.tensor(cn7_test_N).float())"
   ]
  },
  {
   "cell_type": "code",
   "execution_count": 35,
   "id": "68f55c1a-f5d9-46a6-ae05-ca0113e3dc1c",
   "metadata": {},
   "outputs": [
    {
     "data": {
      "text/plain": [
       "torch.Size([39, 24])"
      ]
     },
     "execution_count": 35,
     "metadata": {},
     "output_type": "execute_result"
    }
   ],
   "source": [
    "cn7_predict_N.shape"
   ]
  },
  {
   "cell_type": "code",
   "execution_count": 36,
   "id": "ba6c82ea-7d60-4e9f-81d3-a057f8775306",
   "metadata": {},
   "outputs": [],
   "source": [
    "# 불량 평가 데이터의 복원 오차 (예측값 - 실제값)\n",
    "\n",
    "cn7_test_N_mse = np.mean(np.square(cn7_predict_N.detach().numpy() - cn7_test_N), axis=1)"
   ]
  },
  {
   "cell_type": "code",
   "execution_count": 37,
   "id": "afeed421-e263-4552-b750-24405c3fecb1",
   "metadata": {},
   "outputs": [
    {
     "data": {
      "text/plain": [
       "array([0.19660958, 0.23118373, 0.23879846, 0.24713275, 0.24463226,\n",
       "       0.33896917, 0.24048523, 0.20209746, 0.26503571, 0.23939498,\n",
       "       0.31552785, 0.30940352, 0.26583452, 0.22901726, 0.23757488,\n",
       "       0.2392953 , 0.21078171, 0.26249214, 0.26006032, 0.24226786,\n",
       "       0.21620593, 0.20887379, 0.33566018, 0.23771011, 0.23033117,\n",
       "       0.29586713, 0.26733025, 0.23562521, 0.24495417, 0.22574683,\n",
       "       0.33819598, 0.24012537, 0.22743142, 0.24064979, 0.19867924,\n",
       "       0.30670292, 0.24092123, 0.20081687, 0.24026238])"
      ]
     },
     "execution_count": 37,
     "metadata": {},
     "output_type": "execute_result"
    }
   ],
   "source": [
    "cn7_test_N_mse"
   ]
  },
  {
   "cell_type": "code",
   "execution_count": 38,
   "id": "81d6064b-f17e-43cf-a8fc-bbc96900e8af",
   "metadata": {},
   "outputs": [
    {
     "data": {
      "image/png": "[encoded data removed]",
      "text/plain": [
       "<Figure size 640x480 with 1 Axes>"
      ]
     },
     "metadata": {},
     "output_type": "display_data"
    }
   ],
   "source": [
    "# 시각화\n",
    "\n",
    "plt.hist(cn7_test_N_mse, bins=50)\n",
    "plt.xlabel(\"test MSE loss\")\n",
    "plt.ylabel(\"No of samples\")\n",
    "plt.vlines(threshold, 0, 5, color=\"red\")\n",
    "plt.show();"
   ]
  },
  {
   "cell_type": "code",
   "execution_count": 39,
   "id": "695fe8ac-cdda-4b8b-b41a-649f41993637",
   "metadata": {},
   "outputs": [
    {
     "name": "stdout",
     "output_type": "stream",
     "text": [
      "불량 개수:  39\n",
      "정확도:  1.0\n"
     ]
    }
   ],
   "source": [
    "# 불량으로 판단한 데이터 확인\n",
    "\n",
    "cn7_test_N_anomalies = cn7_test_N_mse > threshold\n",
    "print(\"불량 개수: \", np.sum(cn7_test_N_anomalies))\n",
    "print(\"정확도: \", np.sum(cn7_test_N_anomalies)/cn7_test_N.shape[0])"
   ]
  },
  {
   "cell_type": "markdown",
   "id": "d950e685-039b-415c-95e4-cccf396de964",
   "metadata": {},
   "source": [
    "# 6. 결과 분석"
   ]
  },
  {
   "cell_type": "code",
   "execution_count": 40,
   "id": "9068d6e4-eda8-464f-8f6d-ff38bd2cad87",
   "metadata": {},
   "outputs": [],
   "source": [
    "# 평가 데이터의 실제값\n",
    "\n",
    "cn7_true = np.concatenate(\n",
    "    [np.zeros(len(cn7_test_Y_anomalies)), np.ones(len(cn7_test_N_anomalies))]\n",
    ")"
   ]
  },
  {
   "cell_type": "code",
   "execution_count": 41,
   "id": "b3d1d971-bce1-4425-853f-2b6ec9d41b26",
   "metadata": {},
   "outputs": [
    {
     "data": {
      "text/plain": [
       "array([0., 0., 0., ..., 1., 1., 1.])"
      ]
     },
     "execution_count": 41,
     "metadata": {},
     "output_type": "execute_result"
    }
   ],
   "source": [
    "cn7_true"
   ]
  },
  {
   "cell_type": "code",
   "execution_count": 42,
   "id": "0130a09a-8455-4d42-884b-ae31fbb4e326",
   "metadata": {},
   "outputs": [],
   "source": [
    "# 평가 데이터의 예측값\n",
    "\n",
    "cn7_prediction = np.concatenate(\n",
    "    [cn7_test_Y_anomalies, cn7_test_N_anomalies]\n",
    ")"
   ]
  },
  {
   "cell_type": "code",
   "execution_count": 43,
   "id": "5d65637d-b14f-4dbc-85ae-1b02a6b56c18",
   "metadata": {},
   "outputs": [
    {
     "data": {
      "text/plain": [
       "array([False, False, False, ...,  True,  True,  True])"
      ]
     },
     "execution_count": 43,
     "metadata": {},
     "output_type": "execute_result"
    }
   ],
   "source": [
    "cn7_prediction"
   ]
  },
  {
   "cell_type": "code",
   "execution_count": 44,
   "id": "09bf7653-cf80-414b-936c-16282d427e8a",
   "metadata": {},
   "outputs": [
    {
     "data": {
      "text/plain": [
       "array([[2692,    5],\n",
       "       [   0,   39]], dtype=int64)"
      ]
     },
     "execution_count": 44,
     "metadata": {},
     "output_type": "execute_result"
    }
   ],
   "source": [
    "confusion_matrix(cn7_true, cn7_prediction)"
   ]
  },
  {
   "cell_type": "code",
   "execution_count": 45,
   "id": "cff3821f-1959-42d7-96d1-2b7c4d727726",
   "metadata": {},
   "outputs": [
    {
     "name": "stdout",
     "output_type": "stream",
     "text": [
      "              precision    recall  f1-score   support\n",
      "\n",
      "         0.0       1.00      1.00      1.00      2697\n",
      "         1.0       0.89      1.00      0.94        39\n",
      "\n",
      "    accuracy                           1.00      2736\n",
      "   macro avg       0.94      1.00      0.97      2736\n",
      "weighted avg       1.00      1.00      1.00      2736\n",
      "\n"
     ]
    }
   ],
   "source": [
    "print(classification_report(cn7_true, cn7_prediction))"
   ]
  },
  {
   "cell_type": "code",
   "execution_count": null,
   "id": "d683b801-965e-439d-85c8-a8a037a6a5d3",
   "metadata": {},
   "outputs": [],
   "source": []
  }
 ],
 "metadata": {
  "kernelspec": {
   "display_name": "Python [conda env:ls_env]",
   "language": "python",
   "name": "conda-env-ls_env-py"
  },
  "language_info": {
   "codemirror_mode": {
    "name": "ipython",
    "version": 3
   },
   "file_extension": ".py",
   "mimetype": "text/x-python",
   "name": "python",
   "nbconvert_exporter": "python",
   "pygments_lexer": "ipython3",
   "version": "3.10.8"
  }
 },
 "nbformat": 4,
 "nbformat_minor": 5
}
