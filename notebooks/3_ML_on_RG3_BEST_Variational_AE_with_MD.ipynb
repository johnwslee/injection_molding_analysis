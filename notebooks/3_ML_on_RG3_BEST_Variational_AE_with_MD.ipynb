{
 "cells": [
  {
   "cell_type": "markdown",
   "id": "bfeabc3c-3ebe-4c8f-85ad-e3c058209de0",
   "metadata": {},
   "source": [
    "# 0. Imports"
   ]
  },
  {
   "cell_type": "code",
   "execution_count": 1,
   "id": "97be1e08-f742-4664-9aae-cd34068183dc",
   "metadata": {},
   "outputs": [
    {
     "data": {
      "text/plain": [
       "<torch._C.Generator at 0x2705e358790>"
      ]
     },
     "execution_count": 1,
     "metadata": {},
     "output_type": "execute_result"
    }
   ],
   "source": [
    "import pandas as pd\n",
    "import numpy as np\n",
    "import matplotlib.pyplot as plt\n",
    "import seaborn as sns\n",
    "\n",
    "import scipy as sp\n",
    "from scipy.stats import chi2\n",
    "\n",
    "from collections import defaultdict\n",
    "import time\n",
    "from datetime import timedelta\n",
    "\n",
    "from sklearn.preprocessing import MinMaxScaler\n",
    "from sklearn.model_selection import train_test_split\n",
    "from sklearn.metrics import confusion_matrix, classification_report\n",
    "\n",
    "import torch\n",
    "import torch.nn as nn\n",
    "from torchsummary import summary\n",
    "from torch.utils.data import DataLoader\n",
    "torch.manual_seed(123)"
   ]
  },
  {
   "cell_type": "code",
   "execution_count": 2,
   "id": "a7a9ab4d-8b7f-4cc6-ab1c-0a8f751a5a1d",
   "metadata": {},
   "outputs": [],
   "source": [
    "# 한글 깨짐 문제 해결용\n",
    "from matplotlib import font_manager, rc\n",
    "plt.rcParams[\"axes.unicode_minus\"] = False\n",
    "path = \"C:\\Windows\\Fonts\\H2GTRM.TTF\"\n",
    "font_name = font_manager.FontProperties(fname=path).get_name()\n",
    "rc(\"font\", family=font_name)"
   ]
  },
  {
   "cell_type": "markdown",
   "id": "6749c29f-62cb-4c13-96a5-980a90d12888",
   "metadata": {},
   "source": [
    "# 1. Data"
   ]
  },
  {
   "cell_type": "code",
   "execution_count": 3,
   "id": "11d01b97-0d88-470d-b99a-72626c8b3e34",
   "metadata": {},
   "outputs": [],
   "source": [
    "rg3 = pd.read_csv(\"data/processed/labeled_data_KAMP_rg3_1.csv\", parse_dates=True)"
   ]
  },
  {
   "cell_type": "code",
   "execution_count": 4,
   "id": "0ffc6350-b5b1-4bc6-9ee3-e9c15362bb36",
   "metadata": {},
   "outputs": [
    {
     "name": "stdout",
     "output_type": "stream",
     "text": [
      "<class 'pandas.core.frame.DataFrame'>\n",
      "RangeIndex: 1256 entries, 0 to 1255\n",
      "Data columns (total 25 columns):\n",
      " #   Column                    Non-Null Count  Dtype  \n",
      "---  ------                    --------------  -----  \n",
      " 0   PassOrFail                1256 non-null   int64  \n",
      " 1   Injection_Time            1256 non-null   float64\n",
      " 2   Filling_Time              1256 non-null   float64\n",
      " 3   Plasticizing_Time         1256 non-null   float64\n",
      " 4   Cycle_Time                1256 non-null   float64\n",
      " 5   Clamp_Close_Time          1256 non-null   float64\n",
      " 6   Cushion_Position          1256 non-null   float64\n",
      " 7   Switch_Over_Position      1256 non-null   float64\n",
      " 8   Plasticizing_Position     1256 non-null   float64\n",
      " 9   Max_Injection_Speed       1256 non-null   float64\n",
      " 10  Max_Screw_RPM             1256 non-null   float64\n",
      " 11  Average_Screw_RPM         1256 non-null   float64\n",
      " 12  Max_Injection_Pressure    1256 non-null   float64\n",
      " 13  Max_Switch_Over_Pressure  1256 non-null   float64\n",
      " 14  Max_Back_Pressure         1256 non-null   float64\n",
      " 15  Average_Back_Pressure     1256 non-null   float64\n",
      " 16  Barrel_Temperature_1      1256 non-null   float64\n",
      " 17  Barrel_Temperature_2      1256 non-null   float64\n",
      " 18  Barrel_Temperature_3      1256 non-null   float64\n",
      " 19  Barrel_Temperature_4      1256 non-null   float64\n",
      " 20  Barrel_Temperature_5      1256 non-null   float64\n",
      " 21  Barrel_Temperature_6      1256 non-null   float64\n",
      " 22  Hopper_Temperature        1256 non-null   float64\n",
      " 23  Mold_Temperature_3        1256 non-null   float64\n",
      " 24  Mold_Temperature_4        1256 non-null   float64\n",
      "dtypes: float64(24), int64(1)\n",
      "memory usage: 245.4 KB\n"
     ]
    }
   ],
   "source": [
    "rg3.info()"
   ]
  },
  {
   "cell_type": "markdown",
   "id": "d476ba58-0785-4370-b416-c80dfc0cad52",
   "metadata": {},
   "source": [
    "# 2. 학습/평가 데이터 분리를 위한 데이터 전처리"
   ]
  },
  {
   "cell_type": "code",
   "execution_count": 5,
   "id": "237d04da-6711-4dac-a72d-4038b3a97b6b",
   "metadata": {},
   "outputs": [
    {
     "data": {
      "text/plain": [
       "0    1224\n",
       "1      32\n",
       "Name: PassOrFail, dtype: int64"
      ]
     },
     "execution_count": 5,
     "metadata": {},
     "output_type": "execute_result"
    }
   ],
   "source": [
    "rg3[\"PassOrFail\"].value_counts()"
   ]
  },
  {
   "cell_type": "code",
   "execution_count": 6,
   "id": "7509fb43-d58a-4dda-afec-5c702ff26081",
   "metadata": {},
   "outputs": [
    {
     "name": "stdout",
     "output_type": "stream",
     "text": [
      "rg3의 양품 개수: 1224\n"
     ]
    }
   ],
   "source": [
    "# 양품\n",
    "rg3_Y = rg3[rg3[\"PassOrFail\"] == 0]\n",
    "print(\"rg3의 양품 개수:\", len(rg3_Y))"
   ]
  },
  {
   "cell_type": "code",
   "execution_count": 7,
   "id": "0ac9183e-d9b0-4380-a2c7-19126573a000",
   "metadata": {},
   "outputs": [
    {
     "name": "stdout",
     "output_type": "stream",
     "text": [
      "rg3의 불량 개수: 32\n"
     ]
    }
   ],
   "source": [
    "# 불량\n",
    "rg3_N = rg3[rg3[\"PassOrFail\"] == 1]\n",
    "print(\"rg3의 불량 개수:\", len(rg3_N))"
   ]
  },
  {
   "cell_type": "markdown",
   "id": "1593a4e4-887f-4b8a-b010-9a6d6634126c",
   "metadata": {},
   "source": [
    "**잡음 제거 오토인코더 모델에 학습시킬 데이터의 형태는 클래스 변수가 없어야 하므로 변수 \"PassOrFail\"을 제거함"
   ]
  },
  {
   "cell_type": "code",
   "execution_count": 8,
   "id": "1046c7ee-67a7-4516-be09-fb232f2f92d1",
   "metadata": {},
   "outputs": [],
   "source": [
    "# 양품\n",
    "rg3_Y = rg3_Y.drop(columns=[\"PassOrFail\"], axis=1)\n",
    "# 불량\n",
    "rg3_N = rg3_N.drop(columns=[\"PassOrFail\"], axis=1)"
   ]
  },
  {
   "cell_type": "code",
   "execution_count": 9,
   "id": "d2032b24-477d-4a02-87e8-a990aef8fea2",
   "metadata": {},
   "outputs": [],
   "source": [
    "# MinMaxscaler를 통한 데이터 정규화\n",
    "\n",
    "scaler = MinMaxScaler()\n",
    "\n",
    "rg3_Y = scaler.fit_transform(rg3_Y)\n",
    "rg3_N = scaler.fit_transform(rg3_N)"
   ]
  },
  {
   "cell_type": "markdown",
   "id": "8035b2bf-446e-42a9-ba5c-27ec7dc4ef3c",
   "metadata": {},
   "source": [
    "#### 학습/평가 데이터 분리 (6:4 비율)"
   ]
  },
  {
   "cell_type": "code",
   "execution_count": 10,
   "id": "e53f855c-1c20-4c8d-8507-63924a0da65c",
   "metadata": {},
   "outputs": [
    {
     "data": {
      "text/plain": [
       "(1224, 24)"
      ]
     },
     "execution_count": 10,
     "metadata": {},
     "output_type": "execute_result"
    }
   ],
   "source": [
    "rg3_Y.shape"
   ]
  },
  {
   "cell_type": "code",
   "execution_count": 11,
   "id": "20110606-19d5-4e81-baaa-8eba73ca661a",
   "metadata": {},
   "outputs": [
    {
     "name": "stdout",
     "output_type": "stream",
     "text": [
      "rg3 학습 데이터 (양품) 개수: 754\n",
      "rg3 평가 데이터 (양품) 개수: 470\n",
      "rg3 평가 데이터 (불량) 개수: 32\n"
     ]
    }
   ],
   "source": [
    "# 학습 데이터 (양품)\n",
    "rg3_train_Y = rg3_Y[:754]\n",
    "\n",
    "# 평가 데이터 (양품)\n",
    "rg3_test_Y = rg3_Y[754:]\n",
    "\n",
    "# 평가 데이터 (불량)\n",
    "rg3_test_N = rg3_N\n",
    "\n",
    "print(f\"rg3 학습 데이터 (양품) 개수: {len(rg3_train_Y)}\")\n",
    "print(f\"rg3 평가 데이터 (양품) 개수: {len(rg3_test_Y)}\")\n",
    "print(f\"rg3 평가 데이터 (불량) 개수: {len(rg3_test_N)}\")"
   ]
  },
  {
   "cell_type": "markdown",
   "id": "0acdf843-6077-4018-b3ea-423452b90e39",
   "metadata": {},
   "source": [
    "# 3. Variational Autoencoder 모델링"
   ]
  },
  {
   "cell_type": "code",
   "execution_count": 12,
   "id": "8a0c3701-4dc0-4074-83c1-d5ac7310b6f8",
   "metadata": {},
   "outputs": [
    {
     "data": {
      "text/plain": [
       "(754, 24)"
      ]
     },
     "execution_count": 12,
     "metadata": {},
     "output_type": "execute_result"
    }
   ],
   "source": [
    "rg3_train_Y.shape"
   ]
  },
  {
   "cell_type": "code",
   "execution_count": 13,
   "id": "79d4184f-9aa8-4945-9390-3888d7eaa83e",
   "metadata": {},
   "outputs": [],
   "source": [
    "# Autoencoder Class\n",
    "\n",
    "class VariationalAutoEncoder(nn.Module):\n",
    "    def __init__(self):\n",
    "        super(VariationalAutoEncoder, self).__init__()\n",
    "        self.N = torch.distributions.Normal(0, 1)\n",
    "        self.kl = 0\n",
    "        \n",
    "        self.enc = nn.Sequential(\n",
    "            nn.Dropout(0.3),\n",
    "            nn.Linear(rg3_train_Y.shape[1], 15),\n",
    "            nn.ReLU(),\n",
    "            nn.Linear(15, 5),\n",
    "            nn.ReLU(),\n",
    "            nn.Linear(5, 1),\n",
    "        )\n",
    "        \n",
    "        self.dec = nn.Sequential(\n",
    "            nn.Linear(1, 5),\n",
    "            nn.ReLU(),\n",
    "            nn.Linear(5, 15),\n",
    "            nn.ReLU(),\n",
    "            nn.Linear(15, rg3_train_Y.shape[1]),\n",
    "            # nn.ReLU(),\n",
    "        )\n",
    "        \n",
    "    def forward(self, x):\n",
    "        x = self.enc(x)\n",
    "        mu = x\n",
    "        sigma = torch.exp(x)\n",
    "        z = mu + sigma*self.N.sample(mu.shape)\n",
    "        self.kl = (sigma**2 + mu**2 - torch.log(sigma) - 1/2).sum()  # Came from Kullback-Leibler Divergence\n",
    "        return self.dec(z)"
   ]
  },
  {
   "cell_type": "code",
   "execution_count": 14,
   "id": "66eafbcd-ded0-433a-b0a5-5ef30837a3f0",
   "metadata": {},
   "outputs": [],
   "source": [
    "# Training Parameters\n",
    "\n",
    "batch_size = 30\n",
    "lr = 0.001   # learning rate\n",
    "w_d = 1e-4  # weight decay\n",
    "# momentum = 0.9  <- This is for SGD\n",
    "epochs = 30"
   ]
  },
  {
   "cell_type": "code",
   "execution_count": 15,
   "id": "7b2a22c6-d93f-4aa4-8925-6d4858b18bb6",
   "metadata": {},
   "outputs": [],
   "source": [
    "# Loader Preparation\n",
    "\n",
    "class Loader(torch.utils.data.Dataset):\n",
    "    def __init__(self):\n",
    "        super(Loader, self).__init__()\n",
    "        self.dataset = ''\n",
    "        \n",
    "    def __len__(self):\n",
    "        return len(self.dataset)\n",
    "    \n",
    "    def __getitem__(self, idx):\n",
    "        row = self.dataset[idx]\n",
    "        # row = self.dataset.iloc[idx]\n",
    "        data = torch.from_numpy(row).float()\n",
    "        return data\n",
    "    \n",
    "    \n",
    "class rg3DataLoader(Loader):\n",
    "    def __init__(self, data_for_ae):\n",
    "        super(rg3DataLoader, self).__init__()\n",
    "        self.dataset = data_for_ae"
   ]
  },
  {
   "cell_type": "code",
   "execution_count": 16,
   "id": "989b3ad5-f150-43bd-a686-be96ee011f4e",
   "metadata": {},
   "outputs": [],
   "source": [
    "# train/validation sets split\n",
    "\n",
    "rg3_train_Y_t, rg3_train_Y_v = train_test_split(\n",
    "    rg3_train_Y, test_size=0.2, random_state=123\n",
    ")"
   ]
  },
  {
   "cell_type": "code",
   "execution_count": 17,
   "id": "c2e8f854-b246-4f80-94c2-d9b609138349",
   "metadata": {},
   "outputs": [],
   "source": [
    "train_set = rg3DataLoader(rg3_train_Y_t)\n",
    "\n",
    "train_ = DataLoader(\n",
    "    train_set,\n",
    "    batch_size=batch_size,\n",
    "    shuffle=True,\n",
    "    pin_memory=True,\n",
    "    drop_last=True\n",
    ")"
   ]
  },
  {
   "cell_type": "code",
   "execution_count": 18,
   "id": "f6211d56-6b1a-45d7-8d66-29e2961e1655",
   "metadata": {},
   "outputs": [],
   "source": [
    "valid_set = rg3DataLoader(rg3_train_Y_v)\n",
    "\n",
    "valid_ = DataLoader(\n",
    "    valid_set,\n",
    "    batch_size=batch_size,\n",
    "    shuffle=True,\n",
    "    pin_memory=True,\n",
    "    drop_last=True\n",
    ")"
   ]
  },
  {
   "cell_type": "code",
   "execution_count": 19,
   "id": "aaf3e682-d173-413e-b016-527da4fc64b0",
   "metadata": {},
   "outputs": [],
   "source": [
    "metrics = defaultdict(list)\n",
    "device = 'cpu'       #'cuda' if torch.cuda.is_available() else 'cpu'\n",
    "model = VariationalAutoEncoder()\n",
    "model.to(device)\n",
    "criterion = nn.MSELoss()\n",
    "optimizer = torch.optim.Adam(\n",
    "    model.parameters(), lr=lr, weight_decay=w_d\n",
    ")"
   ]
  },
  {
   "cell_type": "code",
   "execution_count": 20,
   "id": "12a51bef-5462-4c0f-ba5d-9bfa0218b172",
   "metadata": {},
   "outputs": [
    {
     "name": "stdout",
     "output_type": "stream",
     "text": [
      "==========================================================================================\n",
      "Layer (type:depth-idx)                   Output Shape              Param #\n",
      "==========================================================================================\n",
      "├─Sequential: 1-1                        [-1, 1]                   --\n",
      "|    └─Dropout: 2-1                      [-1, 24]                  --\n",
      "|    └─Linear: 2-2                       [-1, 15]                  375\n",
      "|    └─ReLU: 2-3                         [-1, 15]                  --\n",
      "|    └─Linear: 2-4                       [-1, 5]                   80\n",
      "|    └─ReLU: 2-5                         [-1, 5]                   --\n",
      "|    └─Linear: 2-6                       [-1, 1]                   6\n",
      "├─Sequential: 1-2                        [-1, 24]                  --\n",
      "|    └─Linear: 2-7                       [-1, 5]                   10\n",
      "|    └─ReLU: 2-8                         [-1, 5]                   --\n",
      "|    └─Linear: 2-9                       [-1, 15]                  90\n",
      "|    └─ReLU: 2-10                        [-1, 15]                  --\n",
      "|    └─Linear: 2-11                      [-1, 24]                  384\n",
      "==========================================================================================\n",
      "Total params: 945\n",
      "Trainable params: 945\n",
      "Non-trainable params: 0\n",
      "Total mult-adds (M): 0.00\n",
      "==========================================================================================\n",
      "Input size (MB): 0.00\n",
      "Forward/backward pass size (MB): 0.00\n",
      "Params size (MB): 0.00\n",
      "Estimated Total Size (MB): 0.00\n",
      "==========================================================================================\n"
     ]
    }
   ],
   "source": [
    "summary(model, (24, ), device='cpu');"
   ]
  },
  {
   "cell_type": "code",
   "execution_count": 21,
   "id": "58b41c8d-be98-448d-908e-2746ac1e5aa2",
   "metadata": {},
   "outputs": [
    {
     "name": "stdout",
     "output_type": "stream",
     "text": [
      "-----------------------------------------------\n",
      "[EPOCH] 5/30\n",
      "[TRAIN LOSS] 0.004116779017211193    [VALID LOSS] 0.0031404250998370697\n",
      "Epoch Complete in 0:00:00.039000\n",
      "-----------------------------------------------\n",
      "[EPOCH] 10/30\n",
      "[TRAIN LOSS] 0.0011601091561774116    [VALID LOSS] 0.000933792195375392\n",
      "Epoch Complete in 0:00:00.038998\n",
      "-----------------------------------------------\n",
      "[EPOCH] 15/30\n",
      "[TRAIN LOSS] 0.0011175092013172843    [VALID LOSS] 0.0009136121004622503\n",
      "Epoch Complete in 0:00:00.037005\n",
      "-----------------------------------------------\n",
      "[EPOCH] 20/30\n",
      "[TRAIN LOSS] 0.0011131837809609734    [VALID LOSS] 0.0009080961914054605\n",
      "Epoch Complete in 0:00:00.042003\n",
      "-----------------------------------------------\n",
      "[EPOCH] 25/30\n",
      "[TRAIN LOSS] 0.0011027723081274018    [VALID LOSS] 0.0009000371426146551\n",
      "Epoch Complete in 0:00:00.042999\n",
      "-----------------------------------------------\n",
      "[EPOCH] 30/30\n",
      "[TRAIN LOSS] 0.0011013729457633808    [VALID LOSS] 0.0008924005195399783\n",
      "Epoch Complete in 0:00:00.040034\n",
      "-----------------------------------------------\n",
      "[System Complete: 0:00:01.196034]\n"
     ]
    }
   ],
   "source": [
    "# VAE Training\n",
    "\n",
    "model.train()\n",
    "start = time.time()\n",
    "for epoch in range(epochs):\n",
    "    ep_start = time.time()\n",
    "    \n",
    "    # Training\n",
    "    running_loss_t = 0.0\n",
    "\n",
    "    for bx, (data) in enumerate(train_):\n",
    "        sample = model(data.to(device))\n",
    "        loss = criterion(data.to(device), sample)\n",
    "        optimizer.zero_grad()\n",
    "        loss.backward()\n",
    "        optimizer.step()\n",
    "        running_loss_t += loss.item()\n",
    "    train_loss = running_loss_t/len(train_set)\n",
    "    metrics['train_loss'].append(train_loss)\n",
    "    \n",
    "    # Validation\n",
    "    model.eval()\n",
    "    running_loss_v = 0.0\n",
    "    with torch.no_grad():\n",
    "        for bx, (data) in enumerate(valid_):\n",
    "            sample = model(data.to(device))\n",
    "            loss = criterion(data.to(device), sample)\n",
    "            accuracy = torch.sum(torch.isclose(data.to(device), sample, rtol=0.1))\n",
    "            running_loss_v += loss.item()\n",
    "    valid_loss = running_loss_v/len(valid_set)\n",
    "    metrics['valid_loss'].append(valid_loss)\n",
    "    \n",
    "    model.train()\n",
    "    \n",
    "    ep_end = time.time()\n",
    "    if (epoch+1) % 5 == 0:\n",
    "        print('-----------------------------------------------')\n",
    "        print('[EPOCH] {}/{}\\n[TRAIN LOSS] {}    [VALID LOSS] {}'.format(epoch+1, epochs, train_loss, valid_loss))\n",
    "        print('Epoch Complete in {}'.format(timedelta(seconds=ep_end-ep_start)))\n",
    "end = time.time()\n",
    "print('-----------------------------------------------')\n",
    "print('[System Complete: {}]'.format(timedelta(seconds=end-start)))"
   ]
  },
  {
   "cell_type": "code",
   "execution_count": 22,
   "id": "63f0b9df-69cb-41e0-a238-aa38190ec59a",
   "metadata": {},
   "outputs": [
    {
     "data": {
      "image/png": "[encoded data removed]",
      "text/plain": [
       "<Figure size 600x400 with 1 Axes>"
      ]
     },
     "metadata": {},
     "output_type": "display_data"
    }
   ],
   "source": [
    "# Loss\n",
    "\n",
    "_, ax = plt.subplots(1, 1, figsize=(6, 4))\n",
    "ax.set_title('Loss')\n",
    "ax.plot(metrics['train_loss'])\n",
    "ax.plot(metrics['valid_loss'])\n",
    "plt.show();"
   ]
  },
  {
   "cell_type": "markdown",
   "id": "47b2b8fa-35d0-4527-8140-990cfb2e97bf",
   "metadata": {},
   "source": [
    "# 4. Mahalanobis Distance를 사용한 임계값 정의"
   ]
  },
  {
   "cell_type": "code",
   "execution_count": 23,
   "id": "8988e16e-dff2-45e3-9996-bcf9ed5e06cc",
   "metadata": {},
   "outputs": [],
   "source": [
    "# 학습 데이터의 예측값\n",
    "\n",
    "rg3_train_pred = model(torch.tensor(rg3_train_Y).float())"
   ]
  },
  {
   "cell_type": "code",
   "execution_count": 24,
   "id": "46d56707-cb5a-4c5a-a9f7-aa9725bdf80b",
   "metadata": {},
   "outputs": [
    {
     "data": {
      "text/plain": [
       "tensor([[0.3534, 0.1942, 0.3464,  ..., 0.6189, 0.4979, 0.4826],\n",
       "        [0.3692, 0.2137, 0.3978,  ..., 0.6258, 0.5046, 0.5224],\n",
       "        [0.3387, 0.1806, 0.3131,  ..., 0.6000, 0.4918, 0.4692],\n",
       "        ...,\n",
       "        [0.3641, 0.2074, 0.3811,  ..., 0.6235, 0.5025, 0.5094],\n",
       "        [0.3568, 0.1984, 0.3576,  ..., 0.6204, 0.4994, 0.4913],\n",
       "        [0.3669, 0.2109, 0.3902,  ..., 0.6247, 0.5036, 0.5165]],\n",
       "       grad_fn=<AddmmBackward0>)"
      ]
     },
     "execution_count": 24,
     "metadata": {},
     "output_type": "execute_result"
    }
   ],
   "source": [
    "rg3_train_pred"
   ]
  },
  {
   "cell_type": "code",
   "execution_count": 25,
   "id": "dba2886f-b6b1-4c81-89b4-14fc34b00553",
   "metadata": {},
   "outputs": [],
   "source": [
    "# 학습 데이터의 복원 오차 (예측값 - 실제값)\n",
    "\n",
    "rg3_train_Y_loss = rg3_train_pred.detach().numpy() - rg3_train_Y"
   ]
  },
  {
   "cell_type": "code",
   "execution_count": 26,
   "id": "f99174d2-ebe3-4a15-bd29-328f160ed700",
   "metadata": {},
   "outputs": [
    {
     "data": {
      "text/plain": [
       "(754, 24)"
      ]
     },
     "execution_count": 26,
     "metadata": {},
     "output_type": "execute_result"
    }
   ],
   "source": [
    "rg3_train_Y_loss.shape"
   ]
  },
  {
   "cell_type": "code",
   "execution_count": 27,
   "id": "81742d79-34d5-4ea6-8d59-975d175b5dd5",
   "metadata": {},
   "outputs": [],
   "source": [
    "def mahalanobis(x=None, data=None, cov=None):\n",
    "    \"\"\"\n",
    "    Compute the Mahalanobis Distance between each row of x and the data  \n",
    "    x    : vector or matrix of data with, say, p columns.\n",
    "    data : ndarray of the distribution from which Mahalanobis distance of each observation of x is to be computed.\n",
    "    cov  : covariance matrix (p x p) of the distribution. If None, will be computed from data.\n",
    "    \"\"\"\n",
    "    x_minus_mu = x - np.mean(data, axis=0)\n",
    "    if not cov:\n",
    "        cov = np.cov(data.T)\n",
    "        # cov = np.cov(data.values.T)\n",
    "    inv_covmat = sp.linalg.inv(cov)\n",
    "    left_term = np.dot(x_minus_mu, inv_covmat)\n",
    "    mahal = np.dot(left_term, x_minus_mu.T)\n",
    "    return mahal.diagonal()  # Can't understand why .diagonal() is used"
   ]
  },
  {
   "cell_type": "code",
   "execution_count": 28,
   "id": "9cfb0a50-4787-44ec-b9fd-fc5172dc1842",
   "metadata": {},
   "outputs": [],
   "source": [
    "class MahalanobisOneclassClassifier():\n",
    "    def __init__(self, xtrain, significance_level=0.01):\n",
    "        self.xtrain = xtrain\n",
    "        self.critical_value = chi2.ppf((1-significance_level), df=xtrain.shape[1] - 1) # df = degree of freedom\n",
    "        print('Critical value is: ', self.critical_value)\n",
    "\n",
    "    def predict_proba(self, xtest):\n",
    "        mahalanobis_dist = mahalanobis(xtest, self.xtrain)\n",
    "        self.pvalues = 1 - chi2.cdf(mahalanobis_dist, 2)\n",
    "        return mahalanobis_dist\n",
    "\n",
    "    def predict(self, xtest):\n",
    "        return np.array([int(i) for i in self.predict_proba(xtest) > self.critical_value])"
   ]
  },
  {
   "cell_type": "code",
   "execution_count": 29,
   "id": "e91aa841-c7ba-42e3-bb1f-611098307cde",
   "metadata": {},
   "outputs": [
    {
     "name": "stdout",
     "output_type": "stream",
     "text": [
      "Critical value is:  41.638398118858476\n"
     ]
    }
   ],
   "source": [
    "clf = MahalanobisOneclassClassifier(rg3_train_Y_loss, significance_level=0.01)"
   ]
  },
  {
   "cell_type": "code",
   "execution_count": 30,
   "id": "9d567a1a-35e3-429e-ba2f-4db6706f2fa5",
   "metadata": {},
   "outputs": [],
   "source": [
    "# threshold = clf.critical_value\n",
    "threshold = 177"
   ]
  },
  {
   "cell_type": "markdown",
   "id": "b42134e1-74b2-4545-8a5d-93b770b7f830",
   "metadata": {},
   "source": [
    "# 5. 데이터 각각의 예측값과 복원 오차 확인"
   ]
  },
  {
   "cell_type": "markdown",
   "id": "fe79fb75-4658-4639-9af3-9998d7a807bc",
   "metadata": {},
   "source": [
    "## 5.1. 평가 데이터 (양품) 대상 모델 성능 검증 "
   ]
  },
  {
   "cell_type": "code",
   "execution_count": 31,
   "id": "1e0f9e46-1682-4008-a13a-f021307c1923",
   "metadata": {},
   "outputs": [],
   "source": [
    "# 예측값\n",
    "rg3_predict_Y = model(torch.tensor(rg3_test_Y).float())"
   ]
  },
  {
   "cell_type": "code",
   "execution_count": 32,
   "id": "abb346b9-0e1b-46d5-8b7a-b8c2d216dbb8",
   "metadata": {},
   "outputs": [
    {
     "data": {
      "text/plain": [
       "torch.Size([470, 24])"
      ]
     },
     "execution_count": 32,
     "metadata": {},
     "output_type": "execute_result"
    }
   ],
   "source": [
    "rg3_predict_Y.shape"
   ]
  },
  {
   "cell_type": "code",
   "execution_count": 33,
   "id": "07e44def-5214-46b9-85bc-ef84bf4285ef",
   "metadata": {},
   "outputs": [],
   "source": [
    "# 양품 평가 데이터의 복원 오차 (예측값 - 실제값)\n",
    "\n",
    "rg3_test_Y_loss = rg3_predict_Y.detach().numpy() - rg3_test_Y"
   ]
  },
  {
   "cell_type": "code",
   "execution_count": 34,
   "id": "42465944-0c09-4eae-ae40-3ea2084b08ef",
   "metadata": {},
   "outputs": [
    {
     "data": {
      "text/plain": [
       "(470, 24)"
      ]
     },
     "execution_count": 34,
     "metadata": {},
     "output_type": "execute_result"
    }
   ],
   "source": [
    "rg3_test_Y_loss.shape"
   ]
  },
  {
   "cell_type": "code",
   "execution_count": 35,
   "id": "38f44c36-1f32-43c1-bca7-3c863ed91fd7",
   "metadata": {},
   "outputs": [],
   "source": [
    "# 예측값\n",
    "rg3_test_MD_Y = clf.predict_proba(rg3_test_Y_loss)"
   ]
  },
  {
   "cell_type": "code",
   "execution_count": 36,
   "id": "9ab5c22d-7fd2-444b-981e-4a728162c36c",
   "metadata": {
    "tags": []
   },
   "outputs": [
    {
     "data": {
      "text/plain": [
       "array([ 20.7151973 ,  14.79503145,  17.29140758,  21.25642076,\n",
       "         9.02559058,   7.21552877,  17.8601425 ,  15.44991809,\n",
       "        14.64568542,  13.16147827,  14.54954349,  23.65254173,\n",
       "        14.18291431,  29.23535564,  19.02411088,  17.66138356,\n",
       "        13.00047076,  29.7007962 ,  34.78042068,  16.1428804 ,\n",
       "        20.51155983,  20.31560213,  11.26173396,  18.01565532,\n",
       "        21.34540762,  12.30988502,  22.06494957,  16.32532552,\n",
       "        19.73177849,  17.78926629,  12.14258038,  14.37547703,\n",
       "        19.14263103,  11.97990533,  22.29140799,  23.51172824,\n",
       "        18.28179207,  18.28875522,  15.09572031,  18.43029467,\n",
       "        13.64545919,  17.32656872,  17.88718162,  18.40543173,\n",
       "        14.26929971,  12.86673687,  24.01172944,  28.41122394,\n",
       "        18.83103532,  23.56460061,  21.32076723,  18.10271038,\n",
       "        15.24691112,  24.28179331,  23.11016792,  17.50489158,\n",
       "        19.82666162,  20.53594922,  19.72961865,  72.6162268 ,\n",
       "        20.72406232,  20.05951547,  20.85009184,  17.52182468,\n",
       "        12.35672997,  15.2779011 ,  15.05810856,  17.97493577,\n",
       "        16.71770349,  15.47516599,  14.05903528,  14.58502676,\n",
       "        17.6902536 ,  14.42972491,  16.60701858,  13.44048809,\n",
       "        18.44055585,  26.51349667,  17.2790828 ,  15.40349888,\n",
       "        17.92877566,  12.22164998,  19.99210257,  11.48215482,\n",
       "        16.37879526,  12.63961073,  20.10767621,  21.07400147,\n",
       "        13.13084541,  15.7551427 ,  14.3777077 ,  19.47514629,\n",
       "        11.00112816,  12.59837661,  24.82493244,  22.41276305,\n",
       "        12.43570434,  11.39576318,  19.32198902, 376.95197878,\n",
       "        22.54687025,  17.98939804,  21.82901468,  26.35637138,\n",
       "        16.20243104,  23.67474353,  26.7682803 ,  13.95900312,\n",
       "        22.1668701 ,  15.95208353,  16.20428933,  20.47155554,\n",
       "        19.61731363,  13.66515964,  14.4759142 ,   7.45293755,\n",
       "        14.18002287,  13.62659062,  30.80804089,  15.92583846,\n",
       "        26.81044967,  23.57525373,  26.23728371,  19.11367662,\n",
       "        17.39025259,  18.4340597 ,  21.79227685,  16.3691828 ,\n",
       "        19.11144421,  13.76741175,  17.73958188,  25.47556946,\n",
       "        22.99737844,  18.00595383,  20.65490911,  17.77390695,\n",
       "        13.42749376,  19.4939432 ,  19.35392312,  24.64521668,\n",
       "        18.70117418,  23.16552178,  17.82182598,  18.08383262,\n",
       "        19.65819253,  14.32750433,  17.81983773,  22.42752109,\n",
       "        16.1598399 ,  17.54135519,   7.60281584,  18.37208783,\n",
       "        21.92578235,  13.27619707,  17.84254434,  20.91870536,\n",
       "        16.56795165,  22.84177394,  15.77658223,  14.42220023,\n",
       "        17.73794217,  22.06623739,  20.11445106,  20.65381416,\n",
       "        33.2618733 ,  27.56885999,  22.42293403,  14.64400409,\n",
       "        18.94611749,  16.50233236,  14.5816725 ,  14.91848736,\n",
       "        17.06299649,  21.87264053,  14.90948898,  14.96686273,\n",
       "        17.43665632,  22.33997307,  26.70614442,  19.28032319,\n",
       "        20.68961751,  18.44299369,  29.56797878, 379.67606801,\n",
       "        16.38419412,  25.26717949,  23.97845311,  17.41393276,\n",
       "        20.28219341,  23.5756252 ,  18.53438048,  26.45315571,\n",
       "        10.42538888,  19.67962098,  21.4394269 ,  41.70265072,\n",
       "        16.04781428,  25.21406357,  38.31228957,  29.73724871,\n",
       "        20.82320699,  12.17655735,  18.99054106,  30.64016252,\n",
       "        22.13708164,  25.20869872,  30.95226417,  27.4805017 ,\n",
       "        24.18329109,  29.29470353,  40.68017543,  23.77307902,\n",
       "        22.92517153,  21.48613312,  30.10237251,  34.3325715 ,\n",
       "        20.18979624,  22.94669535,  14.59386221,  24.48974478,\n",
       "        21.92763269,  25.58299888,  21.16867167,  18.51651228,\n",
       "        24.22671911,  19.81117237,  22.84492147,  30.42259464,\n",
       "        21.74805373,  20.06359175,  23.1498992 ,  21.3456549 ,\n",
       "        32.17736035,  33.0383077 ,  27.77814782,  19.36722309,\n",
       "        10.42749459,  16.45620642,  26.41285988,  23.1655794 ,\n",
       "        19.89402174,  19.85094233,  18.33908575,  16.53551801,\n",
       "        19.37344616,  21.22886362,  22.2739235 ,  17.32630639,\n",
       "        15.45913021,  21.39641308,  10.65497686,  18.06288738,\n",
       "        17.29311049,  14.38154108, 155.55629439,  19.5880196 ,\n",
       "        13.13408565,  16.65411291,  15.39293584,  15.14534199,\n",
       "        25.69885236,  15.22985268,  17.61144715,  21.0255122 ,\n",
       "        17.15999384,  17.02539118,  21.98399613,  14.39325502,\n",
       "        14.67838279,  13.28200418,  24.37252742,  18.48826685,\n",
       "        26.19913908,  17.39927498,  20.16202892,  32.78252671,\n",
       "        21.73704943,  19.87877786,  26.72387452,  13.61270423,\n",
       "        25.42266919,  17.32929749,  24.68030332,  34.96777666,\n",
       "        16.13056097,  22.03927418,  20.27136578,  15.89790186,\n",
       "        20.50908475,  33.78433261,  23.34458137,  17.06573735,\n",
       "        19.4198667 ,  27.15954041,  23.1564067 ,  13.23916697,\n",
       "        17.97480971,  30.90228502,  26.51765266,  24.77378954,\n",
       "        19.01924229,  14.77806285,   8.21889012,  13.39748852,\n",
       "        19.37843131,  31.70687069,  22.64875882,  31.33089735,\n",
       "        12.14126419,  12.08163259,  18.37202415,  13.59034553,\n",
       "        25.6973749 ,  15.13584711,  23.13970584,  22.36049872,\n",
       "        20.17824615,  11.67477695,  24.22619642,  27.04034834,\n",
       "        27.35624132,  56.50517705,  22.91429248,  21.82911461,\n",
       "        13.42443347,  61.57206884,  14.46497798,  23.54388629,\n",
       "        17.44538659,  17.44726284,  23.40106772,  62.59826973,\n",
       "        22.90604515,  24.68647808,  23.77410732,  20.69537809,\n",
       "        14.70128175,  14.60726612,  17.17517577,  13.64654375,\n",
       "        18.41467542,  20.23286728,  18.78343515,  19.9491382 ,\n",
       "       160.45700987,  13.30976219,  19.62988512,  40.07132782,\n",
       "        17.39714187,  22.91147893,  19.63734557,  10.43394812,\n",
       "        21.22455878,  12.47366773,  10.21949647,  22.7941059 ,\n",
       "        22.49180868,  61.85269819,  19.55151506,  18.98614027,\n",
       "        24.64743783,  16.93794851,  23.6035431 ,  18.53961251,\n",
       "        15.37336083,  29.05527363,  58.50997448,  35.32623219,\n",
       "        16.82523636,  20.89769077,  24.5154627 ,  20.30844282,\n",
       "        27.42633326,  24.41779811,  19.52595163,  25.48942135,\n",
       "        29.51888298,  23.8985187 ,  22.7031947 ,  15.6316102 ,\n",
       "        18.88662848,  20.89774866,  30.25820728,  23.17873809,\n",
       "        16.17996408,  19.22942116,  20.57913125,  14.65254025,\n",
       "        15.63967941,  16.694119  ,  15.99722576,  20.39717356,\n",
       "        29.80173896,  13.97546389,  19.5342156 ,  22.12005214,\n",
       "        15.87425694,  16.32021101,  11.67051012,  19.80451704,\n",
       "        14.65876666,  20.82360189,  15.42617707,  18.41708502,\n",
       "        63.62486735,  30.80083739,  22.14272335,  14.42975931,\n",
       "        17.05851368,  22.12903992,  32.79209223,  18.46024251,\n",
       "        18.4327534 ,  18.88280257,  18.57216352,  20.68253759,\n",
       "        22.58667663,  20.15860455,  25.90339001,  22.25079127,\n",
       "        18.52760764,  63.38041464, 155.64251837,  13.06503802,\n",
       "        32.42102165,  22.25057432,  17.45439041,  20.2438852 ,\n",
       "        21.28883235,  15.83175805,  24.56693742,  28.3406987 ,\n",
       "        10.58110226,  19.6661884 ,  23.37758305,  98.4486543 ,\n",
       "        64.8340871 ,  66.83629849,  47.8975963 ,  57.72946474,\n",
       "        71.82674685,  70.75993336,  53.55219171,  58.61311981,\n",
       "        57.36973108,  38.12541445,  56.41019137,  62.4388095 ,\n",
       "        62.95538625,  61.53796722,  42.97653893,  41.86691408,\n",
       "        43.38040274,  50.01249734,  51.7599049 ,  38.55792145,\n",
       "        54.6351806 ,  49.23799655,  49.77953306,  45.61677142,\n",
       "        36.05504127,  39.56027875,  44.39440114,  38.52611063,\n",
       "        54.46327874,  47.45368872,  48.31667977,  47.67733028,\n",
       "        45.84003866, 177.96018166])"
      ]
     },
     "execution_count": 36,
     "metadata": {},
     "output_type": "execute_result"
    }
   ],
   "source": [
    "rg3_test_MD_Y"
   ]
  },
  {
   "cell_type": "code",
   "execution_count": 37,
   "id": "236ba377-c312-4cba-a5c0-5e5a96281173",
   "metadata": {},
   "outputs": [
    {
     "data": {
      "image/png": "[encoded data removed]",
      "text/plain": [
       "<Figure size 640x480 with 1 Axes>"
      ]
     },
     "metadata": {},
     "output_type": "display_data"
    }
   ],
   "source": [
    "# 시각화\n",
    "\n",
    "plt.hist(rg3_test_MD_Y, bins=500)\n",
    "plt.xlabel(\"Mahalanobis Distance\")\n",
    "plt.ylabel(\"No of samples\")\n",
    "plt.vlines(threshold, 0, 50, color=\"red\")\n",
    "plt.show();"
   ]
  },
  {
   "cell_type": "code",
   "execution_count": 38,
   "id": "ac85b2f7-d8d4-4ef5-aace-bbe88b46e9f7",
   "metadata": {},
   "outputs": [
    {
     "name": "stdout",
     "output_type": "stream",
     "text": [
      "불량 개수:  3\n",
      "정확도:  0.9936170212765958\n"
     ]
    }
   ],
   "source": [
    "# 불량으로 판단한 데이터 확인\n",
    "\n",
    "rg3_test_Y_anomalies = rg3_test_MD_Y > threshold\n",
    "print(\"불량 개수: \", np.sum(rg3_test_Y_anomalies))\n",
    "print(\"정확도: \", (rg3_test_Y.shape[0]-np.sum(rg3_test_Y_anomalies))/rg3_test_Y.shape[0])"
   ]
  },
  {
   "cell_type": "markdown",
   "id": "492aa0bb-898d-40ec-b382-761a61fa5ecc",
   "metadata": {},
   "source": [
    "## 5.2. 평가 데이터 (불량) 대상 모델 성능 검증 "
   ]
  },
  {
   "cell_type": "code",
   "execution_count": 39,
   "id": "bb70431d-a8a1-443a-861b-974b1b9f364d",
   "metadata": {},
   "outputs": [],
   "source": [
    "# 예측값\n",
    "rg3_predict_MD_N = model(torch.tensor(rg3_test_N).float())"
   ]
  },
  {
   "cell_type": "code",
   "execution_count": 40,
   "id": "55d15843-922c-4f1a-be19-99bd9366df43",
   "metadata": {},
   "outputs": [
    {
     "data": {
      "text/plain": [
       "torch.Size([32, 24])"
      ]
     },
     "execution_count": 40,
     "metadata": {},
     "output_type": "execute_result"
    }
   ],
   "source": [
    "rg3_predict_MD_N.shape"
   ]
  },
  {
   "cell_type": "code",
   "execution_count": 41,
   "id": "6fefacef-9bff-4137-b2d3-736b0ac58b9a",
   "metadata": {},
   "outputs": [],
   "source": [
    "# 불량 평가 데이터의 복원 오차 (예측값 - 실제값)\n",
    "\n",
    "rg3_test_N_loss = rg3_predict_MD_N.detach().numpy() - rg3_test_N"
   ]
  },
  {
   "cell_type": "code",
   "execution_count": 42,
   "id": "12dd9231-a235-406b-9070-3eccac28da81",
   "metadata": {},
   "outputs": [
    {
     "data": {
      "text/plain": [
       "(32, 24)"
      ]
     },
     "execution_count": 42,
     "metadata": {},
     "output_type": "execute_result"
    }
   ],
   "source": [
    "rg3_test_N_loss.shape"
   ]
  },
  {
   "cell_type": "code",
   "execution_count": 43,
   "id": "3983d9a2-dc89-41de-9d98-10dac821f479",
   "metadata": {},
   "outputs": [],
   "source": [
    "# 예측값\n",
    "rg3_test_MD_N = clf.predict_proba(rg3_test_N_loss)"
   ]
  },
  {
   "cell_type": "code",
   "execution_count": 44,
   "id": "9e0a14ce-6c94-4fbd-9db3-8def7927b812",
   "metadata": {
    "tags": []
   },
   "outputs": [
    {
     "data": {
      "text/plain": [
       "array([177.26943145, 193.3226867 , 200.08875573, 179.81289293,\n",
       "       147.73138397, 611.40014392, 315.52144827, 536.4010611 ,\n",
       "       465.3813245 , 694.97009346, 509.42043917, 602.59251318,\n",
       "       499.82940464, 605.50210902, 583.91973313, 666.28301683,\n",
       "       421.82474234, 500.89139034, 430.9496033 , 397.94178734,\n",
       "       304.72826495, 368.30007898, 345.38800302, 346.07912221,\n",
       "       542.21823409, 371.0920795 , 450.55724164, 386.84959843,\n",
       "       513.67995097, 425.10579942, 355.41400228, 235.99468798])"
      ]
     },
     "execution_count": 44,
     "metadata": {},
     "output_type": "execute_result"
    }
   ],
   "source": [
    "rg3_test_MD_N"
   ]
  },
  {
   "cell_type": "code",
   "execution_count": 45,
   "id": "a4d87c55-fff1-4b19-982a-d4bda55ed50a",
   "metadata": {},
   "outputs": [
    {
     "data": {
      "image/png": "[encoded data removed]",
      "text/plain": [
       "<Figure size 640x480 with 1 Axes>"
      ]
     },
     "metadata": {},
     "output_type": "display_data"
    }
   ],
   "source": [
    "# 시각화\n",
    "\n",
    "plt.hist(rg3_test_MD_N, bins=50)\n",
    "plt.xlabel(\"Mahalanobis Distance\")\n",
    "plt.ylabel(\"No of samples\")\n",
    "plt.vlines(threshold, 0, 5, color=\"red\")\n",
    "plt.show();"
   ]
  },
  {
   "cell_type": "code",
   "execution_count": 46,
   "id": "9471427f-b026-4746-ab32-ef98d609d6eb",
   "metadata": {},
   "outputs": [
    {
     "name": "stdout",
     "output_type": "stream",
     "text": [
      "불량 개수:  31\n",
      "정확도:  0.96875\n"
     ]
    }
   ],
   "source": [
    "# 불량으로 판단한 데이터 확인\n",
    "\n",
    "rg3_test_N_anomalies = rg3_test_MD_N > threshold\n",
    "print(\"불량 개수: \", np.sum(rg3_test_N_anomalies))\n",
    "print(\"정확도: \", np.sum(rg3_test_N_anomalies)/rg3_test_N.shape[0])"
   ]
  },
  {
   "cell_type": "markdown",
   "id": "53003c28-6514-48bc-befc-f5588a182c60",
   "metadata": {},
   "source": [
    "# 6. 결과 분석"
   ]
  },
  {
   "cell_type": "code",
   "execution_count": 47,
   "id": "195e54a8-ffc2-44ed-95d4-b31cb5f3950a",
   "metadata": {},
   "outputs": [],
   "source": [
    "# 평가 데이터의 실제값\n",
    "\n",
    "rg3_true = np.concatenate(\n",
    "    [np.zeros(len(rg3_test_Y_anomalies)), np.ones(len(rg3_test_N_anomalies))]\n",
    ")"
   ]
  },
  {
   "cell_type": "code",
   "execution_count": 48,
   "id": "3de9b2f4-e98a-4bec-b5db-84a14ac3af3e",
   "metadata": {},
   "outputs": [
    {
     "data": {
      "text/plain": [
       "array([0., 0., 0., 0., 0., 0., 0., 0., 0., 0., 0., 0., 0., 0., 0., 0., 0.,\n",
       "       0., 0., 0., 0., 0., 0., 0., 0., 0., 0., 0., 0., 0., 0., 0., 0., 0.,\n",
       "       0., 0., 0., 0., 0., 0., 0., 0., 0., 0., 0., 0., 0., 0., 0., 0., 0.,\n",
       "       0., 0., 0., 0., 0., 0., 0., 0., 0., 0., 0., 0., 0., 0., 0., 0., 0.,\n",
       "       0., 0., 0., 0., 0., 0., 0., 0., 0., 0., 0., 0., 0., 0., 0., 0., 0.,\n",
       "       0., 0., 0., 0., 0., 0., 0., 0., 0., 0., 0., 0., 0., 0., 0., 0., 0.,\n",
       "       0., 0., 0., 0., 0., 0., 0., 0., 0., 0., 0., 0., 0., 0., 0., 0., 0.,\n",
       "       0., 0., 0., 0., 0., 0., 0., 0., 0., 0., 0., 0., 0., 0., 0., 0., 0.,\n",
       "       0., 0., 0., 0., 0., 0., 0., 0., 0., 0., 0., 0., 0., 0., 0., 0., 0.,\n",
       "       0., 0., 0., 0., 0., 0., 0., 0., 0., 0., 0., 0., 0., 0., 0., 0., 0.,\n",
       "       0., 0., 0., 0., 0., 0., 0., 0., 0., 0., 0., 0., 0., 0., 0., 0., 0.,\n",
       "       0., 0., 0., 0., 0., 0., 0., 0., 0., 0., 0., 0., 0., 0., 0., 0., 0.,\n",
       "       0., 0., 0., 0., 0., 0., 0., 0., 0., 0., 0., 0., 0., 0., 0., 0., 0.,\n",
       "       0., 0., 0., 0., 0., 0., 0., 0., 0., 0., 0., 0., 0., 0., 0., 0., 0.,\n",
       "       0., 0., 0., 0., 0., 0., 0., 0., 0., 0., 0., 0., 0., 0., 0., 0., 0.,\n",
       "       0., 0., 0., 0., 0., 0., 0., 0., 0., 0., 0., 0., 0., 0., 0., 0., 0.,\n",
       "       0., 0., 0., 0., 0., 0., 0., 0., 0., 0., 0., 0., 0., 0., 0., 0., 0.,\n",
       "       0., 0., 0., 0., 0., 0., 0., 0., 0., 0., 0., 0., 0., 0., 0., 0., 0.,\n",
       "       0., 0., 0., 0., 0., 0., 0., 0., 0., 0., 0., 0., 0., 0., 0., 0., 0.,\n",
       "       0., 0., 0., 0., 0., 0., 0., 0., 0., 0., 0., 0., 0., 0., 0., 0., 0.,\n",
       "       0., 0., 0., 0., 0., 0., 0., 0., 0., 0., 0., 0., 0., 0., 0., 0., 0.,\n",
       "       0., 0., 0., 0., 0., 0., 0., 0., 0., 0., 0., 0., 0., 0., 0., 0., 0.,\n",
       "       0., 0., 0., 0., 0., 0., 0., 0., 0., 0., 0., 0., 0., 0., 0., 0., 0.,\n",
       "       0., 0., 0., 0., 0., 0., 0., 0., 0., 0., 0., 0., 0., 0., 0., 0., 0.,\n",
       "       0., 0., 0., 0., 0., 0., 0., 0., 0., 0., 0., 0., 0., 0., 0., 0., 0.,\n",
       "       0., 0., 0., 0., 0., 0., 0., 0., 0., 0., 0., 0., 0., 0., 0., 0., 0.,\n",
       "       0., 0., 0., 0., 0., 0., 0., 0., 0., 0., 0., 0., 0., 0., 0., 0., 0.,\n",
       "       0., 0., 0., 0., 0., 0., 0., 0., 0., 0., 0., 1., 1., 1., 1., 1., 1.,\n",
       "       1., 1., 1., 1., 1., 1., 1., 1., 1., 1., 1., 1., 1., 1., 1., 1., 1.,\n",
       "       1., 1., 1., 1., 1., 1., 1., 1., 1.])"
      ]
     },
     "execution_count": 48,
     "metadata": {},
     "output_type": "execute_result"
    }
   ],
   "source": [
    "rg3_true"
   ]
  },
  {
   "cell_type": "code",
   "execution_count": 49,
   "id": "f062aa5b-2e3c-4cf9-8ad0-16d68f120a9d",
   "metadata": {},
   "outputs": [],
   "source": [
    "# 평가 데이터의 예측값\n",
    "\n",
    "rg3_prediction = np.concatenate(\n",
    "    [rg3_test_Y_anomalies, rg3_test_N_anomalies]\n",
    ")"
   ]
  },
  {
   "cell_type": "code",
   "execution_count": 50,
   "id": "4cb5ae51-1ee9-4882-ae40-81fe90da3e93",
   "metadata": {},
   "outputs": [
    {
     "data": {
      "text/plain": [
       "array([False, False, False, False, False, False, False, False, False,\n",
       "       False, False, False, False, False, False, False, False, False,\n",
       "       False, False, False, False, False, False, False, False, False,\n",
       "       False, False, False, False, False, False, False, False, False,\n",
       "       False, False, False, False, False, False, False, False, False,\n",
       "       False, False, False, False, False, False, False, False, False,\n",
       "       False, False, False, False, False, False, False, False, False,\n",
       "       False, False, False, False, False, False, False, False, False,\n",
       "       False, False, False, False, False, False, False, False, False,\n",
       "       False, False, False, False, False, False, False, False, False,\n",
       "       False, False, False, False, False, False, False, False, False,\n",
       "        True, False, False, False, False, False, False, False, False,\n",
       "       False, False, False, False, False, False, False, False, False,\n",
       "       False, False, False, False, False, False, False, False, False,\n",
       "       False, False, False, False, False, False, False, False, False,\n",
       "       False, False, False, False, False, False, False, False, False,\n",
       "       False, False, False, False, False, False, False, False, False,\n",
       "       False, False, False, False, False, False, False, False, False,\n",
       "       False, False, False, False, False, False, False, False, False,\n",
       "       False, False, False, False, False, False, False, False, False,\n",
       "       False, False, False,  True, False, False, False, False, False,\n",
       "       False, False, False, False, False, False, False, False, False,\n",
       "       False, False, False, False, False, False, False, False, False,\n",
       "       False, False, False, False, False, False, False, False, False,\n",
       "       False, False, False, False, False, False, False, False, False,\n",
       "       False, False, False, False, False, False, False, False, False,\n",
       "       False, False, False, False, False, False, False, False, False,\n",
       "       False, False, False, False, False, False, False, False, False,\n",
       "       False, False, False, False, False, False, False, False, False,\n",
       "       False, False, False, False, False, False, False, False, False,\n",
       "       False, False, False, False, False, False, False, False, False,\n",
       "       False, False, False, False, False, False, False, False, False,\n",
       "       False, False, False, False, False, False, False, False, False,\n",
       "       False, False, False, False, False, False, False, False, False,\n",
       "       False, False, False, False, False, False, False, False, False,\n",
       "       False, False, False, False, False, False, False, False, False,\n",
       "       False, False, False, False, False, False, False, False, False,\n",
       "       False, False, False, False, False, False, False, False, False,\n",
       "       False, False, False, False, False, False, False, False, False,\n",
       "       False, False, False, False, False, False, False, False, False,\n",
       "       False, False, False, False, False, False, False, False, False,\n",
       "       False, False, False, False, False, False, False, False, False,\n",
       "       False, False, False, False, False, False, False, False, False,\n",
       "       False, False, False, False, False, False, False, False, False,\n",
       "       False, False, False, False, False, False, False, False, False,\n",
       "       False, False, False, False, False, False, False, False, False,\n",
       "       False, False, False, False, False, False, False, False, False,\n",
       "       False, False, False, False, False, False, False, False, False,\n",
       "       False, False, False, False, False, False, False, False, False,\n",
       "       False, False, False, False, False, False, False, False, False,\n",
       "       False, False, False, False, False, False, False, False, False,\n",
       "       False, False, False, False, False, False, False, False, False,\n",
       "       False,  True,  True,  True,  True,  True, False,  True,  True,\n",
       "        True,  True,  True,  True,  True,  True,  True,  True,  True,\n",
       "        True,  True,  True,  True,  True,  True,  True,  True,  True,\n",
       "        True,  True,  True,  True,  True,  True,  True])"
      ]
     },
     "execution_count": 50,
     "metadata": {},
     "output_type": "execute_result"
    }
   ],
   "source": [
    "rg3_prediction"
   ]
  },
  {
   "cell_type": "code",
   "execution_count": 51,
   "id": "72c3c298-e76b-480b-8ccb-4ed1c4021fd0",
   "metadata": {},
   "outputs": [
    {
     "data": {
      "text/plain": [
       "array([[467,   3],\n",
       "       [  1,  31]], dtype=int64)"
      ]
     },
     "execution_count": 51,
     "metadata": {},
     "output_type": "execute_result"
    }
   ],
   "source": [
    "confusion_matrix(rg3_true, rg3_prediction)"
   ]
  },
  {
   "cell_type": "code",
   "execution_count": 52,
   "id": "cf621f1d-a54a-43c0-b800-c1dce5980938",
   "metadata": {},
   "outputs": [
    {
     "name": "stdout",
     "output_type": "stream",
     "text": [
      "              precision    recall  f1-score   support\n",
      "\n",
      "         0.0       1.00      0.99      1.00       470\n",
      "         1.0       0.91      0.97      0.94        32\n",
      "\n",
      "    accuracy                           0.99       502\n",
      "   macro avg       0.95      0.98      0.97       502\n",
      "weighted avg       0.99      0.99      0.99       502\n",
      "\n"
     ]
    }
   ],
   "source": [
    "print(classification_report(rg3_true, rg3_prediction))"
   ]
  },
  {
   "cell_type": "code",
   "execution_count": null,
   "id": "9ca4e189-dbb2-4a9d-bc5e-3e09a20a42b3",
   "metadata": {},
   "outputs": [],
   "source": []
  }
 ],
 "metadata": {
  "kernelspec": {
   "display_name": "Python [conda env:ls_env]",
   "language": "python",
   "name": "conda-env-ls_env-py"
  },
  "language_info": {
   "codemirror_mode": {
    "name": "ipython",
    "version": 3
   },
   "file_extension": ".py",
   "mimetype": "text/x-python",
   "name": "python",
   "nbconvert_exporter": "python",
   "pygments_lexer": "ipython3",
   "version": "3.10.8"
  }
 },
 "nbformat": 4,
 "nbformat_minor": 5
}
