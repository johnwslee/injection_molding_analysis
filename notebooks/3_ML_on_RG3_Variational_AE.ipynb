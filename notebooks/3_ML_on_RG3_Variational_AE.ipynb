{
 "cells": [
  {
   "cell_type": "markdown",
   "id": "bfeabc3c-3ebe-4c8f-85ad-e3c058209de0",
   "metadata": {},
   "source": [
    "# 0. Imports"
   ]
  },
  {
   "cell_type": "code",
   "execution_count": 1,
   "id": "97be1e08-f742-4664-9aae-cd34068183dc",
   "metadata": {},
   "outputs": [
    {
     "data": {
      "text/plain": [
       "<torch._C.Generator at 0x2b3cfea4790>"
      ]
     },
     "execution_count": 1,
     "metadata": {},
     "output_type": "execute_result"
    }
   ],
   "source": [
    "import pandas as pd\n",
    "import numpy as np\n",
    "import matplotlib.pyplot as plt\n",
    "import seaborn as sns\n",
    "\n",
    "from collections import defaultdict\n",
    "import time\n",
    "from datetime import timedelta\n",
    "\n",
    "from sklearn.preprocessing import MinMaxScaler\n",
    "from sklearn.model_selection import train_test_split\n",
    "from sklearn.metrics import confusion_matrix, classification_report\n",
    "\n",
    "import torch\n",
    "import torch.nn as nn\n",
    "from torchsummary import summary\n",
    "from torch.utils.data import DataLoader\n",
    "torch.manual_seed(123)"
   ]
  },
  {
   "cell_type": "code",
   "execution_count": 2,
   "id": "a7a9ab4d-8b7f-4cc6-ab1c-0a8f751a5a1d",
   "metadata": {},
   "outputs": [],
   "source": [
    "# 한글 깨짐 문제 해결용\n",
    "from matplotlib import font_manager, rc\n",
    "plt.rcParams[\"axes.unicode_minus\"] = False\n",
    "path = \"C:\\Windows\\Fonts\\H2GTRM.TTF\"\n",
    "font_name = font_manager.FontProperties(fname=path).get_name()\n",
    "rc(\"font\", family=font_name)"
   ]
  },
  {
   "cell_type": "markdown",
   "id": "6749c29f-62cb-4c13-96a5-980a90d12888",
   "metadata": {},
   "source": [
    "# 1. Data"
   ]
  },
  {
   "cell_type": "code",
   "execution_count": 3,
   "id": "11d01b97-0d88-470d-b99a-72626c8b3e34",
   "metadata": {},
   "outputs": [],
   "source": [
    "rg3 = pd.read_csv(\"data/processed/labeled_data_KAMP_rg3_1.csv\", parse_dates=True)"
   ]
  },
  {
   "cell_type": "code",
   "execution_count": 4,
   "id": "0ffc6350-b5b1-4bc6-9ee3-e9c15362bb36",
   "metadata": {},
   "outputs": [
    {
     "name": "stdout",
     "output_type": "stream",
     "text": [
      "<class 'pandas.core.frame.DataFrame'>\n",
      "RangeIndex: 1256 entries, 0 to 1255\n",
      "Data columns (total 25 columns):\n",
      " #   Column                    Non-Null Count  Dtype  \n",
      "---  ------                    --------------  -----  \n",
      " 0   PassOrFail                1256 non-null   int64  \n",
      " 1   Injection_Time            1256 non-null   float64\n",
      " 2   Filling_Time              1256 non-null   float64\n",
      " 3   Plasticizing_Time         1256 non-null   float64\n",
      " 4   Cycle_Time                1256 non-null   float64\n",
      " 5   Clamp_Close_Time          1256 non-null   float64\n",
      " 6   Cushion_Position          1256 non-null   float64\n",
      " 7   Switch_Over_Position      1256 non-null   float64\n",
      " 8   Plasticizing_Position     1256 non-null   float64\n",
      " 9   Max_Injection_Speed       1256 non-null   float64\n",
      " 10  Max_Screw_RPM             1256 non-null   float64\n",
      " 11  Average_Screw_RPM         1256 non-null   float64\n",
      " 12  Max_Injection_Pressure    1256 non-null   float64\n",
      " 13  Max_Switch_Over_Pressure  1256 non-null   float64\n",
      " 14  Max_Back_Pressure         1256 non-null   float64\n",
      " 15  Average_Back_Pressure     1256 non-null   float64\n",
      " 16  Barrel_Temperature_1      1256 non-null   float64\n",
      " 17  Barrel_Temperature_2      1256 non-null   float64\n",
      " 18  Barrel_Temperature_3      1256 non-null   float64\n",
      " 19  Barrel_Temperature_4      1256 non-null   float64\n",
      " 20  Barrel_Temperature_5      1256 non-null   float64\n",
      " 21  Barrel_Temperature_6      1256 non-null   float64\n",
      " 22  Hopper_Temperature        1256 non-null   float64\n",
      " 23  Mold_Temperature_3        1256 non-null   float64\n",
      " 24  Mold_Temperature_4        1256 non-null   float64\n",
      "dtypes: float64(24), int64(1)\n",
      "memory usage: 245.4 KB\n"
     ]
    }
   ],
   "source": [
    "rg3.info()"
   ]
  },
  {
   "cell_type": "markdown",
   "id": "d476ba58-0785-4370-b416-c80dfc0cad52",
   "metadata": {},
   "source": [
    "# 2. 학습/평가 데이터 분리를 위한 데이터 전처리"
   ]
  },
  {
   "cell_type": "code",
   "execution_count": 5,
   "id": "237d04da-6711-4dac-a72d-4038b3a97b6b",
   "metadata": {},
   "outputs": [
    {
     "data": {
      "text/plain": [
       "0    1224\n",
       "1      32\n",
       "Name: PassOrFail, dtype: int64"
      ]
     },
     "execution_count": 5,
     "metadata": {},
     "output_type": "execute_result"
    }
   ],
   "source": [
    "rg3[\"PassOrFail\"].value_counts()"
   ]
  },
  {
   "cell_type": "code",
   "execution_count": 6,
   "id": "7509fb43-d58a-4dda-afec-5c702ff26081",
   "metadata": {},
   "outputs": [
    {
     "name": "stdout",
     "output_type": "stream",
     "text": [
      "rg3의 양품 개수: 1224\n"
     ]
    }
   ],
   "source": [
    "# 양품\n",
    "rg3_Y = rg3[rg3[\"PassOrFail\"] == 0]\n",
    "print(\"rg3의 양품 개수:\", len(rg3_Y))"
   ]
  },
  {
   "cell_type": "code",
   "execution_count": 7,
   "id": "0ac9183e-d9b0-4380-a2c7-19126573a000",
   "metadata": {},
   "outputs": [
    {
     "name": "stdout",
     "output_type": "stream",
     "text": [
      "rg3의 불량 개수: 32\n"
     ]
    }
   ],
   "source": [
    "# 불량\n",
    "rg3_N = rg3[rg3[\"PassOrFail\"] == 1]\n",
    "print(\"rg3의 불량 개수:\", len(rg3_N))"
   ]
  },
  {
   "cell_type": "markdown",
   "id": "1593a4e4-887f-4b8a-b010-9a6d6634126c",
   "metadata": {},
   "source": [
    "**잡음 제거 오토인코더 모델에 학습시킬 데이터의 형태는 클래스 변수가 없어야 하므로 변수 \"PassOrFail\"을 제거함"
   ]
  },
  {
   "cell_type": "code",
   "execution_count": 8,
   "id": "1046c7ee-67a7-4516-be09-fb232f2f92d1",
   "metadata": {},
   "outputs": [],
   "source": [
    "# 양품\n",
    "rg3_Y = rg3_Y.drop(columns=[\"PassOrFail\"], axis=1)\n",
    "# 불량\n",
    "rg3_N = rg3_N.drop(columns=[\"PassOrFail\"], axis=1)"
   ]
  },
  {
   "cell_type": "code",
   "execution_count": 9,
   "id": "d2032b24-477d-4a02-87e8-a990aef8fea2",
   "metadata": {},
   "outputs": [],
   "source": [
    "# MinMaxscaler를 통한 데이터 정규화\n",
    "\n",
    "scaler = MinMaxScaler()\n",
    "\n",
    "rg3_Y = scaler.fit_transform(rg3_Y)\n",
    "rg3_N = scaler.fit_transform(rg3_N)"
   ]
  },
  {
   "cell_type": "markdown",
   "id": "8035b2bf-446e-42a9-ba5c-27ec7dc4ef3c",
   "metadata": {},
   "source": [
    "#### 학습/평가 데이터 분리 (6:4 비율)"
   ]
  },
  {
   "cell_type": "code",
   "execution_count": 10,
   "id": "e53f855c-1c20-4c8d-8507-63924a0da65c",
   "metadata": {},
   "outputs": [
    {
     "data": {
      "text/plain": [
       "(1224, 24)"
      ]
     },
     "execution_count": 10,
     "metadata": {},
     "output_type": "execute_result"
    }
   ],
   "source": [
    "rg3_Y.shape"
   ]
  },
  {
   "cell_type": "code",
   "execution_count": 11,
   "id": "20110606-19d5-4e81-baaa-8eba73ca661a",
   "metadata": {},
   "outputs": [
    {
     "name": "stdout",
     "output_type": "stream",
     "text": [
      "rg3 학습 데이터 (양품) 개수: 754\n",
      "rg3 평가 데이터 (양품) 개수: 470\n",
      "rg3 평가 데이터 (불량) 개수: 32\n"
     ]
    }
   ],
   "source": [
    "# 학습 데이터 (양품)\n",
    "rg3_train_Y = rg3_Y[:754]\n",
    "\n",
    "# 평가 데이터 (양품)\n",
    "rg3_test_Y = rg3_Y[754:]\n",
    "\n",
    "# 평가 데이터 (불량)\n",
    "rg3_test_N = rg3_N\n",
    "\n",
    "print(f\"rg3 학습 데이터 (양품) 개수: {len(rg3_train_Y)}\")\n",
    "print(f\"rg3 평가 데이터 (양품) 개수: {len(rg3_test_Y)}\")\n",
    "print(f\"rg3 평가 데이터 (불량) 개수: {len(rg3_test_N)}\")"
   ]
  },
  {
   "cell_type": "markdown",
   "id": "0acdf843-6077-4018-b3ea-423452b90e39",
   "metadata": {},
   "source": [
    "# 3. Variational Autoencoder 모델링"
   ]
  },
  {
   "cell_type": "code",
   "execution_count": 12,
   "id": "8a0c3701-4dc0-4074-83c1-d5ac7310b6f8",
   "metadata": {},
   "outputs": [
    {
     "data": {
      "text/plain": [
       "(754, 24)"
      ]
     },
     "execution_count": 12,
     "metadata": {},
     "output_type": "execute_result"
    }
   ],
   "source": [
    "rg3_train_Y.shape"
   ]
  },
  {
   "cell_type": "code",
   "execution_count": 13,
   "id": "79d4184f-9aa8-4945-9390-3888d7eaa83e",
   "metadata": {},
   "outputs": [],
   "source": [
    "# Autoencoder Class\n",
    "\n",
    "class VariationalAutoEncoder(nn.Module):\n",
    "    def __init__(self):\n",
    "        super(VariationalAutoEncoder, self).__init__()\n",
    "        self.N = torch.distributions.Normal(0, 1)\n",
    "        self.kl = 0\n",
    "        \n",
    "        self.enc = nn.Sequential(\n",
    "            nn.Dropout(0.3),\n",
    "            nn.Linear(rg3_train_Y.shape[1], 15),\n",
    "            nn.ReLU(),\n",
    "            nn.Linear(15, 5),\n",
    "            nn.ReLU(),\n",
    "            nn.Linear(5, 1),\n",
    "        )\n",
    "        \n",
    "        self.dec = nn.Sequential(\n",
    "            nn.Linear(1, 5),\n",
    "            nn.ReLU(),\n",
    "            nn.Linear(5, 15),\n",
    "            nn.ReLU(),\n",
    "            nn.Linear(15, rg3_train_Y.shape[1]),\n",
    "            # nn.ReLU(),\n",
    "        )\n",
    "        \n",
    "    def forward(self, x):\n",
    "        x = self.enc(x)\n",
    "        mu = x\n",
    "        sigma = torch.exp(x)\n",
    "        z = mu + sigma*self.N.sample(mu.shape)\n",
    "        self.kl = (sigma**2 + mu**2 - torch.log(sigma) - 1/2).sum()  # Came from Kullback-Leibler Divergence\n",
    "        return self.dec(z)"
   ]
  },
  {
   "cell_type": "code",
   "execution_count": 14,
   "id": "66eafbcd-ded0-433a-b0a5-5ef30837a3f0",
   "metadata": {},
   "outputs": [],
   "source": [
    "# Training Parameters\n",
    "\n",
    "batch_size = 30\n",
    "lr = 0.001   # learning rate\n",
    "w_d = 1e-4  # weight decay\n",
    "# momentum = 0.9  <- This is for SGD\n",
    "epochs = 30"
   ]
  },
  {
   "cell_type": "code",
   "execution_count": 15,
   "id": "7b2a22c6-d93f-4aa4-8925-6d4858b18bb6",
   "metadata": {},
   "outputs": [],
   "source": [
    "# Loader Preparation\n",
    "\n",
    "class Loader(torch.utils.data.Dataset):\n",
    "    def __init__(self):\n",
    "        super(Loader, self).__init__()\n",
    "        self.dataset = ''\n",
    "        \n",
    "    def __len__(self):\n",
    "        return len(self.dataset)\n",
    "    \n",
    "    def __getitem__(self, idx):\n",
    "        row = self.dataset[idx]\n",
    "        # row = self.dataset.iloc[idx]\n",
    "        data = torch.from_numpy(row).float()\n",
    "        return data\n",
    "    \n",
    "    \n",
    "class rg3DataLoader(Loader):\n",
    "    def __init__(self, data_for_ae):\n",
    "        super(rg3DataLoader, self).__init__()\n",
    "        self.dataset = data_for_ae"
   ]
  },
  {
   "cell_type": "code",
   "execution_count": 16,
   "id": "989b3ad5-f150-43bd-a686-be96ee011f4e",
   "metadata": {},
   "outputs": [],
   "source": [
    "# train/validation sets split\n",
    "\n",
    "rg3_train_Y_t, rg3_train_Y_v = train_test_split(\n",
    "    rg3_train_Y, test_size=0.2, random_state=123\n",
    ")"
   ]
  },
  {
   "cell_type": "code",
   "execution_count": 17,
   "id": "c2e8f854-b246-4f80-94c2-d9b609138349",
   "metadata": {},
   "outputs": [],
   "source": [
    "train_set = rg3DataLoader(rg3_train_Y_t)\n",
    "\n",
    "train_ = DataLoader(\n",
    "    train_set,\n",
    "    batch_size=batch_size,\n",
    "    shuffle=True,\n",
    "    pin_memory=True,\n",
    "    drop_last=True\n",
    ")"
   ]
  },
  {
   "cell_type": "code",
   "execution_count": 18,
   "id": "f6211d56-6b1a-45d7-8d66-29e2961e1655",
   "metadata": {},
   "outputs": [],
   "source": [
    "valid_set = rg3DataLoader(rg3_train_Y_v)\n",
    "\n",
    "valid_ = DataLoader(\n",
    "    valid_set,\n",
    "    batch_size=batch_size,\n",
    "    shuffle=True,\n",
    "    pin_memory=True,\n",
    "    drop_last=True\n",
    ")"
   ]
  },
  {
   "cell_type": "code",
   "execution_count": 19,
   "id": "aaf3e682-d173-413e-b016-527da4fc64b0",
   "metadata": {},
   "outputs": [],
   "source": [
    "metrics = defaultdict(list)\n",
    "device = 'cpu'       #'cuda' if torch.cuda.is_available() else 'cpu'\n",
    "model = VariationalAutoEncoder()\n",
    "model.to(device)\n",
    "criterion = nn.MSELoss()\n",
    "optimizer = torch.optim.Adam(\n",
    "    model.parameters(), lr=lr, weight_decay=w_d\n",
    ")"
   ]
  },
  {
   "cell_type": "code",
   "execution_count": 20,
   "id": "12a51bef-5462-4c0f-ba5d-9bfa0218b172",
   "metadata": {},
   "outputs": [
    {
     "name": "stdout",
     "output_type": "stream",
     "text": [
      "==========================================================================================\n",
      "Layer (type:depth-idx)                   Output Shape              Param #\n",
      "==========================================================================================\n",
      "├─Sequential: 1-1                        [-1, 1]                   --\n",
      "|    └─Dropout: 2-1                      [-1, 24]                  --\n",
      "|    └─Linear: 2-2                       [-1, 15]                  375\n",
      "|    └─ReLU: 2-3                         [-1, 15]                  --\n",
      "|    └─Linear: 2-4                       [-1, 5]                   80\n",
      "|    └─ReLU: 2-5                         [-1, 5]                   --\n",
      "|    └─Linear: 2-6                       [-1, 1]                   6\n",
      "├─Sequential: 1-2                        [-1, 24]                  --\n",
      "|    └─Linear: 2-7                       [-1, 5]                   10\n",
      "|    └─ReLU: 2-8                         [-1, 5]                   --\n",
      "|    └─Linear: 2-9                       [-1, 15]                  90\n",
      "|    └─ReLU: 2-10                        [-1, 15]                  --\n",
      "|    └─Linear: 2-11                      [-1, 24]                  384\n",
      "==========================================================================================\n",
      "Total params: 945\n",
      "Trainable params: 945\n",
      "Non-trainable params: 0\n",
      "Total mult-adds (M): 0.00\n",
      "==========================================================================================\n",
      "Input size (MB): 0.00\n",
      "Forward/backward pass size (MB): 0.00\n",
      "Params size (MB): 0.00\n",
      "Estimated Total Size (MB): 0.00\n",
      "==========================================================================================\n"
     ]
    }
   ],
   "source": [
    "summary(model, (24, ), device='cpu');"
   ]
  },
  {
   "cell_type": "code",
   "execution_count": 21,
   "id": "58b41c8d-be98-448d-908e-2746ac1e5aa2",
   "metadata": {},
   "outputs": [
    {
     "name": "stdout",
     "output_type": "stream",
     "text": [
      "-----------------------------------------------\n",
      "[EPOCH] 5/30\n",
      "[TRAIN LOSS] 0.004116779017211193    [VALID LOSS] 0.0031404250998370697\n",
      "Epoch Complete in 0:00:00.036999\n",
      "-----------------------------------------------\n",
      "[EPOCH] 10/30\n",
      "[TRAIN LOSS] 0.0011601091561774116    [VALID LOSS] 0.000933792195375392\n",
      "Epoch Complete in 0:00:00.038999\n",
      "-----------------------------------------------\n",
      "[EPOCH] 15/30\n",
      "[TRAIN LOSS] 0.0011175092013172843    [VALID LOSS] 0.0009136121004622503\n",
      "Epoch Complete in 0:00:00.040993\n",
      "-----------------------------------------------\n",
      "[EPOCH] 20/30\n",
      "[TRAIN LOSS] 0.0011131837809609734    [VALID LOSS] 0.0009080961914054605\n",
      "Epoch Complete in 0:00:00.036002\n",
      "-----------------------------------------------\n",
      "[EPOCH] 25/30\n",
      "[TRAIN LOSS] 0.0011027723081274018    [VALID LOSS] 0.0009000371426146551\n",
      "Epoch Complete in 0:00:00.038002\n",
      "-----------------------------------------------\n",
      "[EPOCH] 30/30\n",
      "[TRAIN LOSS] 0.0011013729457633808    [VALID LOSS] 0.0008924005195399783\n",
      "Epoch Complete in 0:00:00.036999\n",
      "-----------------------------------------------\n",
      "[System Complete: 0:00:01.167633]\n"
     ]
    }
   ],
   "source": [
    "# VAE Training\n",
    "\n",
    "model.train()\n",
    "start = time.time()\n",
    "for epoch in range(epochs):\n",
    "    ep_start = time.time()\n",
    "    \n",
    "    # Training\n",
    "    running_loss_t = 0.0\n",
    "\n",
    "    for bx, (data) in enumerate(train_):\n",
    "        sample = model(data.to(device))\n",
    "        loss = criterion(data.to(device), sample)\n",
    "        optimizer.zero_grad()\n",
    "        loss.backward()\n",
    "        optimizer.step()\n",
    "        running_loss_t += loss.item()\n",
    "    train_loss = running_loss_t/len(train_set)\n",
    "    metrics['train_loss'].append(train_loss)\n",
    "    \n",
    "    # Validation\n",
    "    model.eval()\n",
    "    running_loss_v = 0.0\n",
    "    with torch.no_grad():\n",
    "        for bx, (data) in enumerate(valid_):\n",
    "            sample = model(data.to(device))\n",
    "            loss = criterion(data.to(device), sample)\n",
    "            accuracy = torch.sum(torch.isclose(data.to(device), sample, rtol=0.1))\n",
    "            running_loss_v += loss.item()\n",
    "    valid_loss = running_loss_v/len(valid_set)\n",
    "    metrics['valid_loss'].append(valid_loss)\n",
    "    \n",
    "    model.train()\n",
    "    \n",
    "    ep_end = time.time()\n",
    "    if (epoch+1) % 5 == 0:\n",
    "        print('-----------------------------------------------')\n",
    "        print('[EPOCH] {}/{}\\n[TRAIN LOSS] {}    [VALID LOSS] {}'.format(epoch+1, epochs, train_loss, valid_loss))\n",
    "        print('Epoch Complete in {}'.format(timedelta(seconds=ep_end-ep_start)))\n",
    "end = time.time()\n",
    "print('-----------------------------------------------')\n",
    "print('[System Complete: {}]'.format(timedelta(seconds=end-start)))"
   ]
  },
  {
   "cell_type": "code",
   "execution_count": 22,
   "id": "63f0b9df-69cb-41e0-a238-aa38190ec59a",
   "metadata": {},
   "outputs": [
    {
     "data": {
      "image/png": "[encoded data removed]",
      "text/plain": [
       "<Figure size 600x400 with 1 Axes>"
      ]
     },
     "metadata": {},
     "output_type": "display_data"
    }
   ],
   "source": [
    "# Loss\n",
    "\n",
    "_, ax = plt.subplots(1, 1, figsize=(6, 4))\n",
    "ax.set_title('Loss')\n",
    "ax.plot(metrics['train_loss'])\n",
    "ax.plot(metrics['valid_loss'])\n",
    "plt.show();"
   ]
  },
  {
   "cell_type": "markdown",
   "id": "7a439320-3074-4e43-b4c8-450c1b4fde4a",
   "metadata": {},
   "source": [
    "# 4. 임계값 정의"
   ]
  },
  {
   "cell_type": "code",
   "execution_count": 23,
   "id": "df6c5e38-55e9-4aec-b3ab-99cd5abe765f",
   "metadata": {},
   "outputs": [],
   "source": [
    "# 학습 데이터의 예측값\n",
    "\n",
    "rg3_train_pred = model(torch.tensor(rg3_train_Y).float())"
   ]
  },
  {
   "cell_type": "code",
   "execution_count": 24,
   "id": "1fc785ca-7db7-43df-88cb-4a9e2e97f008",
   "metadata": {},
   "outputs": [
    {
     "data": {
      "text/plain": [
       "tensor([[0.3534, 0.1942, 0.3464,  ..., 0.6189, 0.4979, 0.4826],\n",
       "        [0.3692, 0.2137, 0.3978,  ..., 0.6258, 0.5046, 0.5224],\n",
       "        [0.3387, 0.1806, 0.3131,  ..., 0.6000, 0.4918, 0.4692],\n",
       "        ...,\n",
       "        [0.3641, 0.2074, 0.3811,  ..., 0.6235, 0.5025, 0.5094],\n",
       "        [0.3568, 0.1984, 0.3576,  ..., 0.6204, 0.4994, 0.4913],\n",
       "        [0.3669, 0.2109, 0.3902,  ..., 0.6247, 0.5036, 0.5165]],\n",
       "       grad_fn=<AddmmBackward0>)"
      ]
     },
     "execution_count": 24,
     "metadata": {},
     "output_type": "execute_result"
    }
   ],
   "source": [
    "rg3_train_pred"
   ]
  },
  {
   "cell_type": "code",
   "execution_count": 25,
   "id": "c2fdddaf-7263-4ef6-8054-70605d3ab662",
   "metadata": {},
   "outputs": [],
   "source": [
    "# 학습 데이터의 복원 오차 (예측값 - 실제값)\n",
    "\n",
    "difference = rg3_train_pred.detach().numpy() - rg3_train_Y\n",
    "\n",
    "rg3_train_loss = np.mean(np.square(difference), axis=1)"
   ]
  },
  {
   "cell_type": "code",
   "execution_count": 26,
   "id": "424b2f43-0ddb-418a-ac9e-677a4331d66e",
   "metadata": {},
   "outputs": [
    {
     "data": {
      "text/plain": [
       "array([0.03588205, 0.03160998, 0.03527046, 0.03717487, 0.03671399,\n",
       "       0.03460239, 0.05523966, 0.04189469, 0.04024196, 0.03889206,\n",
       "       0.03579283, 0.02940084, 0.03791826, 0.03685517, 0.0471064 ,\n",
       "       0.03895479, 0.03341893, 0.03681849, 0.03771325, 0.02699441,\n",
       "       0.02732406, 0.03766098, 0.03903595, 0.03958795, 0.03853575,\n",
       "       0.03708937, 0.03011693, 0.0315561 , 0.04523222, 0.04108854,\n",
       "       0.03553615, 0.05115302, 0.04016508, 0.03357355, 0.03486975,\n",
       "       0.04128739, 0.0390659 , 0.05179907, 0.03638681, 0.04363551,\n",
       "       0.04442417, 0.01859855, 0.02100259, 0.01569772, 0.03867513,\n",
       "       0.02641133, 0.01459494, 0.01167373, 0.02014944, 0.01299715,\n",
       "       0.01326015, 0.03130328, 0.01911121, 0.01268766, 0.00905481,\n",
       "       0.01279258, 0.01885766, 0.01987784, 0.01823995, 0.01383853,\n",
       "       0.02157634, 0.01471104, 0.02163732, 0.01815451, 0.0217821 ,\n",
       "       0.02012136, 0.0202289 , 0.01755587, 0.02986512, 0.02431433,\n",
       "       0.01289571, 0.03940419, 0.02175014, 0.02124032, 0.01819638,\n",
       "       0.01709234, 0.01406171, 0.01930713, 0.02274429, 0.02586231,\n",
       "       0.01643082, 0.03271546, 0.01813774, 0.01276007, 0.0173373 ,\n",
       "       0.01016995, 0.02017864, 0.02523095, 0.01408141, 0.02595793,\n",
       "       0.01815222, 0.01681034, 0.0155749 , 0.025618  , 0.01118677,\n",
       "       0.01565813, 0.01296098, 0.02388012, 0.02321183, 0.01288848,\n",
       "       0.0123935 , 0.01388066, 0.02168441, 0.01463483, 0.02036713,\n",
       "       0.01716109, 0.01852005, 0.01552237, 0.0097285 , 0.01433909,\n",
       "       0.02276821, 0.02195191, 0.02844017, 0.01921842, 0.02382426,\n",
       "       0.01999738, 0.01983496, 0.02218   , 0.01633054, 0.02155389,\n",
       "       0.01560021, 0.01454452, 0.02133038, 0.02636729, 0.02486845,\n",
       "       0.02845469, 0.02434829, 0.01940458, 0.00916741, 0.01551828,\n",
       "       0.01301253, 0.01111374, 0.01502302, 0.01723634, 0.02107669,\n",
       "       0.01281305, 0.01633923, 0.01607143, 0.02182491, 0.01214509,\n",
       "       0.01068291, 0.00959144, 0.01948586, 0.01186003, 0.01513737,\n",
       "       0.02361283, 0.0243556 , 0.03454352, 0.02039884, 0.02055871,\n",
       "       0.01142624, 0.01848813, 0.01498442, 0.01841373, 0.01977074,\n",
       "       0.02044442, 0.02110939, 0.03600752, 0.01522952, 0.02275689,\n",
       "       0.03104339, 0.01993956, 0.02040393, 0.02596976, 0.03150975,\n",
       "       0.02291943, 0.02491452, 0.02002423, 0.01323524, 0.02493003,\n",
       "       0.02475853, 0.01703728, 0.01923004, 0.01064958, 0.0157403 ,\n",
       "       0.01948414, 0.0175891 , 0.02196978, 0.01677706, 0.01861877,\n",
       "       0.02242016, 0.02189858, 0.01973847, 0.02128271, 0.02368368,\n",
       "       0.01714953, 0.01767274, 0.03353757, 0.04178754, 0.01999065,\n",
       "       0.0211867 , 0.03586305, 0.02796394, 0.02806757, 0.02610724,\n",
       "       0.03770614, 0.02110442, 0.02863631, 0.02934704, 0.02577454,\n",
       "       0.03439897, 0.03019785, 0.02603281, 0.03134754, 0.022677  ,\n",
       "       0.01741812, 0.02089428, 0.01706224, 0.02415006, 0.02107873,\n",
       "       0.02681923, 0.02778196, 0.02306318, 0.01904141, 0.01108028,\n",
       "       0.02271905, 0.01785349, 0.0220579 , 0.02230797, 0.02724107,\n",
       "       0.02861686, 0.02057877, 0.01709971, 0.01920328, 0.01504413,\n",
       "       0.01649402, 0.01859021, 0.02244846, 0.0200451 , 0.0423351 ,\n",
       "       0.02016112, 0.01466383, 0.01677641, 0.01758698, 0.0204749 ,\n",
       "       0.0336873 , 0.02414878, 0.01758637, 0.03135876, 0.01641495,\n",
       "       0.01886616, 0.0149419 , 0.03061156, 0.07183861, 0.02507884,\n",
       "       0.03731248, 0.02534222, 0.02669644, 0.02810123, 0.02109585,\n",
       "       0.03688592, 0.0294807 , 0.01537106, 0.01803384, 0.01865827,\n",
       "       0.02679746, 0.02594363, 0.01503152, 0.01360808, 0.0112904 ,\n",
       "       0.01602298, 0.01585392, 0.02667756, 0.0182212 , 0.0313457 ,\n",
       "       0.02869821, 0.02718588, 0.01931954, 0.01792688, 0.02023192,\n",
       "       0.02703392, 0.02653544, 0.02125726, 0.01253585, 0.01955684,\n",
       "       0.03133827, 0.01712476, 0.01679695, 0.01802434, 0.01834308,\n",
       "       0.01977576, 0.0208756 , 0.0268516 , 0.02338557, 0.02765726,\n",
       "       0.01752115, 0.0224769 , 0.01709136, 0.02520823, 0.01476063,\n",
       "       0.02328447, 0.02607343, 0.02475745, 0.01275403, 0.0250615 ,\n",
       "       0.01562361, 0.03053025, 0.0226019 , 0.01930452, 0.02915451,\n",
       "       0.02735938, 0.02620481, 0.02274061, 0.02216393, 0.02538249,\n",
       "       0.01777604, 0.02747925, 0.0243565 , 0.02197642, 0.03220211,\n",
       "       0.0228221 , 0.02596463, 0.02898129, 0.0183901 , 0.02638906,\n",
       "       0.02442617, 0.01717215, 0.02186938, 0.02969938, 0.02437427,\n",
       "       0.01776855, 0.015382  , 0.02569263, 0.02176537, 0.03189535,\n",
       "       0.02301158, 0.03107102, 0.01969104, 0.04285621, 0.07020954,\n",
       "       0.0109619 , 0.02587295, 0.02522043, 0.02618941, 0.03228669,\n",
       "       0.02969927, 0.02882841, 0.03858305, 0.0240404 , 0.02067882,\n",
       "       0.0192817 , 0.05006128, 0.02281894, 0.03646827, 0.04062133,\n",
       "       0.04310342, 0.02981833, 0.02977106, 0.01947396, 0.02312399,\n",
       "       0.03387889, 0.03230528, 0.03780373, 0.04149653, 0.04687919,\n",
       "       0.0297086 , 0.0303278 , 0.03575954, 0.02332172, 0.02295816,\n",
       "       0.02183398, 0.03867673, 0.03839943, 0.03564388, 0.02557342,\n",
       "       0.02697469, 0.02078791, 0.02757368, 0.02618983, 0.01955643,\n",
       "       0.02042867, 0.02276392, 0.01906116, 0.02507431, 0.01655784,\n",
       "       0.02995454, 0.02050821, 0.02576671, 0.02028588, 0.01942216,\n",
       "       0.03176682, 0.03514252, 0.02963916, 0.02598985, 0.01867846,\n",
       "       0.0137514 , 0.01964283, 0.02331516, 0.02470488, 0.02546376,\n",
       "       0.02363085, 0.02544379, 0.01997106, 0.0189156 , 0.0182322 ,\n",
       "       0.01580706, 0.01703674, 0.01801298, 0.01755944, 0.01306034,\n",
       "       0.0210488 , 0.01782431, 0.01394747, 0.05147979, 0.02344152,\n",
       "       0.0174037 , 0.01674152, 0.0116776 , 0.01956417, 0.010924  ,\n",
       "       0.01917054, 0.01317813, 0.01477603, 0.01872742, 0.01570143,\n",
       "       0.03837618, 0.0278693 , 0.01989052, 0.01955981, 0.02398666,\n",
       "       0.02574352, 0.01671302, 0.03768662, 0.03891016, 0.03219656,\n",
       "       0.03985692, 0.04198972, 0.01815062, 0.02878195, 0.02013677,\n",
       "       0.02684254, 0.02628945, 0.0315345 , 0.04278175, 0.02766478,\n",
       "       0.04634811, 0.02401925, 0.03470681, 0.03496165, 0.04689432,\n",
       "       0.04529414, 0.03430886, 0.03433717, 0.05145565, 0.04039518,\n",
       "       0.0220152 , 0.01953762, 0.01863509, 0.05060132, 0.04072177,\n",
       "       0.03915191, 0.04568576, 0.02456597, 0.01858123, 0.02186018,\n",
       "       0.02262327, 0.03892816, 0.02830445, 0.02116997, 0.03817434,\n",
       "       0.02262575, 0.03383394, 0.01563438, 0.02832262, 0.02470417,\n",
       "       0.02739501, 0.03585008, 0.03566815, 0.03984751, 0.02807674,\n",
       "       0.03489653, 0.02936036, 0.04712612, 0.03078746, 0.02791657,\n",
       "       0.02567824, 0.0334773 , 0.05461129, 0.03940859, 0.02853582,\n",
       "       0.02434519, 0.02161958, 0.02364123, 0.02244814, 0.04582573,\n",
       "       0.03946949, 0.04021843, 0.02907106, 0.02241805, 0.03674587,\n",
       "       0.01905733, 0.02042354, 0.0225118 , 0.0232395 , 0.02097385,\n",
       "       0.03411544, 0.0432663 , 0.04249622, 0.08130239, 0.03696863,\n",
       "       0.04030134, 0.04158816, 0.03943816, 0.04689172, 0.04962584,\n",
       "       0.03908247, 0.03357075, 0.03527693, 0.03193293, 0.04883855,\n",
       "       0.04167909, 0.02996412, 0.03173641, 0.02642828, 0.02039574,\n",
       "       0.02291711, 0.0390432 , 0.03950502, 0.05279695, 0.0560146 ,\n",
       "       0.04792592, 0.05659614, 0.03790708, 0.03646444, 0.05090696,\n",
       "       0.03904574, 0.0388681 , 0.04570952, 0.05100791, 0.04768687,\n",
       "       0.04309342, 0.04833828, 0.0503678 , 0.03310312, 0.02402059,\n",
       "       0.03843246, 0.02972548, 0.03525609, 0.0419788 , 0.04255327,\n",
       "       0.02981613, 0.03819365, 0.03108771, 0.02896441, 0.02082836,\n",
       "       0.04424312, 0.05512128, 0.03691411, 0.0408817 , 0.0397068 ,\n",
       "       0.05003235, 0.04981957, 0.03826711, 0.02662296, 0.03002157,\n",
       "       0.04748083, 0.0472703 , 0.04563072, 0.05973744, 0.04195756,\n",
       "       0.03651899, 0.05085866, 0.04069952, 0.04026454, 0.04190141,\n",
       "       0.04663491, 0.03917733, 0.02298384, 0.04913846, 0.04972085,\n",
       "       0.05401321, 0.0474496 , 0.05465719, 0.04571587, 0.02957206,\n",
       "       0.03865608, 0.04772724, 0.05693111, 0.08383593, 0.03463219,\n",
       "       0.0366569 , 0.04772217, 0.04074524, 0.04219534, 0.0414887 ,\n",
       "       0.03879094, 0.05671594, 0.03156006, 0.03364821, 0.05001829,\n",
       "       0.03142131, 0.15889688, 0.18010821, 0.13622178, 0.15466631,\n",
       "       0.15474578, 0.17487248, 0.15064449, 0.1446154 , 0.16349501,\n",
       "       0.13095056, 0.13786464, 0.13958954, 0.18079945, 0.14275533,\n",
       "       0.12863936, 0.15242588, 0.15053757, 0.1669231 , 0.14408794,\n",
       "       0.14364306, 0.10998803, 0.12364259, 0.13111695, 0.13634809,\n",
       "       0.12096922, 0.11105101, 0.11116511, 0.0798081 , 0.09174138,\n",
       "       0.11274321, 0.10078077, 0.08589155, 0.03407404, 0.04009167,\n",
       "       0.03486041, 0.03822427, 0.03676883, 0.03462763, 0.05506584,\n",
       "       0.0415394 , 0.03704734, 0.0365094 , 0.03428687, 0.03043072,\n",
       "       0.03577667, 0.03727634, 0.04772232, 0.0416779 , 0.03538233,\n",
       "       0.04590392, 0.03852285, 0.02695283, 0.02584255, 0.03651346,\n",
       "       0.03860809, 0.03884603, 0.03789667, 0.03725806, 0.03019474,\n",
       "       0.0312322 , 0.04206333, 0.04177295, 0.0347625 , 0.05119993,\n",
       "       0.04160814, 0.03302346, 0.03479093, 0.04081797, 0.03787245,\n",
       "       0.05170919, 0.03716061, 0.05178525, 0.04671434, 0.01656711,\n",
       "       0.02104888, 0.01569076, 0.03861492, 0.02616683, 0.01391647,\n",
       "       0.00977609, 0.01765049, 0.01248299, 0.01229203, 0.02805383,\n",
       "       0.0199171 , 0.01259532, 0.00989044, 0.01282205, 0.01790088,\n",
       "       0.01935796, 0.01772587, 0.01221328, 0.02225069, 0.01498743,\n",
       "       0.02154978, 0.01834372, 0.01933513, 0.01741092, 0.0199026 ,\n",
       "       0.01604289, 0.02336091, 0.03049482, 0.01492868, 0.01798127,\n",
       "       0.01948775, 0.01884806, 0.01697072, 0.01533531, 0.02125608,\n",
       "       0.02202695, 0.02400704, 0.03346763, 0.01829906, 0.01059284,\n",
       "       0.01838397, 0.01734877, 0.03087851, 0.01394327, 0.02532655,\n",
       "       0.01857939, 0.01665979, 0.01799523, 0.0255334 , 0.01171453,\n",
       "       0.01524027, 0.01446189, 0.02505314, 0.0230674 , 0.01188634,\n",
       "       0.01261129, 0.01397309, 0.01471536, 0.02129539, 0.01708063,\n",
       "       0.01996672, 0.01506244, 0.01048368, 0.01479949, 0.0244623 ,\n",
       "       0.02122579, 0.02844937, 0.01901334, 0.02461341, 0.02080889,\n",
       "       0.01952034, 0.02256793, 0.01607127, 0.02154888, 0.01560404,\n",
       "       0.01576191, 0.02609983, 0.023639  , 0.03003437, 0.02356876,\n",
       "       0.01891297, 0.00921396, 0.01515674, 0.01326798, 0.01004084,\n",
       "       0.01909537, 0.01747511, 0.01981445, 0.01226517])"
      ]
     },
     "execution_count": 26,
     "metadata": {},
     "output_type": "execute_result"
    }
   ],
   "source": [
    "rg3_train_loss"
   ]
  },
  {
   "cell_type": "code",
   "execution_count": 27,
   "id": "5fc04274-8886-4f8b-9ba8-c550ad41ac62",
   "metadata": {},
   "outputs": [
    {
     "name": "stdout",
     "output_type": "stream",
     "text": [
      "복원 오류 임계치:  0.18295393350051697\n"
     ]
    }
   ],
   "source": [
    "# 입계치 (6 시그마 사용)\n",
    "\n",
    "threshold = np.mean(rg3_train_loss) + 6*np.std(rg3_train_loss)\n",
    "print(\"복원 오류 임계치: \", threshold)"
   ]
  },
  {
   "cell_type": "markdown",
   "id": "6e674593-3220-409c-82bf-08b3f330cf2e",
   "metadata": {},
   "source": [
    "# 5. 데이터 각각의 예측값과 복원 오차 확인"
   ]
  },
  {
   "cell_type": "markdown",
   "id": "bcb19903-b68f-4fb5-9169-2f1c2f4bde9e",
   "metadata": {},
   "source": [
    "## 5.1. 평가 데이터 (양품) 대상 모델 성능 검증 "
   ]
  },
  {
   "cell_type": "code",
   "execution_count": 28,
   "id": "f13a656e-0223-41e7-8c88-a854000bcb48",
   "metadata": {},
   "outputs": [],
   "source": [
    "# 예측값\n",
    "rg3_predict_Y = model(torch.tensor(rg3_test_Y).float())"
   ]
  },
  {
   "cell_type": "code",
   "execution_count": 29,
   "id": "8a506893-c348-4942-ab36-97131a65b99d",
   "metadata": {},
   "outputs": [
    {
     "data": {
      "text/plain": [
       "tensor([[0.3360, 0.1782, 0.3073,  ..., 0.5962, 0.4906, 0.4673],\n",
       "        [0.3364, 0.1785, 0.3082,  ..., 0.5968, 0.4908, 0.4676],\n",
       "        [0.3422, 0.1837, 0.3206,  ..., 0.6050, 0.4933, 0.4716],\n",
       "        ...,\n",
       "        [0.3391, 0.1809, 0.3139,  ..., 0.6005, 0.4919, 0.4695],\n",
       "        [0.3617, 0.2044, 0.3733,  ..., 0.6225, 0.5014, 0.5035],\n",
       "        [0.3547, 0.1958, 0.3506,  ..., 0.6195, 0.4985, 0.4859]],\n",
       "       grad_fn=<AddmmBackward0>)"
      ]
     },
     "execution_count": 29,
     "metadata": {},
     "output_type": "execute_result"
    }
   ],
   "source": [
    "rg3_predict_Y"
   ]
  },
  {
   "cell_type": "code",
   "execution_count": 30,
   "id": "90ccf779-c4f5-4976-8ba0-e3ed0d014422",
   "metadata": {},
   "outputs": [],
   "source": [
    "# 양품 평가 데이터의 복원 오차 (예측값 - 실제값)\n",
    "\n",
    "rg3_test_Y_mse = np.mean(np.square(rg3_predict_Y.detach().numpy() - rg3_test_Y), axis=1)"
   ]
  },
  {
   "cell_type": "code",
   "execution_count": 31,
   "id": "a712c184-6457-4df3-94d4-a8731585394b",
   "metadata": {},
   "outputs": [
    {
     "data": {
      "text/plain": [
       "array([0.01646226, 0.01492634, 0.01892306, 0.01249373, 0.01245062,\n",
       "       0.00894761, 0.0189208 , 0.01185064, 0.0167303 , 0.02252282,\n",
       "       0.02334234, 0.02687091, 0.02028009, 0.01967495, 0.01409852,\n",
       "       0.02041518, 0.01972596, 0.01956995, 0.04275822, 0.01355299,\n",
       "       0.02392825, 0.02709879, 0.01891681, 0.026028  , 0.03187729,\n",
       "       0.02530072, 0.02190944, 0.01965012, 0.01213418, 0.02494827,\n",
       "       0.0137574 , 0.01493857, 0.0191025 , 0.01520358, 0.01934856,\n",
       "       0.01698432, 0.02062041, 0.017171  , 0.02046155, 0.02049304,\n",
       "       0.02189856, 0.01951838, 0.0217959 , 0.0248451 , 0.01772497,\n",
       "       0.01784149, 0.0403882 , 0.04009935, 0.02189236, 0.0242927 ,\n",
       "       0.03317281, 0.02734443, 0.02730757, 0.02936652, 0.02559205,\n",
       "       0.02108724, 0.03068729, 0.02779648, 0.0218335 , 0.04193645,\n",
       "       0.0288447 , 0.02347374, 0.02189967, 0.02332337, 0.01755595,\n",
       "       0.0201044 , 0.02076482, 0.0268624 , 0.02508881, 0.01523054,\n",
       "       0.0190418 , 0.01091247, 0.02273031, 0.02046287, 0.02230519,\n",
       "       0.0224608 , 0.0315664 , 0.03350285, 0.01986077, 0.01796163,\n",
       "       0.01960796, 0.01569262, 0.01531722, 0.01864419, 0.02782972,\n",
       "       0.02022041, 0.03962067, 0.02002383, 0.01715672, 0.01948226,\n",
       "       0.01839596, 0.03124   , 0.01953243, 0.02639946, 0.03165016,\n",
       "       0.024108  , 0.01537021, 0.01533714, 0.03090028, 0.07168135,\n",
       "       0.02543259, 0.03358967, 0.02536106, 0.03175929, 0.01711503,\n",
       "       0.02718923, 0.03065043, 0.01745801, 0.02895655, 0.01863672,\n",
       "       0.01829371, 0.02661516, 0.02665235, 0.016046  , 0.01565579,\n",
       "       0.01242002, 0.01370571, 0.01422389, 0.02907441, 0.01789409,\n",
       "       0.02645328, 0.02813801, 0.02697331, 0.01542113, 0.01740767,\n",
       "       0.02704129, 0.02824125, 0.02848779, 0.02084488, 0.01216015,\n",
       "       0.02143881, 0.01485463, 0.02351767, 0.02093035, 0.01675694,\n",
       "       0.02037482, 0.01785381, 0.02356218, 0.02499512, 0.02836484,\n",
       "       0.01825899, 0.02545957, 0.01786307, 0.02530225, 0.02308593,\n",
       "       0.0139889 , 0.02479184, 0.0243015 , 0.01118317, 0.02274852,\n",
       "       0.01270981, 0.03062844, 0.02191961, 0.0196581 , 0.02912148,\n",
       "       0.0251937 , 0.0273121 , 0.02094713, 0.02008325, 0.01866909,\n",
       "       0.01753335, 0.02836834, 0.02254961, 0.02187977, 0.03228232,\n",
       "       0.02728621, 0.02996305, 0.01984272, 0.02541625, 0.02488931,\n",
       "       0.01955118, 0.02178976, 0.02664824, 0.02543553, 0.01805429,\n",
       "       0.01491623, 0.02522553, 0.02756996, 0.03296499, 0.02092973,\n",
       "       0.03071052, 0.02124605, 0.03773568, 0.07022047, 0.01120779,\n",
       "       0.03155264, 0.02550861, 0.02494027, 0.03067732, 0.03072621,\n",
       "       0.02740699, 0.03669754, 0.01586834, 0.02082281, 0.01805383,\n",
       "       0.04967829, 0.02216066, 0.04076076, 0.04462358, 0.02845616,\n",
       "       0.02990604, 0.02037097, 0.02103391, 0.0346393 , 0.03234952,\n",
       "       0.03836223, 0.04245735, 0.04684725, 0.03294317, 0.03338555,\n",
       "       0.03385442, 0.02307315, 0.0238529 , 0.02358682, 0.03911865,\n",
       "       0.03767868, 0.02455229, 0.02699852, 0.01901925, 0.0259272 ,\n",
       "       0.02703229, 0.02134259, 0.02299878, 0.02294955, 0.0189721 ,\n",
       "       0.02400131, 0.01917703, 0.03024666, 0.02062443, 0.02878365,\n",
       "       0.01900994, 0.01770316, 0.02851431, 0.02590342, 0.02925891,\n",
       "       0.01876078, 0.01355119, 0.01465491, 0.02315521, 0.02448046,\n",
       "       0.02559489, 0.02264369, 0.02308855, 0.0188444 , 0.0185959 ,\n",
       "       0.01715647, 0.01905818, 0.01642699, 0.01780695, 0.01779921,\n",
       "       0.01423246, 0.0214478 , 0.01780606, 0.01407522, 0.04972072,\n",
       "       0.02097976, 0.01683185, 0.01169247, 0.01933012, 0.01055587,\n",
       "       0.01898981, 0.01448804, 0.01643087, 0.01806137, 0.01691661,\n",
       "       0.03804954, 0.03183216, 0.01978985, 0.01920893, 0.02399305,\n",
       "       0.02975575, 0.01790731, 0.04212639, 0.03813306, 0.03248202,\n",
       "       0.04018329, 0.04151615, 0.01866379, 0.02723008, 0.01795437,\n",
       "       0.02522891, 0.02520688, 0.02960176, 0.04301867, 0.02876715,\n",
       "       0.04461921, 0.02442874, 0.0340045 , 0.03703409, 0.0455941 ,\n",
       "       0.04756352, 0.03480446, 0.03643226, 0.04873419, 0.04079831,\n",
       "       0.02045917, 0.01991181, 0.04865411, 0.04116563, 0.0404003 ,\n",
       "       0.04606797, 0.02464575, 0.017816  , 0.02190052, 0.02271881,\n",
       "       0.0399854 , 0.02848058, 0.03663584, 0.02166645, 0.02188954,\n",
       "       0.03599544, 0.01560015, 0.02905861, 0.02454698, 0.02727301,\n",
       "       0.03578877, 0.03603587, 0.0285602 , 0.04137469, 0.0343066 ,\n",
       "       0.02820596, 0.04782766, 0.03038696, 0.02967949, 0.0247104 ,\n",
       "       0.05437527, 0.03852499, 0.02950195, 0.02465298, 0.02170573,\n",
       "       0.0242447 , 0.04465848, 0.04190802, 0.02920119, 0.02279598,\n",
       "       0.03818657, 0.01886839, 0.02168294, 0.0261419 , 0.02328311,\n",
       "       0.02101945, 0.03192556, 0.04328953, 0.04252075, 0.08320886,\n",
       "       0.03967039, 0.03741307, 0.03830816, 0.0406308 , 0.04752711,\n",
       "       0.04920391, 0.03719196, 0.03533412, 0.03405733, 0.03277912,\n",
       "       0.04922962, 0.04101345, 0.03035607, 0.03095196, 0.02569849,\n",
       "       0.02091869, 0.02471668, 0.03892116, 0.04796344, 0.0396498 ,\n",
       "       0.0570237 , 0.04702888, 0.05580728, 0.03849021, 0.03393346,\n",
       "       0.0502359 , 0.03954253, 0.03740647, 0.04973036, 0.04876692,\n",
       "       0.047676  , 0.04410829, 0.04721896, 0.05222936, 0.03218525,\n",
       "       0.02401949, 0.03926885, 0.02974385, 0.03640635, 0.04219383,\n",
       "       0.04175008, 0.02955583, 0.03644454, 0.03193168, 0.02633595,\n",
       "       0.02079236, 0.04395951, 0.05404601, 0.0374529 , 0.03965698,\n",
       "       0.03961328, 0.05046499, 0.0469073 , 0.03986312, 0.02675219,\n",
       "       0.03168652, 0.04608816, 0.04610969, 0.04866549, 0.05963543,\n",
       "       0.03711508, 0.05248681, 0.0387574 , 0.04099292, 0.0420114 ,\n",
       "       0.04094114, 0.02226758, 0.04811755, 0.0518041 , 0.05400212,\n",
       "       0.04632987, 0.05480155, 0.04629388, 0.03111575, 0.03764813,\n",
       "       0.04630292, 0.05560229, 0.0838547 , 0.03449713, 0.03660166,\n",
       "       0.04797406, 0.04065914, 0.04292343, 0.03976695, 0.03504128,\n",
       "       0.05584942, 0.03266828, 0.03363857, 0.05169804, 0.03133151,\n",
       "       0.23166274, 0.16302462, 0.17708353, 0.15092074, 0.15521116,\n",
       "       0.16031222, 0.16955024, 0.15508565, 0.15529541, 0.16396244,\n",
       "       0.13494739, 0.12537337, 0.13900325, 0.14231245, 0.15386841,\n",
       "       0.14046162, 0.1324613 , 0.15158814, 0.14209849, 0.1678011 ,\n",
       "       0.14148151, 0.14122767, 0.1040797 , 0.10605799, 0.10979465,\n",
       "       0.13217577, 0.13786729, 0.13930809, 0.12523992, 0.11507139,\n",
       "       0.11608702, 0.07805617, 0.09137088, 0.11466263, 0.10775105])"
      ]
     },
     "execution_count": 31,
     "metadata": {},
     "output_type": "execute_result"
    }
   ],
   "source": [
    "rg3_test_Y_mse"
   ]
  },
  {
   "cell_type": "code",
   "execution_count": 32,
   "id": "5e57b830-3e15-4684-bdb7-ef7d5e1af119",
   "metadata": {},
   "outputs": [
    {
     "data": {
      "image/png": "[encoded data removed]",
      "text/plain": [
       "<Figure size 640x480 with 1 Axes>"
      ]
     },
     "metadata": {},
     "output_type": "display_data"
    }
   ],
   "source": [
    "# 시각화\n",
    "\n",
    "plt.hist(rg3_test_Y_mse, bins=50)\n",
    "plt.xlabel(\"test MSE loss\")\n",
    "plt.ylabel(\"No of samples\")\n",
    "plt.vlines(threshold, 0, 800, color=\"red\")\n",
    "plt.show();"
   ]
  },
  {
   "cell_type": "code",
   "execution_count": 33,
   "id": "1bbc188b-403f-4751-a161-ed63f8abc49f",
   "metadata": {},
   "outputs": [
    {
     "name": "stdout",
     "output_type": "stream",
     "text": [
      "불량 개수:  1\n",
      "정확도:  0.997872340425532\n"
     ]
    }
   ],
   "source": [
    "# 불량으로 판단한 데이터 확인\n",
    "\n",
    "rg3_test_Y_anomalies = rg3_test_Y_mse > threshold\n",
    "print(\"불량 개수: \", np.sum(rg3_test_Y_anomalies))\n",
    "print(\"정확도: \", (rg3_test_Y.shape[0]-np.sum(rg3_test_Y_anomalies))/rg3_test_Y.shape[0])"
   ]
  },
  {
   "cell_type": "markdown",
   "id": "055407b1-4ea7-40c4-abca-00580ba44869",
   "metadata": {},
   "source": [
    "## 5.2. 평가 데이터 (불량) 대상 모델 성능 검증 "
   ]
  },
  {
   "cell_type": "code",
   "execution_count": 34,
   "id": "2dd8090b-ff11-4c2e-a7df-d23c4a1af6d3",
   "metadata": {},
   "outputs": [],
   "source": [
    "# 예측값\n",
    "rg3_predict_N = model(torch.tensor(rg3_test_N).float())"
   ]
  },
  {
   "cell_type": "code",
   "execution_count": 35,
   "id": "68f55c1a-f5d9-46a6-ae05-ca0113e3dc1c",
   "metadata": {},
   "outputs": [
    {
     "data": {
      "text/plain": [
       "torch.Size([32, 24])"
      ]
     },
     "execution_count": 35,
     "metadata": {},
     "output_type": "execute_result"
    }
   ],
   "source": [
    "rg3_predict_N.shape"
   ]
  },
  {
   "cell_type": "code",
   "execution_count": 36,
   "id": "ba6c82ea-7d60-4e9f-81d3-a057f8775306",
   "metadata": {},
   "outputs": [],
   "source": [
    "# 불량 평가 데이터의 복원 오차 (예측값 - 실제값)\n",
    "\n",
    "rg3_test_N_mse = np.mean(np.square(rg3_predict_N.detach().numpy() - rg3_test_N), axis=1)"
   ]
  },
  {
   "cell_type": "code",
   "execution_count": 37,
   "id": "afeed421-e263-4552-b750-24405c3fecb1",
   "metadata": {},
   "outputs": [
    {
     "data": {
      "text/plain": [
       "array([0.22439327, 0.24693746, 0.22421394, 0.1360187 , 0.12845818,\n",
       "       0.07275561, 0.04866367, 0.04741368, 0.06642845, 0.07259   ,\n",
       "       0.04847838, 0.04699027, 0.06536054, 0.05276814, 0.04321695,\n",
       "       0.0842239 , 0.0466048 , 0.04016512, 0.06526651, 0.05544568,\n",
       "       0.0743372 , 0.06187663, 0.07237757, 0.04596807, 0.04457966,\n",
       "       0.06258477, 0.04372309, 0.06676735, 0.07454799, 0.07022289,\n",
       "       0.26833798, 0.21839528])"
      ]
     },
     "execution_count": 37,
     "metadata": {},
     "output_type": "execute_result"
    }
   ],
   "source": [
    "rg3_test_N_mse"
   ]
  },
  {
   "cell_type": "code",
   "execution_count": 38,
   "id": "81d6064b-f17e-43cf-a8fc-bbc96900e8af",
   "metadata": {},
   "outputs": [
    {
     "data": {
      "image/png": "[encoded data removed]",
      "text/plain": [
       "<Figure size 640x480 with 1 Axes>"
      ]
     },
     "metadata": {},
     "output_type": "display_data"
    }
   ],
   "source": [
    "# 시각화\n",
    "\n",
    "plt.hist(rg3_test_N_mse, bins=50)\n",
    "plt.xlabel(\"test MSE loss\")\n",
    "plt.ylabel(\"No of samples\")\n",
    "plt.vlines(threshold, 0, 5, color=\"red\")\n",
    "plt.show();"
   ]
  },
  {
   "cell_type": "code",
   "execution_count": 39,
   "id": "695fe8ac-cdda-4b8b-b41a-649f41993637",
   "metadata": {},
   "outputs": [
    {
     "name": "stdout",
     "output_type": "stream",
     "text": [
      "불량 개수:  5\n",
      "정확도:  0.15625\n"
     ]
    }
   ],
   "source": [
    "# 불량으로 판단한 데이터 확인\n",
    "\n",
    "rg3_test_N_anomalies = rg3_test_N_mse > threshold\n",
    "print(\"불량 개수: \", np.sum(rg3_test_N_anomalies))\n",
    "print(\"정확도: \", np.sum(rg3_test_N_anomalies)/rg3_test_N.shape[0])"
   ]
  },
  {
   "cell_type": "markdown",
   "id": "d950e685-039b-415c-95e4-cccf396de964",
   "metadata": {},
   "source": [
    "# 6. 결과 분석"
   ]
  },
  {
   "cell_type": "code",
   "execution_count": 40,
   "id": "9068d6e4-eda8-464f-8f6d-ff38bd2cad87",
   "metadata": {},
   "outputs": [],
   "source": [
    "# 평가 데이터의 실제값\n",
    "\n",
    "rg3_true = np.concatenate(\n",
    "    [np.zeros(len(rg3_test_Y_anomalies)), np.ones(len(rg3_test_N_anomalies))]\n",
    ")"
   ]
  },
  {
   "cell_type": "code",
   "execution_count": 41,
   "id": "b3d1d971-bce1-4425-853f-2b6ec9d41b26",
   "metadata": {},
   "outputs": [
    {
     "data": {
      "text/plain": [
       "array([0., 0., 0., 0., 0., 0., 0., 0., 0., 0., 0., 0., 0., 0., 0., 0., 0.,\n",
       "       0., 0., 0., 0., 0., 0., 0., 0., 0., 0., 0., 0., 0., 0., 0., 0., 0.,\n",
       "       0., 0., 0., 0., 0., 0., 0., 0., 0., 0., 0., 0., 0., 0., 0., 0., 0.,\n",
       "       0., 0., 0., 0., 0., 0., 0., 0., 0., 0., 0., 0., 0., 0., 0., 0., 0.,\n",
       "       0., 0., 0., 0., 0., 0., 0., 0., 0., 0., 0., 0., 0., 0., 0., 0., 0.,\n",
       "       0., 0., 0., 0., 0., 0., 0., 0., 0., 0., 0., 0., 0., 0., 0., 0., 0.,\n",
       "       0., 0., 0., 0., 0., 0., 0., 0., 0., 0., 0., 0., 0., 0., 0., 0., 0.,\n",
       "       0., 0., 0., 0., 0., 0., 0., 0., 0., 0., 0., 0., 0., 0., 0., 0., 0.,\n",
       "       0., 0., 0., 0., 0., 0., 0., 0., 0., 0., 0., 0., 0., 0., 0., 0., 0.,\n",
       "       0., 0., 0., 0., 0., 0., 0., 0., 0., 0., 0., 0., 0., 0., 0., 0., 0.,\n",
       "       0., 0., 0., 0., 0., 0., 0., 0., 0., 0., 0., 0., 0., 0., 0., 0., 0.,\n",
       "       0., 0., 0., 0., 0., 0., 0., 0., 0., 0., 0., 0., 0., 0., 0., 0., 0.,\n",
       "       0., 0., 0., 0., 0., 0., 0., 0., 0., 0., 0., 0., 0., 0., 0., 0., 0.,\n",
       "       0., 0., 0., 0., 0., 0., 0., 0., 0., 0., 0., 0., 0., 0., 0., 0., 0.,\n",
       "       0., 0., 0., 0., 0., 0., 0., 0., 0., 0., 0., 0., 0., 0., 0., 0., 0.,\n",
       "       0., 0., 0., 0., 0., 0., 0., 0., 0., 0., 0., 0., 0., 0., 0., 0., 0.,\n",
       "       0., 0., 0., 0., 0., 0., 0., 0., 0., 0., 0., 0., 0., 0., 0., 0., 0.,\n",
       "       0., 0., 0., 0., 0., 0., 0., 0., 0., 0., 0., 0., 0., 0., 0., 0., 0.,\n",
       "       0., 0., 0., 0., 0., 0., 0., 0., 0., 0., 0., 0., 0., 0., 0., 0., 0.,\n",
       "       0., 0., 0., 0., 0., 0., 0., 0., 0., 0., 0., 0., 0., 0., 0., 0., 0.,\n",
       "       0., 0., 0., 0., 0., 0., 0., 0., 0., 0., 0., 0., 0., 0., 0., 0., 0.,\n",
       "       0., 0., 0., 0., 0., 0., 0., 0., 0., 0., 0., 0., 0., 0., 0., 0., 0.,\n",
       "       0., 0., 0., 0., 0., 0., 0., 0., 0., 0., 0., 0., 0., 0., 0., 0., 0.,\n",
       "       0., 0., 0., 0., 0., 0., 0., 0., 0., 0., 0., 0., 0., 0., 0., 0., 0.,\n",
       "       0., 0., 0., 0., 0., 0., 0., 0., 0., 0., 0., 0., 0., 0., 0., 0., 0.,\n",
       "       0., 0., 0., 0., 0., 0., 0., 0., 0., 0., 0., 0., 0., 0., 0., 0., 0.,\n",
       "       0., 0., 0., 0., 0., 0., 0., 0., 0., 0., 0., 0., 0., 0., 0., 0., 0.,\n",
       "       0., 0., 0., 0., 0., 0., 0., 0., 0., 0., 0., 1., 1., 1., 1., 1., 1.,\n",
       "       1., 1., 1., 1., 1., 1., 1., 1., 1., 1., 1., 1., 1., 1., 1., 1., 1.,\n",
       "       1., 1., 1., 1., 1., 1., 1., 1., 1.])"
      ]
     },
     "execution_count": 41,
     "metadata": {},
     "output_type": "execute_result"
    }
   ],
   "source": [
    "rg3_true"
   ]
  },
  {
   "cell_type": "code",
   "execution_count": 42,
   "id": "0130a09a-8455-4d42-884b-ae31fbb4e326",
   "metadata": {},
   "outputs": [],
   "source": [
    "# 평가 데이터의 예측값\n",
    "\n",
    "rg3_prediction = np.concatenate(\n",
    "    [rg3_test_Y_anomalies, rg3_test_N_anomalies]\n",
    ")"
   ]
  },
  {
   "cell_type": "code",
   "execution_count": 43,
   "id": "5d65637d-b14f-4dbc-85ae-1b02a6b56c18",
   "metadata": {},
   "outputs": [
    {
     "data": {
      "text/plain": [
       "array([False, False, False, False, False, False, False, False, False,\n",
       "       False, False, False, False, False, False, False, False, False,\n",
       "       False, False, False, False, False, False, False, False, False,\n",
       "       False, False, False, False, False, False, False, False, False,\n",
       "       False, False, False, False, False, False, False, False, False,\n",
       "       False, False, False, False, False, False, False, False, False,\n",
       "       False, False, False, False, False, False, False, False, False,\n",
       "       False, False, False, False, False, False, False, False, False,\n",
       "       False, False, False, False, False, False, False, False, False,\n",
       "       False, False, False, False, False, False, False, False, False,\n",
       "       False, False, False, False, False, False, False, False, False,\n",
       "       False, False, False, False, False, False, False, False, False,\n",
       "       False, False, False, False, False, False, False, False, False,\n",
       "       False, False, False, False, False, False, False, False, False,\n",
       "       False, False, False, False, False, False, False, False, False,\n",
       "       False, False, False, False, False, False, False, False, False,\n",
       "       False, False, False, False, False, False, False, False, False,\n",
       "       False, False, False, False, False, False, False, False, False,\n",
       "       False, False, False, False, False, False, False, False, False,\n",
       "       False, False, False, False, False, False, False, False, False,\n",
       "       False, False, False, False, False, False, False, False, False,\n",
       "       False, False, False, False, False, False, False, False, False,\n",
       "       False, False, False, False, False, False, False, False, False,\n",
       "       False, False, False, False, False, False, False, False, False,\n",
       "       False, False, False, False, False, False, False, False, False,\n",
       "       False, False, False, False, False, False, False, False, False,\n",
       "       False, False, False, False, False, False, False, False, False,\n",
       "       False, False, False, False, False, False, False, False, False,\n",
       "       False, False, False, False, False, False, False, False, False,\n",
       "       False, False, False, False, False, False, False, False, False,\n",
       "       False, False, False, False, False, False, False, False, False,\n",
       "       False, False, False, False, False, False, False, False, False,\n",
       "       False, False, False, False, False, False, False, False, False,\n",
       "       False, False, False, False, False, False, False, False, False,\n",
       "       False, False, False, False, False, False, False, False, False,\n",
       "       False, False, False, False, False, False, False, False, False,\n",
       "       False, False, False, False, False, False, False, False, False,\n",
       "       False, False, False, False, False, False, False, False, False,\n",
       "       False, False, False, False, False, False, False, False, False,\n",
       "       False, False, False, False, False, False, False, False, False,\n",
       "       False, False, False, False, False, False, False, False, False,\n",
       "       False, False, False, False, False, False, False, False, False,\n",
       "       False, False, False, False, False, False, False, False, False,\n",
       "       False, False, False, False, False, False, False, False, False,\n",
       "       False, False, False, False, False, False, False, False, False,\n",
       "       False, False, False, False, False, False, False, False, False,\n",
       "       False, False, False, False, False, False, False, False, False,\n",
       "       False, False, False, False, False, False, False, False, False,\n",
       "       False, False, False,  True, False, False, False, False, False,\n",
       "       False, False, False, False, False, False, False, False, False,\n",
       "       False, False, False, False, False, False, False, False, False,\n",
       "       False, False, False, False, False, False, False, False, False,\n",
       "       False, False,  True,  True,  True, False, False, False, False,\n",
       "       False, False, False, False, False, False, False, False, False,\n",
       "       False, False, False, False, False, False, False, False, False,\n",
       "       False, False, False, False, False,  True,  True])"
      ]
     },
     "execution_count": 43,
     "metadata": {},
     "output_type": "execute_result"
    }
   ],
   "source": [
    "rg3_prediction"
   ]
  },
  {
   "cell_type": "code",
   "execution_count": 44,
   "id": "09bf7653-cf80-414b-936c-16282d427e8a",
   "metadata": {},
   "outputs": [
    {
     "data": {
      "text/plain": [
       "array([[469,   1],\n",
       "       [ 27,   5]], dtype=int64)"
      ]
     },
     "execution_count": 44,
     "metadata": {},
     "output_type": "execute_result"
    }
   ],
   "source": [
    "confusion_matrix(rg3_true, rg3_prediction)"
   ]
  },
  {
   "cell_type": "code",
   "execution_count": 45,
   "id": "cff3821f-1959-42d7-96d1-2b7c4d727726",
   "metadata": {},
   "outputs": [
    {
     "name": "stdout",
     "output_type": "stream",
     "text": [
      "              precision    recall  f1-score   support\n",
      "\n",
      "         0.0       0.95      1.00      0.97       470\n",
      "         1.0       0.83      0.16      0.26        32\n",
      "\n",
      "    accuracy                           0.94       502\n",
      "   macro avg       0.89      0.58      0.62       502\n",
      "weighted avg       0.94      0.94      0.93       502\n",
      "\n"
     ]
    }
   ],
   "source": [
    "print(classification_report(rg3_true, rg3_prediction))"
   ]
  },
  {
   "cell_type": "code",
   "execution_count": null,
   "id": "d683b801-965e-439d-85c8-a8a037a6a5d3",
   "metadata": {},
   "outputs": [],
   "source": []
  }
 ],
 "metadata": {
  "kernelspec": {
   "display_name": "Python [conda env:ls_env]",
   "language": "python",
   "name": "conda-env-ls_env-py"
  },
  "language_info": {
   "codemirror_mode": {
    "name": "ipython",
    "version": 3
   },
   "file_extension": ".py",
   "mimetype": "text/x-python",
   "name": "python",
   "nbconvert_exporter": "python",
   "pygments_lexer": "ipython3",
   "version": "3.10.8"
  }
 },
 "nbformat": 4,
 "nbformat_minor": 5
}
