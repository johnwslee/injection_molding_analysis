{
 "cells": [
  {
   "cell_type": "markdown",
   "id": "bfeabc3c-3ebe-4c8f-85ad-e3c058209de0",
   "metadata": {},
   "source": [
    "# 0. Imports"
   ]
  },
  {
   "cell_type": "code",
   "execution_count": 1,
   "id": "97be1e08-f742-4664-9aae-cd34068183dc",
   "metadata": {},
   "outputs": [
    {
     "data": {
      "text/plain": [
       "<torch._C.Generator at 0x278b95607b0>"
      ]
     },
     "execution_count": 1,
     "metadata": {},
     "output_type": "execute_result"
    }
   ],
   "source": [
    "import pandas as pd\n",
    "import numpy as np\n",
    "import matplotlib.pyplot as plt\n",
    "import seaborn as sns\n",
    "\n",
    "from collections import defaultdict\n",
    "import time\n",
    "from datetime import timedelta\n",
    "\n",
    "from sklearn.preprocessing import MinMaxScaler\n",
    "from sklearn.model_selection import train_test_split\n",
    "from sklearn.metrics import confusion_matrix, classification_report\n",
    "\n",
    "import torch\n",
    "import torch.nn as nn\n",
    "from torchsummary import summary\n",
    "from torch.utils.data import DataLoader\n",
    "torch.manual_seed(123)"
   ]
  },
  {
   "cell_type": "code",
   "execution_count": 2,
   "id": "a7a9ab4d-8b7f-4cc6-ab1c-0a8f751a5a1d",
   "metadata": {},
   "outputs": [],
   "source": [
    "# 한글 깨짐 문제 해결용\n",
    "from matplotlib import font_manager, rc\n",
    "plt.rcParams[\"axes.unicode_minus\"] = False\n",
    "path = \"C:\\Windows\\Fonts\\H2GTRM.TTF\"\n",
    "font_name = font_manager.FontProperties(fname=path).get_name()\n",
    "rc(\"font\", family=font_name)"
   ]
  },
  {
   "cell_type": "markdown",
   "id": "6749c29f-62cb-4c13-96a5-980a90d12888",
   "metadata": {},
   "source": [
    "# 1. Data"
   ]
  },
  {
   "cell_type": "code",
   "execution_count": 3,
   "id": "11d01b97-0d88-470d-b99a-72626c8b3e34",
   "metadata": {},
   "outputs": [],
   "source": [
    "rg3 = pd.read_csv(\"data/processed/labeled_data_KAMP_rg3_1.csv\", parse_dates=True)"
   ]
  },
  {
   "cell_type": "code",
   "execution_count": 4,
   "id": "0ffc6350-b5b1-4bc6-9ee3-e9c15362bb36",
   "metadata": {},
   "outputs": [
    {
     "name": "stdout",
     "output_type": "stream",
     "text": [
      "<class 'pandas.core.frame.DataFrame'>\n",
      "RangeIndex: 1256 entries, 0 to 1255\n",
      "Data columns (total 25 columns):\n",
      " #   Column                    Non-Null Count  Dtype  \n",
      "---  ------                    --------------  -----  \n",
      " 0   PassOrFail                1256 non-null   int64  \n",
      " 1   Injection_Time            1256 non-null   float64\n",
      " 2   Filling_Time              1256 non-null   float64\n",
      " 3   Plasticizing_Time         1256 non-null   float64\n",
      " 4   Cycle_Time                1256 non-null   float64\n",
      " 5   Clamp_Close_Time          1256 non-null   float64\n",
      " 6   Cushion_Position          1256 non-null   float64\n",
      " 7   Switch_Over_Position      1256 non-null   float64\n",
      " 8   Plasticizing_Position     1256 non-null   float64\n",
      " 9   Max_Injection_Speed       1256 non-null   float64\n",
      " 10  Max_Screw_RPM             1256 non-null   float64\n",
      " 11  Average_Screw_RPM         1256 non-null   float64\n",
      " 12  Max_Injection_Pressure    1256 non-null   float64\n",
      " 13  Max_Switch_Over_Pressure  1256 non-null   float64\n",
      " 14  Max_Back_Pressure         1256 non-null   float64\n",
      " 15  Average_Back_Pressure     1256 non-null   float64\n",
      " 16  Barrel_Temperature_1      1256 non-null   float64\n",
      " 17  Barrel_Temperature_2      1256 non-null   float64\n",
      " 18  Barrel_Temperature_3      1256 non-null   float64\n",
      " 19  Barrel_Temperature_4      1256 non-null   float64\n",
      " 20  Barrel_Temperature_5      1256 non-null   float64\n",
      " 21  Barrel_Temperature_6      1256 non-null   float64\n",
      " 22  Hopper_Temperature        1256 non-null   float64\n",
      " 23  Mold_Temperature_3        1256 non-null   float64\n",
      " 24  Mold_Temperature_4        1256 non-null   float64\n",
      "dtypes: float64(24), int64(1)\n",
      "memory usage: 245.4 KB\n"
     ]
    }
   ],
   "source": [
    "rg3.info()"
   ]
  },
  {
   "cell_type": "markdown",
   "id": "d476ba58-0785-4370-b416-c80dfc0cad52",
   "metadata": {},
   "source": [
    "# 2. 학습/평가 데이터 분리를 위한 데이터 전처리"
   ]
  },
  {
   "cell_type": "code",
   "execution_count": 5,
   "id": "237d04da-6711-4dac-a72d-4038b3a97b6b",
   "metadata": {},
   "outputs": [
    {
     "data": {
      "text/plain": [
       "0    1224\n",
       "1      32\n",
       "Name: PassOrFail, dtype: int64"
      ]
     },
     "execution_count": 5,
     "metadata": {},
     "output_type": "execute_result"
    }
   ],
   "source": [
    "rg3[\"PassOrFail\"].value_counts()"
   ]
  },
  {
   "cell_type": "code",
   "execution_count": 6,
   "id": "7509fb43-d58a-4dda-afec-5c702ff26081",
   "metadata": {},
   "outputs": [
    {
     "name": "stdout",
     "output_type": "stream",
     "text": [
      "rg3의 양품 개수: 1224\n"
     ]
    }
   ],
   "source": [
    "# 양품\n",
    "rg3_Y = rg3[rg3[\"PassOrFail\"] == 0]\n",
    "print(\"rg3의 양품 개수:\", len(rg3_Y))"
   ]
  },
  {
   "cell_type": "code",
   "execution_count": 7,
   "id": "0ac9183e-d9b0-4380-a2c7-19126573a000",
   "metadata": {},
   "outputs": [
    {
     "name": "stdout",
     "output_type": "stream",
     "text": [
      "rg3의 불량 개수: 32\n"
     ]
    }
   ],
   "source": [
    "# 불량\n",
    "rg3_N = rg3[rg3[\"PassOrFail\"] == 1]\n",
    "print(\"rg3의 불량 개수:\", len(rg3_N))"
   ]
  },
  {
   "cell_type": "markdown",
   "id": "1593a4e4-887f-4b8a-b010-9a6d6634126c",
   "metadata": {},
   "source": [
    "**잡음 제거 오토인코더 모델에 학습시킬 데이터의 형태는 클래스 변수가 없어야 하므로 변수 \"PassOrFail\"을 제거함"
   ]
  },
  {
   "cell_type": "code",
   "execution_count": 8,
   "id": "1046c7ee-67a7-4516-be09-fb232f2f92d1",
   "metadata": {},
   "outputs": [],
   "source": [
    "# 양품\n",
    "rg3_Y = rg3_Y.drop(columns=[\"PassOrFail\"], axis=1)\n",
    "# 불량\n",
    "rg3_N = rg3_N.drop(columns=[\"PassOrFail\"], axis=1)"
   ]
  },
  {
   "cell_type": "code",
   "execution_count": 9,
   "id": "d2032b24-477d-4a02-87e8-a990aef8fea2",
   "metadata": {},
   "outputs": [],
   "source": [
    "# MinMaxscaler를 통한 데이터 정규화\n",
    "\n",
    "scaler = MinMaxScaler()\n",
    "\n",
    "rg3_Y = scaler.fit_transform(rg3_Y)\n",
    "rg3_N = scaler.fit_transform(rg3_N)"
   ]
  },
  {
   "cell_type": "markdown",
   "id": "8035b2bf-446e-42a9-ba5c-27ec7dc4ef3c",
   "metadata": {},
   "source": [
    "#### 학습/평가 데이터 분리 (6:4 비율)"
   ]
  },
  {
   "cell_type": "code",
   "execution_count": 10,
   "id": "e53f855c-1c20-4c8d-8507-63924a0da65c",
   "metadata": {},
   "outputs": [
    {
     "data": {
      "text/plain": [
       "(1224, 24)"
      ]
     },
     "execution_count": 10,
     "metadata": {},
     "output_type": "execute_result"
    }
   ],
   "source": [
    "rg3_Y.shape"
   ]
  },
  {
   "cell_type": "code",
   "execution_count": 11,
   "id": "20110606-19d5-4e81-baaa-8eba73ca661a",
   "metadata": {},
   "outputs": [
    {
     "name": "stdout",
     "output_type": "stream",
     "text": [
      "rg3 학습 데이터 (양품) 개수: 754\n",
      "rg3 평가 데이터 (양품) 개수: 470\n",
      "rg3 평가 데이터 (불량) 개수: 32\n"
     ]
    }
   ],
   "source": [
    "# 학습 데이터 (양품)\n",
    "rg3_train_Y = rg3_Y[:754]\n",
    "\n",
    "# 평가 데이터 (양품)\n",
    "rg3_test_Y = rg3_Y[754:]\n",
    "\n",
    "# 평가 데이터 (불량)\n",
    "rg3_test_N = rg3_N\n",
    "\n",
    "print(f\"rg3 학습 데이터 (양품) 개수: {len(rg3_train_Y)}\")\n",
    "print(f\"rg3 평가 데이터 (양품) 개수: {len(rg3_test_Y)}\")\n",
    "print(f\"rg3 평가 데이터 (불량) 개수: {len(rg3_test_N)}\")"
   ]
  },
  {
   "cell_type": "markdown",
   "id": "0acdf843-6077-4018-b3ea-423452b90e39",
   "metadata": {},
   "source": [
    "# 3. Autoencoder 모델링"
   ]
  },
  {
   "cell_type": "code",
   "execution_count": 12,
   "id": "8a0c3701-4dc0-4074-83c1-d5ac7310b6f8",
   "metadata": {},
   "outputs": [
    {
     "data": {
      "text/plain": [
       "(754, 24)"
      ]
     },
     "execution_count": 12,
     "metadata": {},
     "output_type": "execute_result"
    }
   ],
   "source": [
    "rg3_train_Y.shape"
   ]
  },
  {
   "cell_type": "code",
   "execution_count": 13,
   "id": "79d4184f-9aa8-4945-9390-3888d7eaa83e",
   "metadata": {},
   "outputs": [],
   "source": [
    "# Autoencoder Class\n",
    "\n",
    "class AE(nn.Module):\n",
    "    def __init__(self):\n",
    "        super(AE, self).__init__()\n",
    "        \n",
    "        self.enc = nn.Sequential(\n",
    "            nn.Dropout(0.3),\n",
    "            nn.Linear(rg3_train_Y.shape[1], 15),\n",
    "            nn.ReLU(),\n",
    "            nn.Linear(15, 5),\n",
    "            nn.ReLU(),\n",
    "        )\n",
    "        \n",
    "        self.dec = nn.Sequential(\n",
    "            nn.Linear(5, 15),\n",
    "            nn.ReLU(),\n",
    "            nn.Linear(15, rg3_train_Y.shape[1]),\n",
    "            nn.ReLU(),\n",
    "        )\n",
    "        \n",
    "    def forward(self, x):\n",
    "        encode = self.enc(x)\n",
    "        decode = self.dec(encode)\n",
    "        return decode"
   ]
  },
  {
   "cell_type": "code",
   "execution_count": 14,
   "id": "66eafbcd-ded0-433a-b0a5-5ef30837a3f0",
   "metadata": {},
   "outputs": [],
   "source": [
    "# Training Parameters\n",
    "\n",
    "batch_size = 30\n",
    "lr = 0.01   # learning rate\n",
    "w_d = 1e-4  # weight decay\n",
    "# momentum = 0.9  <- This is for SGD\n",
    "epochs = 30"
   ]
  },
  {
   "cell_type": "code",
   "execution_count": 15,
   "id": "7b2a22c6-d93f-4aa4-8925-6d4858b18bb6",
   "metadata": {},
   "outputs": [],
   "source": [
    "# Loader Preparation\n",
    "\n",
    "class Loader(torch.utils.data.Dataset):\n",
    "    def __init__(self):\n",
    "        super(Loader, self).__init__()\n",
    "        self.dataset = ''\n",
    "        \n",
    "    def __len__(self):\n",
    "        return len(self.dataset)\n",
    "    \n",
    "    def __getitem__(self, idx):\n",
    "        row = self.dataset[idx]\n",
    "        # row = self.dataset.iloc[idx]\n",
    "        data = torch.from_numpy(row).float()\n",
    "        return data\n",
    "    \n",
    "    \n",
    "class rg3DataLoader(Loader):\n",
    "    def __init__(self, data_for_ae):\n",
    "        super(rg3DataLoader, self).__init__()\n",
    "        self.dataset = data_for_ae"
   ]
  },
  {
   "cell_type": "code",
   "execution_count": 16,
   "id": "989b3ad5-f150-43bd-a686-be96ee011f4e",
   "metadata": {},
   "outputs": [],
   "source": [
    "# train/validation sets split\n",
    "\n",
    "rg3_train_Y_t, rg3_train_Y_v = train_test_split(\n",
    "    rg3_train_Y, test_size=0.2, random_state=123\n",
    ")"
   ]
  },
  {
   "cell_type": "code",
   "execution_count": 17,
   "id": "c2e8f854-b246-4f80-94c2-d9b609138349",
   "metadata": {},
   "outputs": [],
   "source": [
    "train_set = rg3DataLoader(rg3_train_Y_t)\n",
    "\n",
    "train_ = DataLoader(\n",
    "    train_set,\n",
    "    batch_size=batch_size,\n",
    "    shuffle=True,\n",
    "    pin_memory=True,\n",
    "    drop_last=True\n",
    ")"
   ]
  },
  {
   "cell_type": "code",
   "execution_count": 18,
   "id": "f6211d56-6b1a-45d7-8d66-29e2961e1655",
   "metadata": {},
   "outputs": [],
   "source": [
    "valid_set = rg3DataLoader(rg3_train_Y_v)\n",
    "\n",
    "valid_ = DataLoader(\n",
    "    valid_set,\n",
    "    batch_size=batch_size,\n",
    "    shuffle=True,\n",
    "    pin_memory=True,\n",
    "    drop_last=True\n",
    ")"
   ]
  },
  {
   "cell_type": "code",
   "execution_count": 19,
   "id": "aaf3e682-d173-413e-b016-527da4fc64b0",
   "metadata": {},
   "outputs": [],
   "source": [
    "metrics = defaultdict(list)\n",
    "device = 'cpu'       #'cuda' if torch.cuda.is_available() else 'cpu'\n",
    "model = AE()\n",
    "model.to(device)\n",
    "criterion = nn.MSELoss()\n",
    "optimizer = torch.optim.Adam(\n",
    "    model.parameters(), lr=lr, weight_decay=w_d\n",
    ")"
   ]
  },
  {
   "cell_type": "code",
   "execution_count": 20,
   "id": "12a51bef-5462-4c0f-ba5d-9bfa0218b172",
   "metadata": {},
   "outputs": [
    {
     "name": "stdout",
     "output_type": "stream",
     "text": [
      "==========================================================================================\n",
      "Layer (type:depth-idx)                   Output Shape              Param #\n",
      "==========================================================================================\n",
      "├─Sequential: 1-1                        [-1, 5]                   --\n",
      "|    └─Dropout: 2-1                      [-1, 24]                  --\n",
      "|    └─Linear: 2-2                       [-1, 15]                  375\n",
      "|    └─ReLU: 2-3                         [-1, 15]                  --\n",
      "|    └─Linear: 2-4                       [-1, 5]                   80\n",
      "|    └─ReLU: 2-5                         [-1, 5]                   --\n",
      "├─Sequential: 1-2                        [-1, 24]                  --\n",
      "|    └─Linear: 2-6                       [-1, 15]                  90\n",
      "|    └─ReLU: 2-7                         [-1, 15]                  --\n",
      "|    └─Linear: 2-8                       [-1, 24]                  384\n",
      "|    └─ReLU: 2-9                         [-1, 24]                  --\n",
      "==========================================================================================\n",
      "Total params: 929\n",
      "Trainable params: 929\n",
      "Non-trainable params: 0\n",
      "Total mult-adds (M): 0.00\n",
      "==========================================================================================\n",
      "Input size (MB): 0.00\n",
      "Forward/backward pass size (MB): 0.00\n",
      "Params size (MB): 0.00\n",
      "Estimated Total Size (MB): 0.00\n",
      "==========================================================================================\n"
     ]
    }
   ],
   "source": [
    "summary(model, (24, ), device='cpu');"
   ]
  },
  {
   "cell_type": "code",
   "execution_count": 21,
   "id": "58b41c8d-be98-448d-908e-2746ac1e5aa2",
   "metadata": {},
   "outputs": [
    {
     "name": "stdout",
     "output_type": "stream",
     "text": [
      "-----------------------------------------------\n",
      "[EPOCH] 5/30\n",
      "[TRAIN LOSS] 0.0007980760977685352    [VALID LOSS] 0.0006160649736196\n",
      "Epoch Complete in 0:00:00.026992\n",
      "-----------------------------------------------\n",
      "[EPOCH] 10/30\n",
      "[TRAIN LOSS] 0.0007289670203900456    [VALID LOSS] 0.000556725761945674\n",
      "Epoch Complete in 0:00:00.031999\n",
      "-----------------------------------------------\n",
      "[EPOCH] 15/30\n",
      "[TRAIN LOSS] 0.0007149609142472693    [VALID LOSS] 0.0005445497677914354\n",
      "Epoch Complete in 0:00:00.029000\n",
      "-----------------------------------------------\n",
      "[EPOCH] 20/30\n",
      "[TRAIN LOSS] 0.0006942640817036874    [VALID LOSS] 0.0005384555135835086\n",
      "Epoch Complete in 0:00:00.028975\n",
      "-----------------------------------------------\n",
      "[EPOCH] 25/30\n",
      "[TRAIN LOSS] 0.0006732771861958464    [VALID LOSS] 0.0005193966323670172\n",
      "Epoch Complete in 0:00:00.031038\n",
      "-----------------------------------------------\n",
      "[EPOCH] 30/30\n",
      "[TRAIN LOSS] 0.0006716025106695358    [VALID LOSS] 0.0004955360554898811\n",
      "Epoch Complete in 0:00:00.027977\n",
      "-----------------------------------------------\n",
      "[System Complete: 0:00:00.899001]\n"
     ]
    }
   ],
   "source": [
    "# AE Training\n",
    "\n",
    "model.train()\n",
    "start = time.time()\n",
    "for epoch in range(epochs):\n",
    "    ep_start = time.time()\n",
    "    \n",
    "    # Training\n",
    "    running_loss_t = 0.0\n",
    "\n",
    "    for bx, (data) in enumerate(train_):\n",
    "        sample = model(data.to(device))\n",
    "        loss = criterion(data.to(device), sample)\n",
    "        optimizer.zero_grad()\n",
    "        loss.backward()\n",
    "        optimizer.step()\n",
    "        running_loss_t += loss.item()\n",
    "    train_loss = running_loss_t/len(train_set)\n",
    "    metrics['train_loss'].append(train_loss)\n",
    "    \n",
    "    # Validation\n",
    "    model.eval()\n",
    "    running_loss_v = 0.0\n",
    "    with torch.no_grad():\n",
    "        for bx, (data) in enumerate(valid_):\n",
    "            sample = model(data.to(device))\n",
    "            loss = criterion(data.to(device), sample)\n",
    "            accuracy = torch.sum(torch.isclose(data.to(device), sample, rtol=0.1))\n",
    "            running_loss_v += loss.item()\n",
    "    valid_loss = running_loss_v/len(valid_set)\n",
    "    metrics['valid_loss'].append(valid_loss)\n",
    "    \n",
    "    model.train()\n",
    "    \n",
    "    ep_end = time.time()\n",
    "    if (epoch+1) % 5 == 0:\n",
    "        print('-----------------------------------------------')\n",
    "        print('[EPOCH] {}/{}\\n[TRAIN LOSS] {}    [VALID LOSS] {}'.format(epoch+1, epochs, train_loss, valid_loss))\n",
    "        print('Epoch Complete in {}'.format(timedelta(seconds=ep_end-ep_start)))\n",
    "end = time.time()\n",
    "print('-----------------------------------------------')\n",
    "print('[System Complete: {}]'.format(timedelta(seconds=end-start)))"
   ]
  },
  {
   "cell_type": "code",
   "execution_count": 22,
   "id": "63f0b9df-69cb-41e0-a238-aa38190ec59a",
   "metadata": {},
   "outputs": [
    {
     "data": {
      "image/png": "[encoded data removed]",
      "text/plain": [
       "<Figure size 600x400 with 1 Axes>"
      ]
     },
     "metadata": {},
     "output_type": "display_data"
    }
   ],
   "source": [
    "# Loss\n",
    "\n",
    "_, ax = plt.subplots(1, 1, figsize=(6, 4))\n",
    "ax.set_title('Loss')\n",
    "ax.plot(metrics['train_loss'])\n",
    "ax.plot(metrics['valid_loss'])\n",
    "plt.show();"
   ]
  },
  {
   "cell_type": "markdown",
   "id": "7a439320-3074-4e43-b4c8-450c1b4fde4a",
   "metadata": {},
   "source": [
    "# 4. 임계값 정의"
   ]
  },
  {
   "cell_type": "code",
   "execution_count": 23,
   "id": "df6c5e38-55e9-4aec-b3ab-99cd5abe765f",
   "metadata": {},
   "outputs": [],
   "source": [
    "# 학습 데이터의 예측값\n",
    "\n",
    "rg3_train_pred = model(torch.tensor(rg3_train_Y).float())"
   ]
  },
  {
   "cell_type": "code",
   "execution_count": 24,
   "id": "1fc785ca-7db7-43df-88cb-4a9e2e97f008",
   "metadata": {},
   "outputs": [
    {
     "data": {
      "text/plain": [
       "tensor([[0.3353, 0.0000, 0.4503,  ..., 0.7713, 0.2252, 0.1853],\n",
       "        [0.3361, 0.0000, 0.4588,  ..., 0.7515, 0.1640, 0.1396],\n",
       "        [0.3284, 0.0394, 0.3911,  ..., 0.7620, 0.4162, 0.3618],\n",
       "        ...,\n",
       "        [0.3345, 0.2435, 0.3177,  ..., 0.5829, 0.5233, 0.5178],\n",
       "        [0.3299, 0.1791, 0.3390,  ..., 0.6169, 0.5053, 0.4925],\n",
       "        [0.3335, 0.1886, 0.3411,  ..., 0.6273, 0.4784, 0.4627]],\n",
       "       grad_fn=<ReluBackward0>)"
      ]
     },
     "execution_count": 24,
     "metadata": {},
     "output_type": "execute_result"
    }
   ],
   "source": [
    "rg3_train_pred"
   ]
  },
  {
   "cell_type": "code",
   "execution_count": 25,
   "id": "c2fdddaf-7263-4ef6-8054-70605d3ab662",
   "metadata": {},
   "outputs": [],
   "source": [
    "# 학습 데이터의 복원 오차 (예측값 - 실제값)\n",
    "\n",
    "difference = rg3_train_pred.detach().numpy() - rg3_train_Y\n",
    "\n",
    "rg3_train_loss = np.mean(np.square(difference), axis=1)"
   ]
  },
  {
   "cell_type": "code",
   "execution_count": 26,
   "id": "424b2f43-0ddb-418a-ac9e-677a4331d66e",
   "metadata": {},
   "outputs": [
    {
     "data": {
      "text/plain": [
       "(754,)"
      ]
     },
     "execution_count": 26,
     "metadata": {},
     "output_type": "execute_result"
    }
   ],
   "source": [
    "rg3_train_loss.shape"
   ]
  },
  {
   "cell_type": "code",
   "execution_count": 27,
   "id": "5fc04274-8886-4f8b-9ba8-c550ad41ac62",
   "metadata": {},
   "outputs": [
    {
     "name": "stdout",
     "output_type": "stream",
     "text": [
      "복원 오류 임계치:  0.051437682884240096\n"
     ]
    }
   ],
   "source": [
    "# 입계치 (3 시그마 사용)\n",
    "\n",
    "threshold = np.mean(rg3_train_loss) + 3*np.std(rg3_train_loss)\n",
    "print(\"복원 오류 임계치: \", threshold)"
   ]
  },
  {
   "cell_type": "markdown",
   "id": "6e674593-3220-409c-82bf-08b3f330cf2e",
   "metadata": {},
   "source": [
    "# 5. 데이터 각각의 예측값과 복원 오차 확인"
   ]
  },
  {
   "cell_type": "markdown",
   "id": "bcb19903-b68f-4fb5-9169-2f1c2f4bde9e",
   "metadata": {},
   "source": [
    "## 5.1. 평가 데이터 (양품) 대상 모델 성능 검증 "
   ]
  },
  {
   "cell_type": "code",
   "execution_count": 28,
   "id": "f13a656e-0223-41e7-8c88-a854000bcb48",
   "metadata": {},
   "outputs": [],
   "source": [
    "# 예측값\n",
    "rg3_predict_Y = model(torch.tensor(rg3_test_Y).float())"
   ]
  },
  {
   "cell_type": "code",
   "execution_count": 29,
   "id": "8a506893-c348-4942-ab36-97131a65b99d",
   "metadata": {},
   "outputs": [
    {
     "data": {
      "text/plain": [
       "tensor([[0.3293, 0.1432, 0.3622,  ..., 0.6233, 0.4456, 0.4382],\n",
       "        [0.3332, 0.1982, 0.3443,  ..., 0.5938, 0.4595, 0.4588],\n",
       "        [0.3313, 0.2389, 0.2833,  ..., 0.6456, 0.6791, 0.6361],\n",
       "        ...,\n",
       "        [0.6001, 0.5005, 0.5908,  ..., 0.3863, 0.5963, 0.7001],\n",
       "        [0.6117, 0.4809, 0.6322,  ..., 0.3815, 0.4996, 0.6273],\n",
       "        [0.6851, 0.5139, 0.7335,  ..., 0.3477, 0.4459, 0.6150]],\n",
       "       grad_fn=<ReluBackward0>)"
      ]
     },
     "execution_count": 29,
     "metadata": {},
     "output_type": "execute_result"
    }
   ],
   "source": [
    "rg3_predict_Y"
   ]
  },
  {
   "cell_type": "code",
   "execution_count": 30,
   "id": "90ccf779-c4f5-4976-8ba0-e3ed0d014422",
   "metadata": {},
   "outputs": [],
   "source": [
    "# 양품 평가 데이터의 복원 오차 (예측값 - 실제값)\n",
    "\n",
    "rg3_test_Y_mse = np.mean(np.square(rg3_predict_Y.detach().numpy() - rg3_test_Y), axis=1)"
   ]
  },
  {
   "cell_type": "code",
   "execution_count": 31,
   "id": "a712c184-6457-4df3-94d4-a8731585394b",
   "metadata": {},
   "outputs": [
    {
     "data": {
      "text/plain": [
       "(470,)"
      ]
     },
     "execution_count": 31,
     "metadata": {},
     "output_type": "execute_result"
    }
   ],
   "source": [
    "rg3_test_Y_mse.shape"
   ]
  },
  {
   "cell_type": "code",
   "execution_count": 32,
   "id": "5e57b830-3e15-4684-bdb7-ef7d5e1af119",
   "metadata": {},
   "outputs": [
    {
     "data": {
      "image/png": "[encoded data removed]",
      "text/plain": [
       "<Figure size 640x480 with 1 Axes>"
      ]
     },
     "metadata": {},
     "output_type": "display_data"
    }
   ],
   "source": [
    "# 시각화\n",
    "\n",
    "plt.hist(rg3_test_Y_mse, bins=50)\n",
    "plt.xlabel(\"test MSE loss\")\n",
    "plt.ylabel(\"No of samples\")\n",
    "plt.vlines(threshold, 0, 50, color=\"red\")\n",
    "plt.show();"
   ]
  },
  {
   "cell_type": "code",
   "execution_count": 33,
   "id": "1bbc188b-403f-4751-a161-ed63f8abc49f",
   "metadata": {},
   "outputs": [
    {
     "name": "stdout",
     "output_type": "stream",
     "text": [
      "불량 개수:  13\n",
      "정확도:  0.9723404255319149\n"
     ]
    }
   ],
   "source": [
    "# 불량으로 판단한 데이터 확인\n",
    "\n",
    "rg3_test_Y_anomalies = rg3_test_Y_mse > threshold\n",
    "print(\"불량 개수: \", np.sum(rg3_test_Y_anomalies))\n",
    "print(\"정확도: \", (rg3_test_Y.shape[0]-np.sum(rg3_test_Y_anomalies))/rg3_test_Y.shape[0])"
   ]
  },
  {
   "cell_type": "markdown",
   "id": "055407b1-4ea7-40c4-abca-00580ba44869",
   "metadata": {},
   "source": [
    "## 5.2. 평가 데이터 (불량) 대상 모델 성능 검증 "
   ]
  },
  {
   "cell_type": "code",
   "execution_count": 34,
   "id": "2dd8090b-ff11-4c2e-a7df-d23c4a1af6d3",
   "metadata": {},
   "outputs": [],
   "source": [
    "# 예측값\n",
    "rg3_predict_N = model(torch.tensor(rg3_test_N).float())"
   ]
  },
  {
   "cell_type": "code",
   "execution_count": 35,
   "id": "68f55c1a-f5d9-46a6-ae05-ca0113e3dc1c",
   "metadata": {},
   "outputs": [
    {
     "data": {
      "text/plain": [
       "torch.Size([32, 24])"
      ]
     },
     "execution_count": 35,
     "metadata": {},
     "output_type": "execute_result"
    }
   ],
   "source": [
    "rg3_predict_N.shape"
   ]
  },
  {
   "cell_type": "code",
   "execution_count": 36,
   "id": "ba6c82ea-7d60-4e9f-81d3-a057f8775306",
   "metadata": {},
   "outputs": [],
   "source": [
    "# 불량 평가 데이터의 복원 오차 (예측값 - 실제값)\n",
    "\n",
    "rg3_test_N_mse = np.mean(np.square(rg3_predict_N.detach().numpy() - rg3_test_N), axis=1)"
   ]
  },
  {
   "cell_type": "code",
   "execution_count": 37,
   "id": "afeed421-e263-4552-b750-24405c3fecb1",
   "metadata": {},
   "outputs": [
    {
     "data": {
      "text/plain": [
       "array([0.03009565, 0.04700992, 0.0444475 , 0.02641635, 0.02531551,\n",
       "       0.0608146 , 0.04185848, 0.03761752, 0.05468281, 0.06037753,\n",
       "       0.0364161 , 0.04026388, 0.04607274, 0.04903914, 0.02903764,\n",
       "       0.06297662, 0.05308934, 0.03395661, 0.04783331, 0.04134465,\n",
       "       0.07232842, 0.06238261, 0.06785979, 0.03726327, 0.0369613 ,\n",
       "       0.0293808 , 0.03410937, 0.04607163, 0.03607008, 0.0499813 ,\n",
       "       0.0912341 , 0.0407135 ])"
      ]
     },
     "execution_count": 37,
     "metadata": {},
     "output_type": "execute_result"
    }
   ],
   "source": [
    "rg3_test_N_mse"
   ]
  },
  {
   "cell_type": "code",
   "execution_count": 38,
   "id": "81d6064b-f17e-43cf-a8fc-bbc96900e8af",
   "metadata": {},
   "outputs": [
    {
     "data": {
      "image/png": "[encoded data removed]",
      "text/plain": [
       "<Figure size 640x480 with 1 Axes>"
      ]
     },
     "metadata": {},
     "output_type": "display_data"
    }
   ],
   "source": [
    "# 시각화\n",
    "\n",
    "plt.hist(rg3_test_N_mse, bins=50)\n",
    "plt.xlabel(\"test MSE loss\")\n",
    "plt.ylabel(\"No of samples\")\n",
    "plt.vlines(threshold, 0, 5, color=\"red\")\n",
    "plt.show();"
   ]
  },
  {
   "cell_type": "code",
   "execution_count": 39,
   "id": "695fe8ac-cdda-4b8b-b41a-649f41993637",
   "metadata": {},
   "outputs": [
    {
     "name": "stdout",
     "output_type": "stream",
     "text": [
      "불량 개수:  9\n",
      "정확도:  0.28125\n"
     ]
    }
   ],
   "source": [
    "# 불량으로 판단한 데이터 확인\n",
    "\n",
    "rg3_test_N_anomalies = rg3_test_N_mse > threshold\n",
    "print(\"불량 개수: \", np.sum(rg3_test_N_anomalies))\n",
    "print(\"정확도: \", np.sum(rg3_test_N_anomalies)/rg3_test_N.shape[0])"
   ]
  },
  {
   "cell_type": "markdown",
   "id": "d950e685-039b-415c-95e4-cccf396de964",
   "metadata": {},
   "source": [
    "# 6. 결과 분석"
   ]
  },
  {
   "cell_type": "code",
   "execution_count": 40,
   "id": "9068d6e4-eda8-464f-8f6d-ff38bd2cad87",
   "metadata": {},
   "outputs": [],
   "source": [
    "# 평가 데이터의 실제값\n",
    "\n",
    "rg3_true = np.concatenate(\n",
    "    [np.zeros(len(rg3_test_Y_anomalies)), np.ones(len(rg3_test_N_anomalies))]\n",
    ")"
   ]
  },
  {
   "cell_type": "code",
   "execution_count": 41,
   "id": "b3d1d971-bce1-4425-853f-2b6ec9d41b26",
   "metadata": {},
   "outputs": [
    {
     "data": {
      "text/plain": [
       "(502,)"
      ]
     },
     "execution_count": 41,
     "metadata": {},
     "output_type": "execute_result"
    }
   ],
   "source": [
    "rg3_true.shape"
   ]
  },
  {
   "cell_type": "code",
   "execution_count": 42,
   "id": "0130a09a-8455-4d42-884b-ae31fbb4e326",
   "metadata": {},
   "outputs": [],
   "source": [
    "# 평가 데이터의 예측값\n",
    "\n",
    "rg3_prediction = np.concatenate(\n",
    "    [rg3_test_Y_anomalies, rg3_test_N_anomalies]\n",
    ")"
   ]
  },
  {
   "cell_type": "code",
   "execution_count": 43,
   "id": "5d65637d-b14f-4dbc-85ae-1b02a6b56c18",
   "metadata": {},
   "outputs": [
    {
     "data": {
      "text/plain": [
       "(502,)"
      ]
     },
     "execution_count": 43,
     "metadata": {},
     "output_type": "execute_result"
    }
   ],
   "source": [
    "rg3_prediction.shape"
   ]
  },
  {
   "cell_type": "code",
   "execution_count": 44,
   "id": "09bf7653-cf80-414b-936c-16282d427e8a",
   "metadata": {},
   "outputs": [
    {
     "data": {
      "text/plain": [
       "array([[457,  13],\n",
       "       [ 23,   9]], dtype=int64)"
      ]
     },
     "execution_count": 44,
     "metadata": {},
     "output_type": "execute_result"
    }
   ],
   "source": [
    "confusion_matrix(rg3_true, rg3_prediction)"
   ]
  },
  {
   "cell_type": "code",
   "execution_count": 45,
   "id": "cff3821f-1959-42d7-96d1-2b7c4d727726",
   "metadata": {},
   "outputs": [
    {
     "name": "stdout",
     "output_type": "stream",
     "text": [
      "              precision    recall  f1-score   support\n",
      "\n",
      "         0.0       0.95      0.97      0.96       470\n",
      "         1.0       0.41      0.28      0.33        32\n",
      "\n",
      "    accuracy                           0.93       502\n",
      "   macro avg       0.68      0.63      0.65       502\n",
      "weighted avg       0.92      0.93      0.92       502\n",
      "\n"
     ]
    }
   ],
   "source": [
    "print(classification_report(rg3_true, rg3_prediction))"
   ]
  },
  {
   "cell_type": "code",
   "execution_count": null,
   "id": "d683b801-965e-439d-85c8-a8a037a6a5d3",
   "metadata": {},
   "outputs": [],
   "source": []
  }
 ],
 "metadata": {
  "kernelspec": {
   "display_name": "Python [conda env:ls_env]",
   "language": "python",
   "name": "conda-env-ls_env-py"
  },
  "language_info": {
   "codemirror_mode": {
    "name": "ipython",
    "version": 3
   },
   "file_extension": ".py",
   "mimetype": "text/x-python",
   "name": "python",
   "nbconvert_exporter": "python",
   "pygments_lexer": "ipython3",
   "version": "3.10.8"
  }
 },
 "nbformat": 4,
 "nbformat_minor": 5
}
